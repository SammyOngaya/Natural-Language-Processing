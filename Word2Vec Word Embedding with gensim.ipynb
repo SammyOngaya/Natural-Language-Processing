{
 "cells": [
  {
   "cell_type": "markdown",
   "metadata": {},
   "source": [
    "<div align='center'><h1>Word Embedding With gensim</h1></div>\n",
    "\n",
    "Word embedding also reffered to as distributed semantic model or semantic vector space or vector space model is a language modeling and feature learning technique that clusters similar words together. The most commond word embedding vectors are word2vec (Google), Glove (Stanford) and fastest (Facebook). Word embedding is applied in text classification, document clustering,dimensional reduction,topic modeling, feature generation among other NLP tasks such as sentiment analysis.<p>\n",
    "Unlike the Latent Semantic Analysis technique that ignores words order and context the word embedding technique considers the order of words and context in the sentence.</p>\n",
    "<p>Word2Vec employs the Continous Bag of Word model (CBOW) and Skip-gram model</p>"
   ]
  },
  {
   "cell_type": "markdown",
   "metadata": {},
   "source": [
    "Install gensim"
   ]
  },
  {
   "cell_type": "code",
   "execution_count": 1,
   "metadata": {},
   "outputs": [],
   "source": [
    "# !pip install gensim"
   ]
  },
  {
   "cell_type": "markdown",
   "metadata": {},
   "source": [
    "Import libraries"
   ]
  },
  {
   "cell_type": "code",
   "execution_count": 2,
   "metadata": {},
   "outputs": [],
   "source": [
    "import pandas as pd\n",
    "import numpy as np\n",
    "\n",
    "from nltk.tokenize import word_tokenize\n",
    "import gensim\n",
    "\n",
    "\n",
    "import warnings\n",
    "import time"
   ]
  },
  {
   "cell_type": "code",
   "execution_count": 3,
   "metadata": {},
   "outputs": [],
   "source": [
    "warnings.filterwarnings('ignore')\n",
    "start_time=time.time() # start time counter "
   ]
  },
  {
   "cell_type": "markdown",
   "metadata": {},
   "source": [
    "Load data from csv"
   ]
  },
  {
   "cell_type": "code",
   "execution_count": 4,
   "metadata": {},
   "outputs": [],
   "source": [
    "train=pd.read_csv('datasets/Sentiment Analysis on Movie Reviews/train.tsv',sep='\\t')\n",
    "test=pd.read_csv('datasets/Sentiment Analysis on Movie Reviews/test.tsv',sep='\\t')"
   ]
  },
  {
   "cell_type": "markdown",
   "metadata": {},
   "source": [
    "Given a tokenized text below"
   ]
  },
  {
   "cell_type": "code",
   "execution_count": 5,
   "metadata": {},
   "outputs": [],
   "source": [
    "sentence = [['first', 'sentence'], ['second', 'sentence'],['The','quick','brown','fox','jumped','over','the','lazy','dog']]"
   ]
  },
  {
   "cell_type": "code",
   "execution_count": 6,
   "metadata": {},
   "outputs": [
    {
     "data": {
      "text/plain": [
       "[['first', 'sentence'],\n",
       " ['second', 'sentence'],\n",
       " ['The', 'quick', 'brown', 'fox', 'jumped', 'over', 'the', 'lazy', 'dog']]"
      ]
     },
     "execution_count": 6,
     "metadata": {},
     "output_type": "execute_result"
    }
   ],
   "source": [
    "sentence"
   ]
  },
  {
   "cell_type": "markdown",
   "metadata": {},
   "source": [
    "Creating our word2vec model"
   ]
  },
  {
   "cell_type": "code",
   "execution_count": 7,
   "metadata": {},
   "outputs": [
    {
     "data": {
      "text/plain": [
       "<gensim.models.word2vec.Word2Vec at 0x122b2d42ba8>"
      ]
     },
     "execution_count": 7,
     "metadata": {},
     "output_type": "execute_result"
    }
   ],
   "source": [
    "model=gensim.models.Word2Vec(sentence, min_count=1)\n",
    "model"
   ]
  },
  {
   "cell_type": "markdown",
   "metadata": {},
   "source": [
    "Retrieve trained tokens"
   ]
  },
  {
   "cell_type": "code",
   "execution_count": 8,
   "metadata": {},
   "outputs": [
    {
     "name": "stdout",
     "output_type": "stream",
     "text": [
      "{'first': <gensim.models.keyedvectors.Vocab object at 0x00000122B2D42780>, 'sentence': <gensim.models.keyedvectors.Vocab object at 0x00000122B2D427B8>, 'second': <gensim.models.keyedvectors.Vocab object at 0x00000122B2D42898>, 'The': <gensim.models.keyedvectors.Vocab object at 0x00000122B2D429B0>, 'quick': <gensim.models.keyedvectors.Vocab object at 0x00000122B2D42B00>, 'brown': <gensim.models.keyedvectors.Vocab object at 0x00000122B2D42860>, 'fox': <gensim.models.keyedvectors.Vocab object at 0x00000122B2D42DD8>, 'jumped': <gensim.models.keyedvectors.Vocab object at 0x00000122B2D42EB8>, 'over': <gensim.models.keyedvectors.Vocab object at 0x00000122B2D42F28>, 'the': <gensim.models.keyedvectors.Vocab object at 0x00000122B2D42F60>, 'lazy': <gensim.models.keyedvectors.Vocab object at 0x00000122B2D42F98>, 'dog': <gensim.models.keyedvectors.Vocab object at 0x00000122B2D42FD0>}\n"
     ]
    }
   ],
   "source": [
    "print(model.wv.vocab)"
   ]
  },
  {
   "cell_type": "markdown",
   "metadata": {},
   "source": [
    "Retrieve specific token"
   ]
  },
  {
   "cell_type": "code",
   "execution_count": 9,
   "metadata": {},
   "outputs": [
    {
     "data": {
      "text/plain": [
       "array([ 1.3444239e-03,  1.1104505e-03,  3.6670668e-03, -3.0380755e-03,\n",
       "       -3.3615467e-03, -1.9463634e-03, -1.2481274e-03,  1.0538081e-03,\n",
       "       -3.6050205e-03,  4.2925994e-03, -2.9276311e-05,  3.1682974e-04,\n",
       "       -4.9738334e-03, -3.5612884e-03,  2.7165341e-03,  2.2008005e-03,\n",
       "        1.5345173e-03,  3.3954033e-03,  1.5392535e-03, -4.4847829e-03,\n",
       "       -3.9660102e-03, -1.9249116e-03,  1.3263862e-03,  3.2848583e-03,\n",
       "       -2.3643472e-03, -4.2245239e-03, -3.3974333e-03, -4.3180822e-03,\n",
       "       -4.0708003e-03,  3.6243810e-03, -2.9957425e-03,  4.5632175e-03,\n",
       "       -2.4008495e-03,  2.2425840e-03,  1.4362979e-04,  3.1948423e-03,\n",
       "        8.5834594e-04,  7.6305954e-04, -2.6896708e-03,  2.0214629e-03,\n",
       "        3.9405557e-03, -3.4368099e-03, -1.7015096e-04, -2.3499890e-03,\n",
       "       -3.2946263e-03,  4.4315797e-03, -2.5225764e-03, -7.3602569e-04,\n",
       "        6.7232491e-04,  1.1447320e-03,  1.9797492e-03,  4.5907195e-03,\n",
       "       -3.4033970e-03, -3.6840437e-03,  1.5390447e-03, -2.4238331e-03,\n",
       "       -3.3634740e-03,  1.7129141e-03,  3.0047566e-04,  3.5276334e-03,\n",
       "        1.3272773e-03,  1.8902388e-03,  2.5926495e-04, -1.2139784e-03,\n",
       "        2.7488693e-05, -4.1262072e-04, -3.6882369e-03, -2.3948441e-03,\n",
       "        2.8118168e-03, -3.9665713e-03, -2.7776819e-03, -4.2957547e-03,\n",
       "        2.8216634e-03,  6.1154302e-04, -3.6691013e-03,  4.3338835e-03,\n",
       "        2.5606845e-04, -3.0863213e-03, -3.0662233e-03, -1.5711699e-03,\n",
       "       -6.9137686e-04, -1.1757932e-03, -8.7461126e-04,  4.7150436e-03,\n",
       "        4.5927027e-03, -1.2322306e-03, -4.1018715e-03, -2.8063336e-03,\n",
       "       -1.7700205e-03, -3.2228604e-03, -4.3385751e-03,  2.3915865e-03,\n",
       "        1.4713280e-03,  8.4554056e-05, -2.3391331e-03, -6.1096664e-04,\n",
       "       -2.5887620e-03,  9.8282588e-04,  2.7120819e-03, -2.2265289e-03],\n",
       "      dtype=float32)"
      ]
     },
     "execution_count": 9,
     "metadata": {},
     "output_type": "execute_result"
    }
   ],
   "source": [
    "model['brown']"
   ]
  },
  {
   "cell_type": "code",
   "execution_count": 10,
   "metadata": {},
   "outputs": [
    {
     "data": {
      "text/plain": [
       "array([-4.1620326e-03,  2.8649466e-03,  3.3951448e-03,  4.2346497e-03,\n",
       "        2.7630790e-03,  2.6403097e-03, -1.6289607e-03,  1.5152727e-03,\n",
       "        4.8343372e-03,  4.7482122e-03, -9.8178803e-04, -1.1004630e-03,\n",
       "       -3.2885119e-03,  2.8099411e-03,  2.5624995e-06,  4.7511309e-03,\n",
       "       -1.0801874e-03, -2.5383008e-03,  5.3330505e-04, -7.9630314e-05,\n",
       "       -4.1048969e-03,  1.2623504e-03, -2.6208479e-03, -2.5262889e-03,\n",
       "       -2.1007687e-03,  8.2671823e-04, -2.3572717e-03, -4.5172204e-03,\n",
       "        3.4260803e-03,  2.0435983e-03, -4.4283401e-03, -9.6844096e-04,\n",
       "        4.9431529e-03,  2.0875544e-03, -2.7192975e-03,  3.5008455e-03,\n",
       "        2.4198235e-03, -4.4839000e-03, -3.9422647e-03,  4.8295613e-03,\n",
       "        2.6938976e-03,  3.7575772e-03, -3.4073009e-03,  6.0748169e-04,\n",
       "       -3.5731371e-03, -4.6345843e-03, -2.1076205e-03, -2.8793234e-03,\n",
       "        2.5038333e-03, -5.8214759e-05, -5.5383513e-04,  4.9163834e-03,\n",
       "       -3.4966357e-03, -1.8735010e-04, -6.0397488e-05,  1.8623138e-03,\n",
       "       -4.0503892e-05,  8.7334384e-04, -3.8616613e-03, -3.8833963e-03,\n",
       "       -5.5029773e-04, -2.0791045e-03,  7.5517339e-04,  4.2254259e-03,\n",
       "       -2.7868557e-03,  4.8361877e-03, -3.0552819e-03, -2.4651117e-03,\n",
       "       -4.1640359e-03, -1.1120364e-03, -3.0070448e-03,  1.8337261e-03,\n",
       "       -3.3790234e-03, -3.2876842e-03,  2.8592893e-03, -5.5386328e-05,\n",
       "       -4.9937679e-03,  2.4372740e-03, -6.1986654e-04,  4.7075422e-03,\n",
       "       -4.0983870e-03, -3.9240387e-03,  1.7826720e-04, -1.4111002e-03,\n",
       "       -2.5095374e-03,  2.5307399e-03, -9.1331732e-04,  2.4714035e-03,\n",
       "       -2.3163513e-03, -4.5763552e-03, -3.6759954e-03, -4.7677536e-03,\n",
       "       -4.5714364e-03,  3.3685365e-03,  3.9752540e-03,  3.3298493e-03,\n",
       "       -1.3509124e-03, -4.1381863e-04,  4.2401617e-03,  4.3721055e-03],\n",
       "      dtype=float32)"
      ]
     },
     "execution_count": 10,
     "metadata": {},
     "output_type": "execute_result"
    }
   ],
   "source": [
    "model['fox']"
   ]
  },
  {
   "cell_type": "markdown",
   "metadata": {},
   "source": [
    "<h5>Out of Vocabulary word problem (OOV)</ h5>"
   ]
  },
  {
   "cell_type": "markdown",
   "metadata": {},
   "source": [
    "This is a major weakness of the word embedding where words that are not represented in the training corpus are not mapped to any vector space."
   ]
  },
  {
   "cell_type": "markdown",
   "metadata": {},
   "source": [
    "If we use the word 'India' which is not in the training corpus we get an error since the model doesn't recognize it."
   ]
  },
  {
   "cell_type": "code",
   "execution_count": 11,
   "metadata": {},
   "outputs": [
    {
     "ename": "KeyError",
     "evalue": "\"word 'India' not in vocabulary\"",
     "output_type": "error",
     "traceback": [
      "\u001b[1;31m---------------------------------------------------------------------------\u001b[0m",
      "\u001b[1;31mKeyError\u001b[0m                                  Traceback (most recent call last)",
      "\u001b[1;32m<ipython-input-11-f011f922562c>\u001b[0m in \u001b[0;36m<module>\u001b[1;34m()\u001b[0m\n\u001b[1;32m----> 1\u001b[1;33m \u001b[0mmodel\u001b[0m\u001b[1;33m[\u001b[0m\u001b[1;34m'India'\u001b[0m\u001b[1;33m]\u001b[0m\u001b[1;33m\u001b[0m\u001b[0m\n\u001b[0m",
      "\u001b[1;32m~\\Anaconda3\\lib\\site-packages\\gensim\\utils.py\u001b[0m in \u001b[0;36mnew_func1\u001b[1;34m(*args, **kwargs)\u001b[0m\n\u001b[0;32m   1459\u001b[0m                     \u001b[0mstacklevel\u001b[0m\u001b[1;33m=\u001b[0m\u001b[1;36m2\u001b[0m\u001b[1;33m\u001b[0m\u001b[0m\n\u001b[0;32m   1460\u001b[0m                 )\n\u001b[1;32m-> 1461\u001b[1;33m                 \u001b[1;32mreturn\u001b[0m \u001b[0mfunc\u001b[0m\u001b[1;33m(\u001b[0m\u001b[1;33m*\u001b[0m\u001b[0margs\u001b[0m\u001b[1;33m,\u001b[0m \u001b[1;33m**\u001b[0m\u001b[0mkwargs\u001b[0m\u001b[1;33m)\u001b[0m\u001b[1;33m\u001b[0m\u001b[0m\n\u001b[0m\u001b[0;32m   1462\u001b[0m \u001b[1;33m\u001b[0m\u001b[0m\n\u001b[0;32m   1463\u001b[0m             \u001b[1;32mreturn\u001b[0m \u001b[0mnew_func1\u001b[0m\u001b[1;33m\u001b[0m\u001b[0m\n",
      "\u001b[1;32m~\\Anaconda3\\lib\\site-packages\\gensim\\models\\word2vec.py\u001b[0m in \u001b[0;36m__getitem__\u001b[1;34m(self, words)\u001b[0m\n\u001b[0;32m    930\u001b[0m \u001b[1;33m\u001b[0m\u001b[0m\n\u001b[0;32m    931\u001b[0m         \"\"\"\n\u001b[1;32m--> 932\u001b[1;33m         \u001b[1;32mreturn\u001b[0m \u001b[0mself\u001b[0m\u001b[1;33m.\u001b[0m\u001b[0mwv\u001b[0m\u001b[1;33m.\u001b[0m\u001b[0m__getitem__\u001b[0m\u001b[1;33m(\u001b[0m\u001b[0mwords\u001b[0m\u001b[1;33m)\u001b[0m\u001b[1;33m\u001b[0m\u001b[0m\n\u001b[0m\u001b[0;32m    933\u001b[0m \u001b[1;33m\u001b[0m\u001b[0m\n\u001b[0;32m    934\u001b[0m     \u001b[1;33m@\u001b[0m\u001b[0mdeprecated\u001b[0m\u001b[1;33m(\u001b[0m\u001b[1;34m\"Method will be removed in 4.0.0, use self.wv.__contains__() instead\"\u001b[0m\u001b[1;33m)\u001b[0m\u001b[1;33m\u001b[0m\u001b[0m\n",
      "\u001b[1;32m~\\Anaconda3\\lib\\site-packages\\gensim\\models\\keyedvectors.py\u001b[0m in \u001b[0;36m__getitem__\u001b[1;34m(self, entities)\u001b[0m\n\u001b[0;32m    351\u001b[0m         \u001b[1;32mif\u001b[0m \u001b[0misinstance\u001b[0m\u001b[1;33m(\u001b[0m\u001b[0mentities\u001b[0m\u001b[1;33m,\u001b[0m \u001b[0mstring_types\u001b[0m\u001b[1;33m)\u001b[0m\u001b[1;33m:\u001b[0m\u001b[1;33m\u001b[0m\u001b[0m\n\u001b[0;32m    352\u001b[0m             \u001b[1;31m# allow calls like trained_model['office'], as a shorthand for trained_model[['office']]\u001b[0m\u001b[1;33m\u001b[0m\u001b[1;33m\u001b[0m\u001b[0m\n\u001b[1;32m--> 353\u001b[1;33m             \u001b[1;32mreturn\u001b[0m \u001b[0mself\u001b[0m\u001b[1;33m.\u001b[0m\u001b[0mget_vector\u001b[0m\u001b[1;33m(\u001b[0m\u001b[0mentities\u001b[0m\u001b[1;33m)\u001b[0m\u001b[1;33m\u001b[0m\u001b[0m\n\u001b[0m\u001b[0;32m    354\u001b[0m \u001b[1;33m\u001b[0m\u001b[0m\n\u001b[0;32m    355\u001b[0m         \u001b[1;32mreturn\u001b[0m \u001b[0mvstack\u001b[0m\u001b[1;33m(\u001b[0m\u001b[1;33m[\u001b[0m\u001b[0mself\u001b[0m\u001b[1;33m.\u001b[0m\u001b[0mget_vector\u001b[0m\u001b[1;33m(\u001b[0m\u001b[0mentity\u001b[0m\u001b[1;33m)\u001b[0m \u001b[1;32mfor\u001b[0m \u001b[0mentity\u001b[0m \u001b[1;32min\u001b[0m \u001b[0mentities\u001b[0m\u001b[1;33m]\u001b[0m\u001b[1;33m)\u001b[0m\u001b[1;33m\u001b[0m\u001b[0m\n",
      "\u001b[1;32m~\\Anaconda3\\lib\\site-packages\\gensim\\models\\keyedvectors.py\u001b[0m in \u001b[0;36mget_vector\u001b[1;34m(self, word)\u001b[0m\n\u001b[0;32m    469\u001b[0m \u001b[1;33m\u001b[0m\u001b[0m\n\u001b[0;32m    470\u001b[0m     \u001b[1;32mdef\u001b[0m \u001b[0mget_vector\u001b[0m\u001b[1;33m(\u001b[0m\u001b[0mself\u001b[0m\u001b[1;33m,\u001b[0m \u001b[0mword\u001b[0m\u001b[1;33m)\u001b[0m\u001b[1;33m:\u001b[0m\u001b[1;33m\u001b[0m\u001b[0m\n\u001b[1;32m--> 471\u001b[1;33m         \u001b[1;32mreturn\u001b[0m \u001b[0mself\u001b[0m\u001b[1;33m.\u001b[0m\u001b[0mword_vec\u001b[0m\u001b[1;33m(\u001b[0m\u001b[0mword\u001b[0m\u001b[1;33m)\u001b[0m\u001b[1;33m\u001b[0m\u001b[0m\n\u001b[0m\u001b[0;32m    472\u001b[0m \u001b[1;33m\u001b[0m\u001b[0m\n\u001b[0;32m    473\u001b[0m     \u001b[1;32mdef\u001b[0m \u001b[0mwords_closer_than\u001b[0m\u001b[1;33m(\u001b[0m\u001b[0mself\u001b[0m\u001b[1;33m,\u001b[0m \u001b[0mw1\u001b[0m\u001b[1;33m,\u001b[0m \u001b[0mw2\u001b[0m\u001b[1;33m)\u001b[0m\u001b[1;33m:\u001b[0m\u001b[1;33m\u001b[0m\u001b[0m\n",
      "\u001b[1;32m~\\Anaconda3\\lib\\site-packages\\gensim\\models\\keyedvectors.py\u001b[0m in \u001b[0;36mword_vec\u001b[1;34m(self, word, use_norm)\u001b[0m\n\u001b[0;32m    466\u001b[0m             \u001b[1;32mreturn\u001b[0m \u001b[0mresult\u001b[0m\u001b[1;33m\u001b[0m\u001b[0m\n\u001b[0;32m    467\u001b[0m         \u001b[1;32melse\u001b[0m\u001b[1;33m:\u001b[0m\u001b[1;33m\u001b[0m\u001b[0m\n\u001b[1;32m--> 468\u001b[1;33m             \u001b[1;32mraise\u001b[0m \u001b[0mKeyError\u001b[0m\u001b[1;33m(\u001b[0m\u001b[1;34m\"word '%s' not in vocabulary\"\u001b[0m \u001b[1;33m%\u001b[0m \u001b[0mword\u001b[0m\u001b[1;33m)\u001b[0m\u001b[1;33m\u001b[0m\u001b[0m\n\u001b[0m\u001b[0;32m    469\u001b[0m \u001b[1;33m\u001b[0m\u001b[0m\n\u001b[0;32m    470\u001b[0m     \u001b[1;32mdef\u001b[0m \u001b[0mget_vector\u001b[0m\u001b[1;33m(\u001b[0m\u001b[0mself\u001b[0m\u001b[1;33m,\u001b[0m \u001b[0mword\u001b[0m\u001b[1;33m)\u001b[0m\u001b[1;33m:\u001b[0m\u001b[1;33m\u001b[0m\u001b[0m\n",
      "\u001b[1;31mKeyError\u001b[0m: \"word 'India' not in vocabulary\""
     ]
    }
   ],
   "source": [
    "model['India']"
   ]
  },
  {
   "cell_type": "markdown",
   "metadata": {},
   "source": [
    "The Out of Vocabulary word problem is also case sensitive i.e the word fox and Fox are two different words."
   ]
  },
  {
   "cell_type": "code",
   "execution_count": 12,
   "metadata": {
    "scrolled": false
   },
   "outputs": [
    {
     "data": {
      "text/plain": [
       "array([-4.1620326e-03,  2.8649466e-03,  3.3951448e-03,  4.2346497e-03,\n",
       "        2.7630790e-03,  2.6403097e-03, -1.6289607e-03,  1.5152727e-03,\n",
       "        4.8343372e-03,  4.7482122e-03, -9.8178803e-04, -1.1004630e-03,\n",
       "       -3.2885119e-03,  2.8099411e-03,  2.5624995e-06,  4.7511309e-03,\n",
       "       -1.0801874e-03, -2.5383008e-03,  5.3330505e-04, -7.9630314e-05,\n",
       "       -4.1048969e-03,  1.2623504e-03, -2.6208479e-03, -2.5262889e-03,\n",
       "       -2.1007687e-03,  8.2671823e-04, -2.3572717e-03, -4.5172204e-03,\n",
       "        3.4260803e-03,  2.0435983e-03, -4.4283401e-03, -9.6844096e-04,\n",
       "        4.9431529e-03,  2.0875544e-03, -2.7192975e-03,  3.5008455e-03,\n",
       "        2.4198235e-03, -4.4839000e-03, -3.9422647e-03,  4.8295613e-03,\n",
       "        2.6938976e-03,  3.7575772e-03, -3.4073009e-03,  6.0748169e-04,\n",
       "       -3.5731371e-03, -4.6345843e-03, -2.1076205e-03, -2.8793234e-03,\n",
       "        2.5038333e-03, -5.8214759e-05, -5.5383513e-04,  4.9163834e-03,\n",
       "       -3.4966357e-03, -1.8735010e-04, -6.0397488e-05,  1.8623138e-03,\n",
       "       -4.0503892e-05,  8.7334384e-04, -3.8616613e-03, -3.8833963e-03,\n",
       "       -5.5029773e-04, -2.0791045e-03,  7.5517339e-04,  4.2254259e-03,\n",
       "       -2.7868557e-03,  4.8361877e-03, -3.0552819e-03, -2.4651117e-03,\n",
       "       -4.1640359e-03, -1.1120364e-03, -3.0070448e-03,  1.8337261e-03,\n",
       "       -3.3790234e-03, -3.2876842e-03,  2.8592893e-03, -5.5386328e-05,\n",
       "       -4.9937679e-03,  2.4372740e-03, -6.1986654e-04,  4.7075422e-03,\n",
       "       -4.0983870e-03, -3.9240387e-03,  1.7826720e-04, -1.4111002e-03,\n",
       "       -2.5095374e-03,  2.5307399e-03, -9.1331732e-04,  2.4714035e-03,\n",
       "       -2.3163513e-03, -4.5763552e-03, -3.6759954e-03, -4.7677536e-03,\n",
       "       -4.5714364e-03,  3.3685365e-03,  3.9752540e-03,  3.3298493e-03,\n",
       "       -1.3509124e-03, -4.1381863e-04,  4.2401617e-03,  4.3721055e-03],\n",
       "      dtype=float32)"
      ]
     },
     "execution_count": 12,
     "metadata": {},
     "output_type": "execute_result"
    }
   ],
   "source": [
    "model['fox']"
   ]
  },
  {
   "cell_type": "code",
   "execution_count": 13,
   "metadata": {},
   "outputs": [
    {
     "ename": "KeyError",
     "evalue": "\"word 'Fox' not in vocabulary\"",
     "output_type": "error",
     "traceback": [
      "\u001b[1;31m---------------------------------------------------------------------------\u001b[0m",
      "\u001b[1;31mKeyError\u001b[0m                                  Traceback (most recent call last)",
      "\u001b[1;32m<ipython-input-13-be20884dcae8>\u001b[0m in \u001b[0;36m<module>\u001b[1;34m()\u001b[0m\n\u001b[1;32m----> 1\u001b[1;33m \u001b[0mmodel\u001b[0m\u001b[1;33m[\u001b[0m\u001b[1;34m'Fox'\u001b[0m\u001b[1;33m]\u001b[0m\u001b[1;33m\u001b[0m\u001b[0m\n\u001b[0m",
      "\u001b[1;32m~\\Anaconda3\\lib\\site-packages\\gensim\\utils.py\u001b[0m in \u001b[0;36mnew_func1\u001b[1;34m(*args, **kwargs)\u001b[0m\n\u001b[0;32m   1459\u001b[0m                     \u001b[0mstacklevel\u001b[0m\u001b[1;33m=\u001b[0m\u001b[1;36m2\u001b[0m\u001b[1;33m\u001b[0m\u001b[0m\n\u001b[0;32m   1460\u001b[0m                 )\n\u001b[1;32m-> 1461\u001b[1;33m                 \u001b[1;32mreturn\u001b[0m \u001b[0mfunc\u001b[0m\u001b[1;33m(\u001b[0m\u001b[1;33m*\u001b[0m\u001b[0margs\u001b[0m\u001b[1;33m,\u001b[0m \u001b[1;33m**\u001b[0m\u001b[0mkwargs\u001b[0m\u001b[1;33m)\u001b[0m\u001b[1;33m\u001b[0m\u001b[0m\n\u001b[0m\u001b[0;32m   1462\u001b[0m \u001b[1;33m\u001b[0m\u001b[0m\n\u001b[0;32m   1463\u001b[0m             \u001b[1;32mreturn\u001b[0m \u001b[0mnew_func1\u001b[0m\u001b[1;33m\u001b[0m\u001b[0m\n",
      "\u001b[1;32m~\\Anaconda3\\lib\\site-packages\\gensim\\models\\word2vec.py\u001b[0m in \u001b[0;36m__getitem__\u001b[1;34m(self, words)\u001b[0m\n\u001b[0;32m    930\u001b[0m \u001b[1;33m\u001b[0m\u001b[0m\n\u001b[0;32m    931\u001b[0m         \"\"\"\n\u001b[1;32m--> 932\u001b[1;33m         \u001b[1;32mreturn\u001b[0m \u001b[0mself\u001b[0m\u001b[1;33m.\u001b[0m\u001b[0mwv\u001b[0m\u001b[1;33m.\u001b[0m\u001b[0m__getitem__\u001b[0m\u001b[1;33m(\u001b[0m\u001b[0mwords\u001b[0m\u001b[1;33m)\u001b[0m\u001b[1;33m\u001b[0m\u001b[0m\n\u001b[0m\u001b[0;32m    933\u001b[0m \u001b[1;33m\u001b[0m\u001b[0m\n\u001b[0;32m    934\u001b[0m     \u001b[1;33m@\u001b[0m\u001b[0mdeprecated\u001b[0m\u001b[1;33m(\u001b[0m\u001b[1;34m\"Method will be removed in 4.0.0, use self.wv.__contains__() instead\"\u001b[0m\u001b[1;33m)\u001b[0m\u001b[1;33m\u001b[0m\u001b[0m\n",
      "\u001b[1;32m~\\Anaconda3\\lib\\site-packages\\gensim\\models\\keyedvectors.py\u001b[0m in \u001b[0;36m__getitem__\u001b[1;34m(self, entities)\u001b[0m\n\u001b[0;32m    351\u001b[0m         \u001b[1;32mif\u001b[0m \u001b[0misinstance\u001b[0m\u001b[1;33m(\u001b[0m\u001b[0mentities\u001b[0m\u001b[1;33m,\u001b[0m \u001b[0mstring_types\u001b[0m\u001b[1;33m)\u001b[0m\u001b[1;33m:\u001b[0m\u001b[1;33m\u001b[0m\u001b[0m\n\u001b[0;32m    352\u001b[0m             \u001b[1;31m# allow calls like trained_model['office'], as a shorthand for trained_model[['office']]\u001b[0m\u001b[1;33m\u001b[0m\u001b[1;33m\u001b[0m\u001b[0m\n\u001b[1;32m--> 353\u001b[1;33m             \u001b[1;32mreturn\u001b[0m \u001b[0mself\u001b[0m\u001b[1;33m.\u001b[0m\u001b[0mget_vector\u001b[0m\u001b[1;33m(\u001b[0m\u001b[0mentities\u001b[0m\u001b[1;33m)\u001b[0m\u001b[1;33m\u001b[0m\u001b[0m\n\u001b[0m\u001b[0;32m    354\u001b[0m \u001b[1;33m\u001b[0m\u001b[0m\n\u001b[0;32m    355\u001b[0m         \u001b[1;32mreturn\u001b[0m \u001b[0mvstack\u001b[0m\u001b[1;33m(\u001b[0m\u001b[1;33m[\u001b[0m\u001b[0mself\u001b[0m\u001b[1;33m.\u001b[0m\u001b[0mget_vector\u001b[0m\u001b[1;33m(\u001b[0m\u001b[0mentity\u001b[0m\u001b[1;33m)\u001b[0m \u001b[1;32mfor\u001b[0m \u001b[0mentity\u001b[0m \u001b[1;32min\u001b[0m \u001b[0mentities\u001b[0m\u001b[1;33m]\u001b[0m\u001b[1;33m)\u001b[0m\u001b[1;33m\u001b[0m\u001b[0m\n",
      "\u001b[1;32m~\\Anaconda3\\lib\\site-packages\\gensim\\models\\keyedvectors.py\u001b[0m in \u001b[0;36mget_vector\u001b[1;34m(self, word)\u001b[0m\n\u001b[0;32m    469\u001b[0m \u001b[1;33m\u001b[0m\u001b[0m\n\u001b[0;32m    470\u001b[0m     \u001b[1;32mdef\u001b[0m \u001b[0mget_vector\u001b[0m\u001b[1;33m(\u001b[0m\u001b[0mself\u001b[0m\u001b[1;33m,\u001b[0m \u001b[0mword\u001b[0m\u001b[1;33m)\u001b[0m\u001b[1;33m:\u001b[0m\u001b[1;33m\u001b[0m\u001b[0m\n\u001b[1;32m--> 471\u001b[1;33m         \u001b[1;32mreturn\u001b[0m \u001b[0mself\u001b[0m\u001b[1;33m.\u001b[0m\u001b[0mword_vec\u001b[0m\u001b[1;33m(\u001b[0m\u001b[0mword\u001b[0m\u001b[1;33m)\u001b[0m\u001b[1;33m\u001b[0m\u001b[0m\n\u001b[0m\u001b[0;32m    472\u001b[0m \u001b[1;33m\u001b[0m\u001b[0m\n\u001b[0;32m    473\u001b[0m     \u001b[1;32mdef\u001b[0m \u001b[0mwords_closer_than\u001b[0m\u001b[1;33m(\u001b[0m\u001b[0mself\u001b[0m\u001b[1;33m,\u001b[0m \u001b[0mw1\u001b[0m\u001b[1;33m,\u001b[0m \u001b[0mw2\u001b[0m\u001b[1;33m)\u001b[0m\u001b[1;33m:\u001b[0m\u001b[1;33m\u001b[0m\u001b[0m\n",
      "\u001b[1;32m~\\Anaconda3\\lib\\site-packages\\gensim\\models\\keyedvectors.py\u001b[0m in \u001b[0;36mword_vec\u001b[1;34m(self, word, use_norm)\u001b[0m\n\u001b[0;32m    466\u001b[0m             \u001b[1;32mreturn\u001b[0m \u001b[0mresult\u001b[0m\u001b[1;33m\u001b[0m\u001b[0m\n\u001b[0;32m    467\u001b[0m         \u001b[1;32melse\u001b[0m\u001b[1;33m:\u001b[0m\u001b[1;33m\u001b[0m\u001b[0m\n\u001b[1;32m--> 468\u001b[1;33m             \u001b[1;32mraise\u001b[0m \u001b[0mKeyError\u001b[0m\u001b[1;33m(\u001b[0m\u001b[1;34m\"word '%s' not in vocabulary\"\u001b[0m \u001b[1;33m%\u001b[0m \u001b[0mword\u001b[0m\u001b[1;33m)\u001b[0m\u001b[1;33m\u001b[0m\u001b[0m\n\u001b[0m\u001b[0;32m    469\u001b[0m \u001b[1;33m\u001b[0m\u001b[0m\n\u001b[0;32m    470\u001b[0m     \u001b[1;32mdef\u001b[0m \u001b[0mget_vector\u001b[0m\u001b[1;33m(\u001b[0m\u001b[0mself\u001b[0m\u001b[1;33m,\u001b[0m \u001b[0mword\u001b[0m\u001b[1;33m)\u001b[0m\u001b[1;33m:\u001b[0m\u001b[1;33m\u001b[0m\u001b[0m\n",
      "\u001b[1;31mKeyError\u001b[0m: \"word 'Fox' not in vocabulary\""
     ]
    }
   ],
   "source": [
    "model['Fox']"
   ]
  },
  {
   "cell_type": "code",
   "execution_count": 14,
   "metadata": {},
   "outputs": [],
   "source": [
    "def document_vecors(text):\n",
    "    doc_vectors=[word for word in list(text) if word in model.wv.vocab]\n",
    "    return np.mean(model[doc_vectors], axis=0)"
   ]
  },
  {
   "cell_type": "code",
   "execution_count": 15,
   "metadata": {},
   "outputs": [
    {
     "data": {
      "text/plain": [
       "array([-1.40880444e-03,  1.98769849e-03,  3.53110582e-03,  5.98287093e-04,\n",
       "       -2.99233827e-04,  3.46973189e-04, -1.43854413e-03,  1.28454040e-03,\n",
       "        6.14658347e-04,  4.52040602e-03, -5.05532196e-04, -3.91816604e-04,\n",
       "       -4.13117278e-03, -3.75673641e-04,  1.35954830e-03,  3.47596570e-03,\n",
       "        2.27164943e-04,  4.28551226e-04,  1.03627925e-03, -2.28220667e-03,\n",
       "       -4.03545331e-03, -3.31280637e-04, -6.47230831e-04,  3.79284727e-04,\n",
       "       -2.23255809e-03, -1.69890281e-03, -2.87735253e-03, -4.41765133e-03,\n",
       "       -3.22359963e-04,  2.83398968e-03, -3.71204130e-03,  1.79738831e-03,\n",
       "        1.27115170e-03,  2.16506934e-03, -1.28783390e-03,  3.34784389e-03,\n",
       "        1.63908477e-03, -1.86042022e-03, -3.31596774e-03,  3.42551200e-03,\n",
       "        3.31722666e-03,  1.60383643e-04, -1.78872596e-03, -8.71253666e-04,\n",
       "       -3.43388179e-03, -1.01502286e-04, -2.31509842e-03, -1.80767453e-03,\n",
       "        1.58807915e-03,  5.43258619e-04,  7.12957000e-04,  4.75355145e-03,\n",
       "       -3.45001649e-03, -1.93569693e-03,  7.39323616e-04, -2.80759647e-04,\n",
       "       -1.70198898e-03,  1.29312894e-03, -1.78059284e-03, -1.77881448e-04,\n",
       "        3.88489774e-04, -9.44328494e-05,  5.07219171e-04,  1.50572369e-03,\n",
       "       -1.37968350e-03,  2.21178355e-03, -3.37175932e-03, -2.42997799e-03,\n",
       "       -6.76109572e-04, -2.53930385e-03, -2.89236335e-03, -1.23101426e-03,\n",
       "       -2.78680003e-04, -1.33807061e-03, -4.04905993e-04,  2.13924865e-03,\n",
       "       -2.36884970e-03, -3.24523658e-04, -1.84304500e-03,  1.56818610e-03,\n",
       "       -2.39488203e-03, -2.54991604e-03, -3.48172034e-04,  1.65197172e-03,\n",
       "        1.04158267e-03,  6.49254653e-04, -2.50759441e-03, -1.67465070e-04,\n",
       "       -2.04318576e-03, -3.89960781e-03, -4.00728546e-03, -1.18808355e-03,\n",
       "       -1.55005418e-03,  1.72654528e-03,  8.18060478e-04,  1.35944132e-03,\n",
       "       -1.96983712e-03,  2.84503622e-04,  3.47612193e-03,  1.07278826e-03],\n",
       "      dtype=float32)"
      ]
     },
     "execution_count": 15,
     "metadata": {},
     "output_type": "execute_result"
    }
   ],
   "source": [
    "document_vecors(['brown','fox'])"
   ]
  },
  {
   "cell_type": "markdown",
   "metadata": {},
   "source": [
    "<h5>Creating embedding from dataframe data<h5>"
   ]
  },
  {
   "cell_type": "code",
   "execution_count": 16,
   "metadata": {},
   "outputs": [
    {
     "data": {
      "text/html": [
       "<div>\n",
       "<style scoped>\n",
       "    .dataframe tbody tr th:only-of-type {\n",
       "        vertical-align: middle;\n",
       "    }\n",
       "\n",
       "    .dataframe tbody tr th {\n",
       "        vertical-align: top;\n",
       "    }\n",
       "\n",
       "    .dataframe thead th {\n",
       "        text-align: right;\n",
       "    }\n",
       "</style>\n",
       "<table border=\"1\" class=\"dataframe\">\n",
       "  <thead>\n",
       "    <tr style=\"text-align: right;\">\n",
       "      <th></th>\n",
       "      <th>PhraseId</th>\n",
       "      <th>SentenceId</th>\n",
       "      <th>Phrase</th>\n",
       "      <th>Sentiment</th>\n",
       "    </tr>\n",
       "  </thead>\n",
       "  <tbody>\n",
       "    <tr>\n",
       "      <th>0</th>\n",
       "      <td>1</td>\n",
       "      <td>1</td>\n",
       "      <td>A series of escapades demonstrating the adage ...</td>\n",
       "      <td>1</td>\n",
       "    </tr>\n",
       "    <tr>\n",
       "      <th>1</th>\n",
       "      <td>2</td>\n",
       "      <td>1</td>\n",
       "      <td>A series of escapades demonstrating the adage ...</td>\n",
       "      <td>2</td>\n",
       "    </tr>\n",
       "    <tr>\n",
       "      <th>2</th>\n",
       "      <td>3</td>\n",
       "      <td>1</td>\n",
       "      <td>A series</td>\n",
       "      <td>2</td>\n",
       "    </tr>\n",
       "    <tr>\n",
       "      <th>3</th>\n",
       "      <td>4</td>\n",
       "      <td>1</td>\n",
       "      <td>A</td>\n",
       "      <td>2</td>\n",
       "    </tr>\n",
       "    <tr>\n",
       "      <th>4</th>\n",
       "      <td>5</td>\n",
       "      <td>1</td>\n",
       "      <td>series</td>\n",
       "      <td>2</td>\n",
       "    </tr>\n",
       "  </tbody>\n",
       "</table>\n",
       "</div>"
      ],
      "text/plain": [
       "   PhraseId  SentenceId                                             Phrase  \\\n",
       "0         1           1  A series of escapades demonstrating the adage ...   \n",
       "1         2           1  A series of escapades demonstrating the adage ...   \n",
       "2         3           1                                           A series   \n",
       "3         4           1                                                  A   \n",
       "4         5           1                                             series   \n",
       "\n",
       "   Sentiment  \n",
       "0          1  \n",
       "1          2  \n",
       "2          2  \n",
       "3          2  \n",
       "4          2  "
      ]
     },
     "execution_count": 16,
     "metadata": {},
     "output_type": "execute_result"
    }
   ],
   "source": [
    "train.head()"
   ]
  },
  {
   "cell_type": "markdown",
   "metadata": {},
   "source": [
    "Tokenize the sentences to words"
   ]
  },
  {
   "cell_type": "code",
   "execution_count": 17,
   "metadata": {},
   "outputs": [],
   "source": [
    "train['token']=train['Phrase'].apply(lambda x: word_tokenize(x))"
   ]
  },
  {
   "cell_type": "markdown",
   "metadata": {},
   "source": [
    "Create Word2Vec model"
   ]
  },
  {
   "cell_type": "code",
   "execution_count": 18,
   "metadata": {},
   "outputs": [],
   "source": [
    "sentiment_w2v=gensim.models.Word2Vec(train['token'], size=500, window=10, min_count=1, iter=20)"
   ]
  },
  {
   "cell_type": "markdown",
   "metadata": {},
   "source": [
    "Vector size/embedding dimension"
   ]
  },
  {
   "cell_type": "code",
   "execution_count": 19,
   "metadata": {},
   "outputs": [
    {
     "data": {
      "text/plain": [
       "500"
      ]
     },
     "execution_count": 19,
     "metadata": {},
     "output_type": "execute_result"
    }
   ],
   "source": [
    "sentiment_w2v.vector_size"
   ]
  },
  {
   "cell_type": "markdown",
   "metadata": {},
   "source": [
    "Total number of words in the embedding"
   ]
  },
  {
   "cell_type": "code",
   "execution_count": 20,
   "metadata": {},
   "outputs": [
    {
     "data": {
      "text/plain": [
       "18238"
      ]
     },
     "execution_count": 20,
     "metadata": {},
     "output_type": "execute_result"
    }
   ],
   "source": [
    "len(sentiment_w2v.wv.vocab)"
   ]
  },
  {
   "cell_type": "markdown",
   "metadata": {},
   "source": [
    "View vocabulary"
   ]
  },
  {
   "cell_type": "code",
   "execution_count": 21,
   "metadata": {
    "scrolled": true
   },
   "outputs": [],
   "source": [
    "# print(list(sentiment_w2v.wv.vocab))"
   ]
  },
  {
   "cell_type": "markdown",
   "metadata": {},
   "source": [
    "Get similar words"
   ]
  },
  {
   "cell_type": "code",
   "execution_count": 22,
   "metadata": {},
   "outputs": [
    {
     "data": {
      "text/plain": [
       "[('coat', 0.7069823741912842),\n",
       " ('sweaty', 0.6475549340248108),\n",
       " ('shopping', 0.6032543182373047),\n",
       " ('desert', 0.5296441316604614),\n",
       " ('lameness', 0.5287156701087952),\n",
       " ('Characterisation', 0.5250074863433838),\n",
       " ('Stay', 0.515375018119812),\n",
       " ('bathtub', 0.4931764006614685),\n",
       " ('benchmark', 0.4913652837276459),\n",
       " ('redone', 0.48827600479125977)]"
      ]
     },
     "execution_count": 22,
     "metadata": {},
     "output_type": "execute_result"
    }
   ],
   "source": [
    "sentiment_w2v.most_similar(['rain'],topn=10)"
   ]
  },
  {
   "cell_type": "markdown",
   "metadata": {},
   "source": [
    "Get words similar to 'rain' or 'run'"
   ]
  },
  {
   "cell_type": "code",
   "execution_count": 23,
   "metadata": {},
   "outputs": [
    {
     "data": {
      "text/plain": [
       "[('bathtub', 0.48297005891799927),\n",
       " ('coat', 0.4805057644844055),\n",
       " ('hack-and-slash', 0.47248774766921997),\n",
       " ('shopping', 0.4706310033798218),\n",
       " ('gas', 0.46871045231819153),\n",
       " ('amok', 0.45066356658935547),\n",
       " ('police', 0.4446251094341278),\n",
       " ('stand-up-comedy', 0.4429571032524109),\n",
       " ('desert', 0.44139930605888367),\n",
       " ('broke', 0.4371606111526489)]"
      ]
     },
     "execution_count": 23,
     "metadata": {},
     "output_type": "execute_result"
    }
   ],
   "source": [
    "sentiment_w2v.wv.most_similar(positive=['rain','run'],topn=10)"
   ]
  },
  {
   "cell_type": "markdown",
   "metadata": {},
   "source": [
    "Get disimilar words"
   ]
  },
  {
   "cell_type": "code",
   "execution_count": 24,
   "metadata": {},
   "outputs": [
    {
     "data": {
      "text/plain": [
       "'bad'"
      ]
     },
     "execution_count": 24,
     "metadata": {},
     "output_type": "execute_result"
    }
   ],
   "source": [
    "sentiment_w2v.wv.doesnt_match(['raining','bad','morning'])"
   ]
  },
  {
   "cell_type": "markdown",
   "metadata": {},
   "source": [
    "Get similarity measure between two words"
   ]
  },
  {
   "cell_type": "code",
   "execution_count": 25,
   "metadata": {},
   "outputs": [
    {
     "data": {
      "text/plain": [
       "0.16102272"
      ]
     },
     "execution_count": 25,
     "metadata": {},
     "output_type": "execute_result"
    }
   ],
   "source": [
    "sentiment_w2v.similarity('rain','sun')"
   ]
  },
  {
   "cell_type": "markdown",
   "metadata": {},
   "source": [
    "Load google word2vec pre-trained embedding"
   ]
  },
  {
   "cell_type": "code",
   "execution_count": 26,
   "metadata": {},
   "outputs": [],
   "source": [
    "# import gensim.downloader as api\n",
    "# wv_embedding = api.load('word2vec-google-news-300')"
   ]
  },
  {
   "cell_type": "code",
   "execution_count": 27,
   "metadata": {},
   "outputs": [
    {
     "name": "stdout",
     "output_type": "stream",
     "text": [
      "55.4943790435791\n"
     ]
    }
   ],
   "source": [
    "# end time for running the entire notebook\n",
    "end_time=time.time()\n",
    "print(end_time-start_time)"
   ]
  },
  {
   "cell_type": "markdown",
   "metadata": {},
   "source": [
    "<div align='center'><h1>Conclusion<h1/><div />"
   ]
  },
  {
   "cell_type": "markdown",
   "metadata": {},
   "source": [
    "Word Embedding is a powerful technique of representing text in vector form. This technique ensures that the syntactic and semantic aspect of the text is preserved. By preserving the context of each word in the text we get to infere correctly to the meaning of each word in the discourse of communication. We have looked at Word2Vec which is one of the implementation of Word Embedding. Other Word embedding implementations include glove, and fasttext.<br /><br />\n",
    "One of the challenges of word embedding is the out of vocabulary word problem. The word that was not in the training corpus for embedding cannot be mapped into any vector space. This is a major challenges since the human language keeps evoling and new vocabularies are being invented daily not to mention errors the exisiting vocabularies by users."
   ]
  }
 ],
 "metadata": {
  "kernelspec": {
   "display_name": "Python 3",
   "language": "python",
   "name": "python3"
  },
  "language_info": {
   "codemirror_mode": {
    "name": "ipython",
    "version": 3
   },
   "file_extension": ".py",
   "mimetype": "text/x-python",
   "name": "python",
   "nbconvert_exporter": "python",
   "pygments_lexer": "ipython3",
   "version": "3.6.5"
  }
 },
 "nbformat": 4,
 "nbformat_minor": 2
}
