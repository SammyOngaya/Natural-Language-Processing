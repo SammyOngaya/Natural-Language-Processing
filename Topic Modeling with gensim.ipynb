{
 "cells": [
  {
   "cell_type": "markdown",
   "metadata": {},
   "source": [
    "# Topic Modeling"
   ]
  },
  {
   "cell_type": "markdown",
   "metadata": {},
   "source": [
    "In machine learning and natural language processing, a topic model is a type of statistical model for discovering the abstract \"topics\" that occur in a collection of documents. Topic modeling is a frequently used text-mining tool for discovery of hidden semantic structures in a text body. Intuitively, given that a document is about a particular topic, one would expect particular words to appear in the document more or less frequently: \"dog\" and \"bone\" will appear more often in documents about dogs, \"cat\" and \"meow\" will appear in documents about cats, and \"the\" and \"is\" will appear approximately equally in both.\n",
    "\n",
    "Topic modeling is a technique of extracting hidden topics from a volume of text. Topic modeling is a classic solution to the problem of information retrieval using linked data and semantic web technology. Related models and techniques are, among others, latent semantic indexing, independent component analysis, probabilistic latent semantic indexing, non-negative matrix factorization, Gamma-Poisson distribution and Latent Derichlet Allocation (LDA). Source: <a href='https://en.wikipedia.org/wiki/Topic_model'>wikipedia</a>"
   ]
  },
  {
   "cell_type": "markdown",
   "metadata": {},
   "source": [
    "### Import required libraries"
   ]
  },
  {
   "cell_type": "code",
   "execution_count": 1,
   "metadata": {},
   "outputs": [],
   "source": [
    "# !pip install pyLDAvis # Uncomment and install this visualization library"
   ]
  },
  {
   "cell_type": "code",
   "execution_count": 2,
   "metadata": {},
   "outputs": [],
   "source": [
    "import warnings\n",
    "warnings.filterwarnings(\"ignore\")"
   ]
  },
  {
   "cell_type": "code",
   "execution_count": 3,
   "metadata": {},
   "outputs": [],
   "source": [
    "#Data manipulation\n",
    "import pandas as pd\n",
    "import numpy as np\n",
    "from pprint import pprint\n",
    "\n",
    "# Data preprocessing & cleaning\n",
    "import re\n",
    "from nltk.corpus import stopwords\n",
    "from gensim.utils import simple_preprocess\n",
    "import gensim.corpora as corpora\n",
    "\n",
    "# Modeling\n",
    "import gensim\n",
    "\n",
    "# Model Evaluation\n",
    "from gensim.models import CoherenceModel\n",
    "\n",
    "# Plotting tools\n",
    "import matplotlib.pyplot as plt\n",
    "import seaborn as sns\n",
    "import pyLDAvis\n",
    "import pyLDAvis.gensim "
   ]
  },
  {
   "cell_type": "code",
   "execution_count": 4,
   "metadata": {},
   "outputs": [],
   "source": [
    "plt.style.use('ggplot')"
   ]
  },
  {
   "cell_type": "markdown",
   "metadata": {},
   "source": [
    "### Load dataset"
   ]
  },
  {
   "cell_type": "markdown",
   "metadata": {},
   "source": [
    "We will use 20-Newsgroups dataset. The dataset contains around 11k newsgroups posts from 20 different topics. The dataset is found here <a href='https://raw.githubusercontent.com/selva86/datasets/master/newsgroups.json'>newsgroups</a>"
   ]
  },
  {
   "cell_type": "code",
   "execution_count": 5,
   "metadata": {},
   "outputs": [],
   "source": [
    "df = pd.read_json('https://raw.githubusercontent.com/selva86/datasets/master/newsgroups.json')"
   ]
  },
  {
   "cell_type": "markdown",
   "metadata": {},
   "source": [
    "Check firt 5 rows "
   ]
  },
  {
   "cell_type": "code",
   "execution_count": 6,
   "metadata": {},
   "outputs": [
    {
     "data": {
      "text/html": [
       "<div>\n",
       "<style scoped>\n",
       "    .dataframe tbody tr th:only-of-type {\n",
       "        vertical-align: middle;\n",
       "    }\n",
       "\n",
       "    .dataframe tbody tr th {\n",
       "        vertical-align: top;\n",
       "    }\n",
       "\n",
       "    .dataframe thead th {\n",
       "        text-align: right;\n",
       "    }\n",
       "</style>\n",
       "<table border=\"1\" class=\"dataframe\">\n",
       "  <thead>\n",
       "    <tr style=\"text-align: right;\">\n",
       "      <th></th>\n",
       "      <th>content</th>\n",
       "      <th>target</th>\n",
       "      <th>target_names</th>\n",
       "    </tr>\n",
       "  </thead>\n",
       "  <tbody>\n",
       "    <tr>\n",
       "      <th>0</th>\n",
       "      <td>From: lerxst@wam.umd.edu (where's my thing)\\nS...</td>\n",
       "      <td>7</td>\n",
       "      <td>rec.autos</td>\n",
       "    </tr>\n",
       "    <tr>\n",
       "      <th>1</th>\n",
       "      <td>From: guykuo@carson.u.washington.edu (Guy Kuo)...</td>\n",
       "      <td>4</td>\n",
       "      <td>comp.sys.mac.hardware</td>\n",
       "    </tr>\n",
       "    <tr>\n",
       "      <th>10</th>\n",
       "      <td>From: irwin@cmptrc.lonestar.org (Irwin Arnstei...</td>\n",
       "      <td>8</td>\n",
       "      <td>rec.motorcycles</td>\n",
       "    </tr>\n",
       "    <tr>\n",
       "      <th>100</th>\n",
       "      <td>From: tchen@magnus.acs.ohio-state.edu (Tsung-K...</td>\n",
       "      <td>6</td>\n",
       "      <td>misc.forsale</td>\n",
       "    </tr>\n",
       "    <tr>\n",
       "      <th>1000</th>\n",
       "      <td>From: dabl2@nlm.nih.gov (Don A.B. Lindbergh)\\n...</td>\n",
       "      <td>2</td>\n",
       "      <td>comp.os.ms-windows.misc</td>\n",
       "    </tr>\n",
       "  </tbody>\n",
       "</table>\n",
       "</div>"
      ],
      "text/plain": [
       "                                                content  target  \\\n",
       "0     From: lerxst@wam.umd.edu (where's my thing)\\nS...       7   \n",
       "1     From: guykuo@carson.u.washington.edu (Guy Kuo)...       4   \n",
       "10    From: irwin@cmptrc.lonestar.org (Irwin Arnstei...       8   \n",
       "100   From: tchen@magnus.acs.ohio-state.edu (Tsung-K...       6   \n",
       "1000  From: dabl2@nlm.nih.gov (Don A.B. Lindbergh)\\n...       2   \n",
       "\n",
       "                 target_names  \n",
       "0                   rec.autos  \n",
       "1       comp.sys.mac.hardware  \n",
       "10            rec.motorcycles  \n",
       "100              misc.forsale  \n",
       "1000  comp.os.ms-windows.misc  "
      ]
     },
     "execution_count": 6,
     "metadata": {},
     "output_type": "execute_result"
    }
   ],
   "source": [
    "df.head()"
   ]
  },
  {
   "cell_type": "markdown",
   "metadata": {},
   "source": [
    "Check rows and columns"
   ]
  },
  {
   "cell_type": "code",
   "execution_count": 7,
   "metadata": {},
   "outputs": [
    {
     "data": {
      "text/plain": [
       "(11314, 3)"
      ]
     },
     "execution_count": 7,
     "metadata": {},
     "output_type": "execute_result"
    }
   ],
   "source": [
    "df.shape"
   ]
  },
  {
   "cell_type": "markdown",
   "metadata": {},
   "source": [
    "### Preprocess Data"
   ]
  },
  {
   "cell_type": "markdown",
   "metadata": {},
   "source": [
    "Remove emails"
   ]
  },
  {
   "cell_type": "code",
   "execution_count": 8,
   "metadata": {},
   "outputs": [],
   "source": [
    "data = df.content.values.tolist() # Convert to list first"
   ]
  },
  {
   "cell_type": "code",
   "execution_count": 9,
   "metadata": {},
   "outputs": [
    {
     "name": "stderr",
     "output_type": "stream",
     "text": [
      "<input>:1: DeprecationWarning: invalid escape sequence \\S\n",
      "<input>:1: DeprecationWarning: invalid escape sequence \\S\n",
      "<input>:1: DeprecationWarning: invalid escape sequence \\S\n",
      "<ipython-input-9-0ada1bb0dac8>:1: DeprecationWarning: invalid escape sequence \\S\n",
      "  data = [re.sub('\\S*@\\S*\\s?', '', sent) for sent in data] #Remove email addresses\n"
     ]
    }
   ],
   "source": [
    "data = [re.sub('\\S*@\\S*\\s?', '', sent) for sent in data] #Remove email addresses"
   ]
  },
  {
   "cell_type": "markdown",
   "metadata": {},
   "source": [
    "Remove new line characters"
   ]
  },
  {
   "cell_type": "code",
   "execution_count": 10,
   "metadata": {},
   "outputs": [
    {
     "name": "stderr",
     "output_type": "stream",
     "text": [
      "<input>:1: DeprecationWarning: invalid escape sequence \\s\n",
      "<input>:1: DeprecationWarning: invalid escape sequence \\s\n",
      "<input>:1: DeprecationWarning: invalid escape sequence \\s\n",
      "<ipython-input-10-e591ccbe0189>:1: DeprecationWarning: invalid escape sequence \\s\n",
      "  data = [re.sub('\\s+', ' ', sent) for sent in data]\n"
     ]
    }
   ],
   "source": [
    "data = [re.sub('\\s+', ' ', sent) for sent in data]"
   ]
  },
  {
   "cell_type": "markdown",
   "metadata": {},
   "source": [
    "Remove distracting single quotes"
   ]
  },
  {
   "cell_type": "code",
   "execution_count": 11,
   "metadata": {},
   "outputs": [],
   "source": [
    "data = [re.sub(\"\\'\", \"\", sent) for sent in data]"
   ]
  },
  {
   "cell_type": "markdown",
   "metadata": {},
   "source": [
    "Tokenize the text"
   ]
  },
  {
   "cell_type": "code",
   "execution_count": 12,
   "metadata": {},
   "outputs": [],
   "source": [
    "def tokenize_to_words(text):\n",
    "    for t in text:\n",
    "        yield(gensim.utils.simple_preprocess(str(t), deacc=True))  # deacc=True removes punctuations"
   ]
  },
  {
   "cell_type": "code",
   "execution_count": 13,
   "metadata": {},
   "outputs": [],
   "source": [
    "tokenized_data = list(tokenize_to_words(data))"
   ]
  },
  {
   "cell_type": "markdown",
   "metadata": {},
   "source": [
    "Remove stopwords"
   ]
  },
  {
   "cell_type": "code",
   "execution_count": 14,
   "metadata": {},
   "outputs": [],
   "source": [
    "def remove_stopwords(text):\n",
    "    return [[word for word in simple_preprocess(str(doc)) if word not in stopwords.words('english')] for doc in text]"
   ]
  },
  {
   "cell_type": "code",
   "execution_count": 15,
   "metadata": {},
   "outputs": [],
   "source": [
    "tokenized_data=remove_stopwords(tokenized_data)"
   ]
  },
  {
   "cell_type": "markdown",
   "metadata": {},
   "source": [
    "### Create Data Input to Model"
   ]
  },
  {
   "cell_type": "markdown",
   "metadata": {},
   "source": [
    "1. Create Dictionary"
   ]
  },
  {
   "cell_type": "code",
   "execution_count": 16,
   "metadata": {},
   "outputs": [],
   "source": [
    "id2word = corpora.Dictionary(tokenized_data)"
   ]
  },
  {
   "cell_type": "markdown",
   "metadata": {},
   "source": [
    "2. Create Corpus (Term Document Frequency)"
   ]
  },
  {
   "cell_type": "code",
   "execution_count": 17,
   "metadata": {},
   "outputs": [],
   "source": [
    "corpus = [id2word.doc2bow(text) for text in tokenized_data]"
   ]
  },
  {
   "cell_type": "markdown",
   "metadata": {},
   "source": [
    "Show corpus and frequency"
   ]
  },
  {
   "cell_type": "code",
   "execution_count": 18,
   "metadata": {},
   "outputs": [
    {
     "name": "stdout",
     "output_type": "stream",
     "text": [
      "[[('addition', 1), ('anyone', 2), ('body', 1), ('bricklin', 1), ('brought', 1), ('bumper', 1), ('called', 1), ('car', 5), ('college', 1), ('could', 1), ('day', 1), ('door', 1), ('doors', 1), ('early', 1), ('edu', 1), ('engine', 1), ('enlighten', 1), ('front', 1), ('funky', 1), ('history', 1), ('host', 1), ('il', 1), ('info', 1), ('know', 1), ('late', 1), ('lerxst', 1), ('lines', 1), ('looked', 1), ('looking', 1), ('made', 1), ('mail', 1), ('maryland', 1), ('model', 1), ('name', 1), ('neighborhood', 1), ('nntp', 1), ('organization', 1), ('park', 1), ('please', 1), ('posting', 1), ('production', 1), ('rac', 1), ('really', 1), ('rest', 1), ('saw', 1), ('separate', 1), ('small', 1), ('specs', 1), ('sports', 1), ('subject', 1), ('tellme', 1), ('thanks', 1), ('thing', 1), ('umd', 1), ('university', 1), ('wam', 1), ('whatever', 1), ('wheres', 1), ('wondering', 1), ('years', 1)]]\n"
     ]
    }
   ],
   "source": [
    "print([[(id2word[id], freq) for id, freq in cp] for cp in corpus[:1]])"
   ]
  },
  {
   "cell_type": "markdown",
   "metadata": {},
   "source": [
    "### Modeling LDA Topic model"
   ]
  },
  {
   "cell_type": "markdown",
   "metadata": {},
   "source": [
    "#### Latent Dirichlet allocation (LDA)"
   ]
  },
  {
   "cell_type": "markdown",
   "metadata": {},
   "source": [
    "Latent Dirichlet allocation (LDA) is a generative statistical model that allows sets of observations to be explained by unobserved groups that explain why some parts of the data are similar. For example, if observations are words collected into documents, it posits that each document is a mixture of a small number of topics and that each word's presence is attributable to one of the document's topics. LDA is an example of a topic model and belongs to the machine learning toolbox and in wider sense to the artificial intelligence toolbox. Source: <a href='https://en.wikipedia.org/wiki/Latent_Dirichlet_allocation'>wikipedia</a>"
   ]
  },
  {
   "cell_type": "markdown",
   "metadata": {},
   "source": [
    "In the LDA model below we specify chunksize which is the number of document to use for each training iteration/chunk. passes is the total number of training pass."
   ]
  },
  {
   "cell_type": "code",
   "execution_count": 63,
   "metadata": {},
   "outputs": [],
   "source": [
    "model = gensim.models.ldamodel.LdaModel(corpus=corpus,id2word=id2word,num_topics=6, random_state=100, update_every=1,\n",
    "                                           chunksize=100,passes=10,alpha='auto',per_word_topics=True)"
   ]
  },
  {
   "cell_type": "markdown",
   "metadata": {},
   "source": [
    "Show topics"
   ]
  },
  {
   "cell_type": "markdown",
   "metadata": {},
   "source": [
    "Each keyword has a weighted importance value"
   ]
  },
  {
   "cell_type": "code",
   "execution_count": 64,
   "metadata": {},
   "outputs": [
    {
     "name": "stdout",
     "output_type": "stream",
     "text": [
      "[(0,\n",
      "  '0.008*\"people\" + 0.007*\"israel\" + 0.006*\"said\" + 0.006*\"armenian\" + '\n",
      "  '0.005*\"armenians\" + 0.005*\"jews\" + 0.005*\"israeli\" + 0.005*\"turkish\" + '\n",
      "  '0.004*\"war\" + 0.004*\"children\"'),\n",
      " (1,\n",
      "  '0.009*\"subject\" + 0.009*\"lines\" + 0.008*\"organization\" + 0.007*\"use\" + '\n",
      "  '0.006*\"space\" + 0.005*\"system\" + 0.005*\"thanks\" + 0.004*\"windows\" + '\n",
      "  '0.004*\"posting\" + 0.004*\"host\"'),\n",
      " (2,\n",
      "  '0.010*\"would\" + 0.008*\"one\" + 0.008*\"jesus\" + 0.008*\"people\" + 0.008*\"god\" '\n",
      "  '+ 0.005*\"life\" + 0.005*\"believe\" + 0.005*\"dont\" + 0.005*\"say\" + '\n",
      "  '0.004*\"think\"'),\n",
      " (3,\n",
      "  '0.016*\"stephanopoulos\" + 0.015*\"mr\" + 0.014*\"government\" + '\n",
      "  '0.011*\"president\" + 0.010*\"law\" + 0.009*\"key\" + 0.009*\"gun\" + '\n",
      "  '0.008*\"public\" + 0.007*\"encryption\" + 0.007*\"use\"'),\n",
      " (4,\n",
      "  '0.010*\"lines\" + 0.010*\"organization\" + 0.010*\"subject\" + 0.009*\"writes\" + '\n",
      "  '0.009*\"article\" + 0.008*\"would\" + 0.007*\"one\" + 0.006*\"dont\" + 0.006*\"like\" '\n",
      "  '+ 0.006*\"university\"'),\n",
      " (5,\n",
      "  '0.648*\"ax\" + 0.047*\"max\" + 0.005*\"pl\" + 0.004*\"scsi\" + 0.004*\"ide\" + '\n",
      "  '0.003*\"ei\" + 0.003*\"bhj\" + 0.003*\"tm\" + 0.003*\"di\" + 0.003*\"giz\"')]\n"
     ]
    }
   ],
   "source": [
    "pprint(model.print_topics())"
   ]
  },
  {
   "cell_type": "markdown",
   "metadata": {},
   "source": [
    "### Model Evaluation"
   ]
  },
  {
   "cell_type": "markdown",
   "metadata": {},
   "source": [
    "1. Model perplexity"
   ]
  },
  {
   "cell_type": "markdown",
   "metadata": {},
   "source": [
    "In information theory, perplexity is a measurement of how well a probability distribution or probability model predicts a sample. It may be used to compare probability models. A low perplexity indicates the probability distribution is good at predicting the sample. <a href='https://en.wikipedia.org/wiki/Perplexity'>wikipedia</a>"
   ]
  },
  {
   "cell_type": "code",
   "execution_count": 65,
   "metadata": {},
   "outputs": [
    {
     "data": {
      "text/plain": [
       "-8.875629045421265"
      ]
     },
     "execution_count": 65,
     "metadata": {},
     "output_type": "execute_result"
    }
   ],
   "source": [
    "model.log_perplexity(corpus)"
   ]
  },
  {
   "cell_type": "markdown",
   "metadata": {},
   "source": [
    "2. Topic Coherence "
   ]
  },
  {
   "cell_type": "markdown",
   "metadata": {},
   "source": [
    "Topic coherence is a metric that returns the coherene score with is a measure of the degree of semantic similarity between high scoring words in the topic"
   ]
  },
  {
   "cell_type": "code",
   "execution_count": 66,
   "metadata": {},
   "outputs": [],
   "source": [
    "model_coherence = CoherenceModel(model=model, texts=tokenized_data, dictionary=id2word, coherence='c_v')"
   ]
  },
  {
   "cell_type": "code",
   "execution_count": 67,
   "metadata": {},
   "outputs": [
    {
     "data": {
      "text/plain": [
       "0.6057196929904957"
      ]
     },
     "execution_count": 67,
     "metadata": {},
     "output_type": "execute_result"
    }
   ],
   "source": [
    "model_coherence.get_coherence()"
   ]
  },
  {
   "cell_type": "markdown",
   "metadata": {},
   "source": [
    "### Visualize the topics"
   ]
  },
  {
   "cell_type": "code",
   "execution_count": 68,
   "metadata": {},
   "outputs": [],
   "source": [
    "pyLDAvis.enable_notebook()\n",
    "vis=pyLDAvis.gensim.prepare(model, corpus, id2word)"
   ]
  },
  {
   "cell_type": "code",
   "execution_count": 69,
   "metadata": {},
   "outputs": [
    {
     "data": {
      "text/html": [
       "\n",
       "<link rel=\"stylesheet\" type=\"text/css\" href=\"https://cdn.rawgit.com/bmabey/pyLDAvis/files/ldavis.v1.0.0.css\">\n",
       "\n",
       "\n",
       "<div id=\"ldavis_el2016430240090598089570065359\"></div>\n",
       "<script type=\"text/javascript\">\n",
       "\n",
       "var ldavis_el2016430240090598089570065359_data = {\"mdsDat\": {\"x\": [-0.21260194715838532, -0.13881586159457412, -0.16787857663846323, 0.024394000272549832, 0.37387328698196554, 0.12102909813690751], \"y\": [0.08681437935638245, 0.1592825380755438, 0.0021059938322228614, -0.22327443682829334, 0.19531802481491853, -0.22024649925077427], \"topics\": [1, 2, 3, 4, 5, 6], \"cluster\": [1, 1, 1, 1, 1, 1], \"Freq\": [39.75634002685547, 25.166202545166016, 16.316360473632812, 7.756247520446777, 5.8549957275390625, 5.149842262268066]}, \"tinfo\": {\"Category\": [\"Default\", \"Default\", \"Default\", \"Default\", \"Default\", \"Default\", \"Default\", \"Default\", \"Default\", \"Default\", \"Default\", \"Default\", \"Default\", \"Default\", \"Default\", \"Default\", \"Default\", \"Default\", \"Default\", \"Default\", \"Default\", \"Default\", \"Default\", \"Default\", \"Default\", \"Default\", \"Default\", \"Default\", \"Default\", \"Default\", \"Topic1\", \"Topic1\", \"Topic1\", \"Topic1\", \"Topic1\", \"Topic1\", \"Topic1\", \"Topic1\", \"Topic1\", \"Topic1\", \"Topic1\", \"Topic1\", \"Topic1\", \"Topic1\", \"Topic1\", \"Topic1\", \"Topic1\", \"Topic1\", \"Topic1\", \"Topic1\", \"Topic1\", \"Topic1\", \"Topic1\", \"Topic1\", \"Topic1\", \"Topic1\", \"Topic1\", \"Topic1\", \"Topic1\", \"Topic1\", \"Topic1\", \"Topic1\", \"Topic1\", \"Topic1\", \"Topic1\", \"Topic1\", \"Topic1\", \"Topic1\", \"Topic1\", \"Topic1\", \"Topic1\", \"Topic1\", \"Topic1\", \"Topic1\", \"Topic1\", \"Topic1\", \"Topic1\", \"Topic1\", \"Topic1\", \"Topic1\", \"Topic1\", \"Topic1\", \"Topic1\", \"Topic1\", \"Topic1\", \"Topic1\", \"Topic1\", \"Topic1\", \"Topic1\", \"Topic1\", \"Topic1\", \"Topic1\", \"Topic1\", \"Topic1\", \"Topic1\", \"Topic1\", \"Topic1\", \"Topic1\", \"Topic1\", \"Topic1\", \"Topic2\", \"Topic2\", \"Topic2\", \"Topic2\", \"Topic2\", \"Topic2\", \"Topic2\", \"Topic2\", \"Topic2\", \"Topic2\", \"Topic2\", \"Topic2\", \"Topic2\", \"Topic2\", \"Topic2\", \"Topic2\", \"Topic2\", \"Topic2\", \"Topic2\", \"Topic2\", \"Topic2\", \"Topic2\", \"Topic2\", \"Topic2\", \"Topic2\", \"Topic2\", \"Topic2\", \"Topic2\", \"Topic2\", \"Topic2\", \"Topic2\", \"Topic2\", \"Topic2\", \"Topic2\", \"Topic2\", \"Topic2\", \"Topic2\", \"Topic2\", \"Topic2\", \"Topic2\", \"Topic2\", \"Topic2\", \"Topic2\", \"Topic2\", \"Topic2\", \"Topic2\", \"Topic2\", \"Topic2\", \"Topic2\", \"Topic2\", \"Topic2\", \"Topic2\", \"Topic2\", \"Topic2\", \"Topic2\", \"Topic2\", \"Topic2\", \"Topic2\", \"Topic2\", \"Topic2\", \"Topic2\", \"Topic2\", \"Topic2\", \"Topic2\", \"Topic3\", \"Topic3\", \"Topic3\", \"Topic3\", \"Topic3\", \"Topic3\", \"Topic3\", \"Topic3\", \"Topic3\", \"Topic3\", \"Topic3\", \"Topic3\", \"Topic3\", \"Topic3\", \"Topic3\", \"Topic3\", \"Topic3\", \"Topic3\", \"Topic3\", \"Topic3\", \"Topic3\", \"Topic3\", \"Topic3\", \"Topic3\", \"Topic3\", \"Topic3\", \"Topic3\", \"Topic3\", \"Topic3\", \"Topic3\", \"Topic3\", \"Topic3\", \"Topic3\", \"Topic3\", \"Topic3\", \"Topic3\", \"Topic3\", \"Topic3\", \"Topic3\", \"Topic3\", \"Topic3\", \"Topic3\", \"Topic3\", \"Topic3\", \"Topic3\", \"Topic3\", \"Topic3\", \"Topic3\", \"Topic3\", \"Topic3\", \"Topic3\", \"Topic3\", \"Topic3\", \"Topic3\", \"Topic3\", \"Topic3\", \"Topic3\", \"Topic3\", \"Topic3\", \"Topic3\", \"Topic3\", \"Topic3\", \"Topic3\", \"Topic3\", \"Topic3\", \"Topic3\", \"Topic3\", \"Topic3\", \"Topic3\", \"Topic4\", \"Topic4\", \"Topic4\", \"Topic4\", \"Topic4\", \"Topic4\", \"Topic4\", \"Topic4\", \"Topic4\", \"Topic4\", \"Topic4\", \"Topic4\", \"Topic4\", \"Topic4\", \"Topic4\", \"Topic4\", \"Topic4\", \"Topic4\", \"Topic4\", \"Topic4\", \"Topic4\", \"Topic4\", \"Topic4\", \"Topic4\", \"Topic4\", \"Topic4\", \"Topic4\", \"Topic4\", \"Topic4\", \"Topic4\", \"Topic4\", \"Topic4\", \"Topic4\", \"Topic4\", \"Topic4\", \"Topic4\", \"Topic4\", \"Topic4\", \"Topic4\", \"Topic4\", \"Topic4\", \"Topic4\", \"Topic4\", \"Topic4\", \"Topic4\", \"Topic4\", \"Topic4\", \"Topic5\", \"Topic5\", \"Topic5\", \"Topic5\", \"Topic5\", \"Topic5\", \"Topic5\", \"Topic5\", \"Topic5\", \"Topic5\", \"Topic5\", \"Topic5\", \"Topic5\", \"Topic5\", \"Topic5\", \"Topic5\", \"Topic5\", \"Topic5\", \"Topic5\", \"Topic5\", \"Topic5\", \"Topic5\", \"Topic5\", \"Topic5\", \"Topic5\", \"Topic5\", \"Topic5\", \"Topic5\", \"Topic5\", \"Topic5\", \"Topic5\", \"Topic5\", \"Topic5\", \"Topic5\", \"Topic5\", \"Topic6\", \"Topic6\", \"Topic6\", \"Topic6\", \"Topic6\", \"Topic6\", \"Topic6\", \"Topic6\", \"Topic6\", \"Topic6\", \"Topic6\", \"Topic6\", \"Topic6\", \"Topic6\", \"Topic6\", \"Topic6\", \"Topic6\", \"Topic6\", \"Topic6\", \"Topic6\", \"Topic6\", \"Topic6\", \"Topic6\", \"Topic6\", \"Topic6\", \"Topic6\", \"Topic6\", \"Topic6\", \"Topic6\", \"Topic6\", \"Topic6\", \"Topic6\", \"Topic6\", \"Topic6\", \"Topic6\", \"Topic6\", \"Topic6\", \"Topic6\", \"Topic6\", \"Topic6\", \"Topic6\", \"Topic6\", \"Topic6\", \"Topic6\", \"Topic6\", \"Topic6\", \"Topic6\", \"Topic6\", \"Topic6\", \"Topic6\", \"Topic6\", \"Topic6\", \"Topic6\", \"Topic6\", \"Topic6\", \"Topic6\", \"Topic6\", \"Topic6\", \"Topic6\"], \"Freq\": [69453.0, 5041.0, 4978.0, 2363.0, 5083.0, 1519.0, 2423.0, 9530.0, 7665.0, 2368.0, 1676.0, 1850.0, 2592.0, 2682.0, 1284.0, 6256.0, 12158.0, 4207.0, 1041.0, 12667.0, 11557.0, 2221.0, 1240.0, 2755.0, 7282.0, 1887.0, 1991.0, 2122.0, 9192.0, 848.0, 2318.6396484375, 1463.4945068359375, 1273.9459228515625, 1237.4793701171875, 1086.9459228515625, 990.002197265625, 908.1079711914062, 885.9610595703125, 872.45068359375, 854.8450317382812, 833.1795043945312, 762.0133666992188, 723.4094848632812, 709.5564575195312, 670.5278930664062, 665.0781860351562, 650.8351440429688, 645.3236083984375, 613.5789794921875, 599.9039916992188, 599.9888916015625, 581.9525146484375, 558.5504760742188, 550.180419921875, 526.9921264648438, 519.1689453125, 518.6033935546875, 504.9761657714844, 487.9190673828125, 477.4684753417969, 894.961181640625, 923.755859375, 1728.161865234375, 854.4130249023438, 973.445556640625, 1589.0950927734375, 6272.9208984375, 1362.4842529296875, 6514.08984375, 2394.134521484375, 1871.134765625, 873.3070678710938, 3164.464599609375, 4686.33447265625, 1407.7177734375, 1468.4105224609375, 7531.61181640625, 4286.341796875, 7611.66845703125, 2996.244873046875, 6172.681640625, 7525.427734375, 1815.7493896484375, 3364.294677734375, 4009.61376953125, 3873.619384765625, 3652.234130859375, 2864.066162109375, 2981.5439453125, 3113.334716796875, 4879.91064453125, 2527.606201171875, 3099.143310546875, 2657.285400390625, 2047.2052001953125, 2208.510986328125, 2083.0400390625, 2122.220458984375, 1987.49267578125, 1857.760986328125, 1990.95849609375, 1668.3941650390625, 1344.2095947265625, 1275.201171875, 1211.7158203125, 1073.4898681640625, 962.9673461914062, 906.8952026367188, 880.5325927734375, 846.43212890625, 830.1380004882812, 819.2078857421875, 784.3299560546875, 802.2185668945312, 780.6837158203125, 729.9219360351562, 708.8224487304688, 705.3096923828125, 698.30419921875, 699.875732421875, 672.2763061523438, 660.7225341796875, 642.5040893554688, 630.1746215820312, 609.4754638671875, 612.0336303710938, 599.277099609375, 563.2623291015625, 591.9585571289062, 549.6495971679688, 1754.52001953125, 1625.7801513671875, 2561.369873046875, 914.7474365234375, 662.6002807617188, 1314.9400634765625, 1898.353759765625, 1146.3052978515625, 1397.7139892578125, 2077.595703125, 1777.4468994140625, 1650.107177734375, 2093.228271484375, 3383.911376953125, 970.3178100585938, 1712.311767578125, 1190.62646484375, 1513.340087890625, 1315.83349609375, 1456.6871337890625, 4333.953125, 3969.779296875, 3562.093505859375, 1768.731689453125, 1372.7861328125, 1939.9820556640625, 1971.79638671875, 1490.6322021484375, 1985.8978271484375, 1735.3402099609375, 1796.6759033203125, 1402.1109619140625, 1436.6834716796875, 1367.468017578125, 2422.927734375, 2367.83447265625, 1233.937744140625, 732.1090698242188, 705.2137451171875, 690.5588989257812, 633.3734130859375, 624.1718139648438, 551.3916625976562, 542.9163818359375, 509.49462890625, 444.70703125, 431.9871826171875, 431.70172119140625, 414.22296142578125, 346.466552734375, 342.90087890625, 340.2390441894531, 318.0867919921875, 314.4449462890625, 312.5310363769531, 307.97332763671875, 296.2481994628906, 293.1517028808594, 289.83465576171875, 287.8127746582031, 286.0257568359375, 282.2768249511719, 277.37213134765625, 276.9743347167969, 279.11273193359375, 599.1591796875, 670.2421875, 1633.7457275390625, 666.4588623046875, 422.974853515625, 408.08428955078125, 1478.4117431640625, 407.2520446777344, 533.2635498046875, 481.6224365234375, 856.5674438476562, 409.1966552734375, 2378.132080078125, 935.55712890625, 1018.6219482421875, 1376.06884765625, 711.5966796875, 2882.967529296875, 664.953857421875, 1045.7158203125, 2498.06787109375, 1161.9127197265625, 909.7543334960938, 1170.2537841796875, 1342.9222412109375, 929.9765625, 1076.6087646484375, 888.2991333007812, 1102.21630859375, 1414.7159423828125, 1184.3515625, 984.1565551757812, 967.5106201171875, 1172.021484375, 859.3858642578125, 1142.677734375, 935.9758911132812, 924.894287109375, 951.9458618164062, 789.7703247070312, 777.317626953125, 686.3294677734375, 657.7562866210938, 644.4389038085938, 609.556884765625, 412.3865966796875, 388.6036071777344, 389.25665283203125, 368.68426513671875, 369.1933288574219, 357.5805969238281, 354.7438049316406, 342.8907165527344, 334.0327453613281, 315.0636901855469, 301.8255310058594, 287.0951843261719, 268.83416748046875, 240.4448699951172, 238.82949829101562, 238.14942932128906, 231.14454650878906, 210.84115600585938, 196.5537567138672, 194.54408264160156, 193.2218475341797, 192.95941162109375, 188.42202758789062, 260.7652282714844, 372.40765380859375, 387.01239013671875, 249.43728637695312, 525.7002563476562, 389.0639953613281, 905.40380859375, 360.939697265625, 1097.6749267578125, 311.6012878417969, 333.020263671875, 487.6282958984375, 343.58038330078125, 442.79742431640625, 351.6704406738281, 354.8848571777344, 377.8606872558594, 69453.015625, 5040.59765625, 480.6185302734375, 430.0858154296875, 374.4670104980469, 363.32696533203125, 294.30462646484375, 283.8212890625, 265.1207580566406, 245.60922241210938, 220.79714965820312, 214.30210876464844, 197.35147094726562, 192.5227813720703, 172.29403686523438, 172.19239807128906, 153.9474639892578, 150.4995574951172, 128.6988067626953, 134.99754333496094, 120.98332214355469, 120.89351654052734, 118.90776824951172, 115.30715942382812, 116.54530334472656, 115.57364654541016, 109.60133361816406, 103.9583511352539, 102.58465576171875, 102.57471466064453, 220.6540069580078, 355.4245300292969, 188.99649047851562, 571.6857299804688, 128.40699768066406, 1519.0040283203125, 848.0593872070312, 640.2246704101562, 476.3157653808594, 420.43035888671875, 367.6706848144531, 325.85479736328125, 268.0802001953125, 261.14666748046875, 258.46270751953125, 257.71038818359375, 238.445556640625, 226.22549438476562, 216.65208435058594, 212.33175659179688, 209.68316650390625, 202.01759338378906, 195.3579864501953, 171.546630859375, 209.31979370117188, 163.83497619628906, 161.729248046875, 160.98963928222656, 150.56686401367188, 146.15577697753906, 135.764404296875, 119.97479248046875, 116.49374389648438, 113.25497436523438, 111.74217224121094, 138.43453979492188, 357.0428161621094, 994.6083374023438, 363.3222351074219, 401.65753173828125, 257.2311706542969, 1321.373779296875, 501.3720397949219, 541.4524536132812, 314.5230712890625, 287.1552734375, 311.1150817871094, 886.7203369140625, 1446.5853271484375, 758.318359375, 272.9947814941406, 507.6998291015625, 939.7427368164062, 440.8380126953125, 290.39996337890625, 367.5189514160156, 529.7238159179688, 336.2878112792969, 376.3548278808594, 617.0958862304688, 443.31378173828125, 387.7978820800781, 406.6486511230469, 320.4951477050781], \"Term\": [\"ax\", \"max\", \"people\", \"mr\", \"use\", \"stephanopoulos\", \"jesus\", \"would\", \"writes\", \"god\", \"government\", \"law\", \"space\", \"said\", \"key\", \"dont\", \"lines\", \"think\", \"president\", \"subject\", \"organization\", \"information\", \"public\", \"system\", \"article\", \"life\", \"windows\", \"believe\", \"one\", \"gun\", \"year\", \"team\", \"hockey\", \"game\", \"car\", \"play\", \"games\", \"hes\", \"season\", \"nhl\", \"league\", \"theyre\", \"players\", \"oh\", \"clipper\", \"couple\", \"pittsburgh\", \"pts\", \"teams\", \"bike\", \"guns\", \"oil\", \"chicago\", \"na\", \"contact\", \"hit\", \"mine\", \"toronto\", \"guy\", \"insurance\", \"la\", \"big\", \"back\", \"wont\", \"vs\", \"last\", \"article\", \"got\", \"writes\", \"go\", \"going\", \"steve\", \"good\", \"dont\", \"power\", \"better\", \"organization\", \"like\", \"lines\", \"im\", \"would\", \"subject\", \"really\", \"get\", \"university\", \"know\", \"posting\", \"think\", \"time\", \"nntp\", \"one\", \"well\", \"host\", \"new\", \"much\", \"two\", \"first\", \"could\", \"even\", \"right\", \"windows\", \"software\", \"email\", \"file\", \"sale\", \"graphics\", \"window\", \"files\", \"cards\", \"advance\", \"video\", \"dos\", \"pc\", \"memory\", \"board\", \"wire\", \"color\", \"server\", \"disk\", \"image\", \"ram\", \"ibm\", \"nasa\", \"mac\", \"cable\", \"via\", \"unix\", \"ftp\", \"package\", \"hardware\", \"available\", \"card\", \"space\", \"fax\", \"hi\", \"version\", \"drive\", \"program\", \"info\", \"thanks\", \"using\", \"mail\", \"system\", \"use\", \"internet\", \"information\", \"data\", \"computer\", \"bit\", \"help\", \"subject\", \"lines\", \"organization\", \"edu\", \"please\", \"also\", \"host\", \"need\", \"posting\", \"nntp\", \"university\", \"anyone\", \"one\", \"get\", \"jesus\", \"god\", \"christian\", \"bible\", \"truth\", \"christians\", \"religion\", \"faith\", \"gods\", \"homeopathy\", \"church\", \"argument\", \"christ\", \"banks\", \"gordon\", \"lord\", \"context\", \"punishment\", \"eternal\", \"beliefs\", \"gay\", \"belief\", \"moral\", \"evil\", \"existence\", \"heaven\", \"verses\", \"atheists\", \"christianity\", \"nature\", \"false\", \"exist\", \"evidence\", \"life\", \"claim\", \"therefore\", \"meaning\", \"believe\", \"yo\", \"words\", \"accept\", \"book\", \"study\", \"people\", \"true\", \"fact\", \"say\", \"person\", \"would\", \"word\", \"point\", \"one\", \"see\", \"law\", \"us\", \"think\", \"must\", \"many\", \"question\", \"even\", \"dont\", \"also\", \"may\", \"way\", \"know\", \"without\", \"writes\", \"well\", \"time\", \"israel\", \"armenian\", \"armenians\", \"jews\", \"israeli\", \"turkish\", \"war\", \"genocide\", \"msg\", \"land\", \"serdar\", \"food\", \"argic\", \"turks\", \"soviet\", \"davidian\", \"arab\", \"soldiers\", \"armenia\", \"sumgait\", \"turkey\", \"lebanon\", \"army\", \"trial\", \"batf\", \"nazi\", \"israelis\", \"azerbaijani\", \"troops\", \"villages\", \"je\", \"killed\", \"fbi\", \"mother\", \"children\", \"press\", \"said\", \"fire\", \"people\", \"military\", \"country\", \"us\", \"today\", \"world\", \"center\", \"government\", \"one\", \"ax\", \"max\", \"scsi\", \"ide\", \"ei\", \"bhj\", \"di\", \"giz\", \"qax\", \"ey\", \"gk\", \"wt\", \"kn\", \"qq\", \"mf\", \"tq\", \"bj\", \"irq\", \"tg\", \"mo\", \"nrhj\", \"ez\", \"biz\", \"fq\", \"mq\", \"yf\", \"gq\", \"lg\", \"tl\", \"radar\", \"mg\", \"tm\", \"wm\", \"pl\", \"jb\", \"stephanopoulos\", \"gun\", \"encryption\", \"clinton\", \"tax\", \"federal\", \"agencies\", \"administration\", \"criminals\", \"amendment\", \"nsa\", \"firearms\", \"privacy\", \"constitution\", \"senate\", \"taxes\", \"hitler\", \"proposal\", \"militia\", \"arrests\", \"presidents\", \"economic\", \"terrorists\", \"ruled\", \"initiative\", \"weapon\", \"economy\", \"govt\", \"stimulus\", \"conversations\", \"estimating\", \"protect\", \"president\", \"crime\", \"security\", \"congress\", \"government\", \"police\", \"health\", \"legal\", \"court\", \"drug\", \"key\", \"mr\", \"public\", \"jobs\", \"house\", \"law\", \"states\", \"drugs\", \"rights\", \"national\", \"private\", \"control\", \"use\", \"state\", \"information\", \"people\", \"american\"], \"Total\": [69453.0, 5041.0, 4978.0, 2363.0, 5083.0, 1519.0, 2423.0, 9530.0, 7665.0, 2368.0, 1676.0, 1850.0, 2592.0, 2682.0, 1284.0, 6256.0, 12158.0, 4207.0, 1041.0, 12667.0, 11557.0, 2221.0, 1240.0, 2755.0, 7282.0, 1887.0, 1991.0, 2122.0, 9192.0, 848.0, 2319.53759765625, 1464.386962890625, 1274.8389892578125, 1238.3714599609375, 1087.8385009765625, 990.8965454101562, 909.0003051757812, 886.8613891601562, 873.3426513671875, 855.737060546875, 834.0734252929688, 762.9121704101562, 724.3006591796875, 710.45263671875, 671.4298706054688, 665.978271484375, 651.731201171875, 646.2198486328125, 614.4708862304688, 600.7959594726562, 600.8908081054688, 582.8465576171875, 559.4440307617188, 551.0764770507812, 527.892578125, 520.0638427734375, 519.5047607421875, 505.8699035644531, 488.8139343261719, 478.3695983886719, 898.4251098632812, 931.4404907226562, 1773.6195068359375, 865.747314453125, 994.9423828125, 1680.023193359375, 7282.7451171875, 1439.808837890625, 7665.119140625, 2642.957275390625, 2068.087646484375, 904.1189575195312, 3796.53125, 6256.6181640625, 1572.4755859375, 1662.80810546875, 11557.0673828125, 6048.3310546875, 12158.3330078125, 3961.666748046875, 9530.779296875, 12667.3603515625, 2184.758544921875, 4732.45849609375, 5922.52099609375, 5993.2080078125, 5638.82666015625, 4207.72412109375, 4521.95458984375, 4849.369140625, 9192.89453125, 3652.380126953125, 5071.6337890625, 4259.453125, 2897.11669921875, 3365.47265625, 3074.013916015625, 3439.88623046875, 3234.353515625, 2733.019775390625, 1991.8155517578125, 1669.2515869140625, 1345.0697021484375, 1276.05712890625, 1212.572998046875, 1074.34423828125, 963.828369140625, 907.75048828125, 881.3983154296875, 847.2960205078125, 830.9949340820312, 820.0615844726562, 785.184326171875, 803.0940551757812, 781.5423583984375, 730.7847900390625, 709.6786499023438, 706.163330078125, 699.1582641601562, 700.7344970703125, 673.1298828125, 661.57958984375, 643.3599243164062, 631.0283203125, 610.3323974609375, 612.894287109375, 600.1393432617188, 564.115966796875, 592.861083984375, 550.5059814453125, 1760.376708984375, 1632.95654296875, 2592.423095703125, 922.6736450195312, 664.375732421875, 1337.588134765625, 1963.3123779296875, 1192.4859619140625, 1485.894775390625, 2347.28759765625, 2013.031982421875, 1972.5528564453125, 2755.20654296875, 5083.40869140625, 1059.9627685546875, 2221.11865234375, 1385.8994140625, 2092.278564453125, 1727.40478515625, 2093.54296875, 12667.3603515625, 12158.3330078125, 11557.0673828125, 3319.1923828125, 2233.99560546875, 4757.6162109375, 5071.6337890625, 2703.22802734375, 5638.82666015625, 4849.369140625, 5922.52099609375, 2986.417236328125, 9192.89453125, 4732.45849609375, 2423.822509765625, 2368.7294921875, 1234.8359375, 733.0037231445312, 706.113037109375, 691.45361328125, 634.270263671875, 625.0673217773438, 552.287109375, 543.8245239257812, 510.38995361328125, 445.6054992675781, 432.882568359375, 432.60589599609375, 415.1201171875, 347.3618469238281, 343.7994689941406, 341.1456298828125, 318.98388671875, 315.3410949707031, 313.438232421875, 308.8680419921875, 297.1448974609375, 294.0509948730469, 290.7313537597656, 288.7081604003906, 286.92291259765625, 283.1707763671875, 278.26666259765625, 277.87109375, 280.0187683105469, 623.3041381835938, 707.27880859375, 1887.4190673828125, 740.2818603515625, 452.9401550292969, 436.2309875488281, 2122.152587890625, 442.97216796875, 626.952880859375, 550.577392578125, 1174.632568359375, 447.9036560058594, 4978.18505859375, 1405.262451171875, 1624.69970703125, 2677.931396484375, 1036.88525390625, 9530.779296875, 942.4653930664062, 2026.8834228515625, 9192.89453125, 2954.035888671875, 1850.2275390625, 3116.73828125, 4207.72412109375, 1995.4285888671875, 2842.144775390625, 1843.15771484375, 3234.353515625, 6256.6181640625, 4757.6162109375, 2937.57373046875, 2867.855712890625, 5993.2080078125, 2056.8291015625, 7665.119140625, 3652.380126953125, 4521.95458984375, 952.83984375, 790.6632080078125, 778.21044921875, 687.22607421875, 658.6494750976562, 645.331787109375, 610.4566650390625, 413.2818908691406, 389.4981994628906, 390.1582946777344, 369.57763671875, 370.0912170410156, 358.4749755859375, 355.63677978515625, 343.788330078125, 334.92791748046875, 315.95684814453125, 302.71868896484375, 287.98760986328125, 269.7288513183594, 241.3378448486328, 239.7227783203125, 239.04550170898438, 232.04258728027344, 211.73577880859375, 197.44830322265625, 195.43748474121094, 194.1158905029297, 193.85325622558594, 189.31468200683594, 262.3676452636719, 392.6195068359375, 428.2196960449219, 276.145263671875, 805.7808837890625, 571.049560546875, 2682.7421875, 541.8740234375, 4978.18505859375, 469.58123779296875, 606.023193359375, 3116.73828125, 793.941650390625, 2756.560302734375, 1276.240966796875, 1676.9864501953125, 9192.89453125, 69453.859375, 5041.4482421875, 481.4734802246094, 430.9850158691406, 375.31475830078125, 364.1747131347656, 295.15533447265625, 284.6690368652344, 265.968505859375, 246.4757080078125, 221.6448974609375, 215.173095703125, 198.19967651367188, 193.3705291748047, 173.1436004638672, 173.0431671142578, 154.79766845703125, 151.44357299804688, 129.54820251464844, 135.90016174316406, 121.83106231689453, 121.74146270751953, 119.75611114501953, 116.1549072265625, 117.40382385253906, 116.42615509033203, 110.4490737915039, 104.80609893798828, 103.4326171875, 103.45216369628906, 229.1099090576172, 468.20513916015625, 237.30319213867188, 1083.1470947265625, 156.57945251464844, 1519.9232177734375, 848.9483642578125, 641.1109008789062, 477.2063903808594, 421.31939697265625, 368.5583190917969, 326.74298095703125, 268.9698181152344, 262.0380554199219, 259.35009765625, 258.59771728515625, 239.33502197265625, 227.11187744140625, 217.5422821044922, 213.2191619873047, 210.5719451904297, 202.92514038085938, 196.2482452392578, 172.4348907470703, 210.45310974121094, 164.725830078125, 162.61868286132812, 161.90328979492188, 151.4647979736328, 147.0436248779297, 136.6548309326172, 120.86807250976562, 117.38925170898438, 114.14408111572266, 112.632080078125, 139.53738403320312, 366.14630126953125, 1041.5264892578125, 381.0410461425781, 427.24932861328125, 270.4019775390625, 1676.9864501953125, 594.7863159179688, 671.6719360351562, 357.4187927246094, 321.3949890136719, 354.9597473144531, 1284.974853515625, 2363.823974609375, 1240.54833984375, 304.1212158203125, 747.2567749023438, 1850.2275390625, 648.411376953125, 338.0021667480469, 534.971435546875, 1160.62255859375, 503.0455627441406, 868.358154296875, 5083.40869140625, 1958.928955078125, 2221.11865234375, 4978.18505859375, 869.5738525390625], \"loglift\": [30.0, 29.0, 28.0, 27.0, 26.0, 25.0, 24.0, 23.0, 22.0, 21.0, 20.0, 19.0, 18.0, 17.0, 16.0, 15.0, 14.0, 13.0, 12.0, 11.0, 10.0, 9.0, 8.0, 7.0, 6.0, 5.0, 4.0, 3.0, 2.0, 1.0, 0.921999990940094, 0.9218000173568726, 0.9217000007629395, 0.9217000007629395, 0.9215999841690063, 0.921500027179718, 0.9214000105857849, 0.9214000105857849, 0.9214000105857849, 0.9214000105857849, 0.9212999939918518, 0.9211999773979187, 0.9211999773979187, 0.9211000204086304, 0.9211000204086304, 0.9210000038146973, 0.9210000038146973, 0.9210000038146973, 0.9208999872207642, 0.9208999872207642, 0.9208999872207642, 0.9208999872207642, 0.920799970626831, 0.920799970626831, 0.9207000136375427, 0.9207000136375427, 0.9207000136375427, 0.9205999970436096, 0.9205999970436096, 0.9204999804496765, 0.9185000061988831, 0.9140999913215637, 0.896399974822998, 0.9092000126838684, 0.900600016117096, 0.8668000102043152, 0.7731000185012817, 0.8672000169754028, 0.7597000002861023, 0.8234999775886536, 0.8223000168800354, 0.8877000212669373, 0.7402999997138977, 0.633400022983551, 0.8116999864578247, 0.7980999946594238, 0.4941999912261963, 0.5781000256538391, 0.45410001277923584, 0.6431000232696533, 0.4880000054836273, 0.4016999900341034, 0.7373999953269958, 0.5812000036239624, 0.5322999954223633, 0.4860000014305115, 0.48809999227523804, 0.5376999974250793, 0.5059000253677368, 0.47920000553131104, 0.2890999913215637, 0.5543000102043152, 0.42989999055862427, 0.4505999982357025, 0.5752000212669373, 0.5012000203132629, 0.5332000255584717, 0.43939998745918274, 0.43540000915527344, 0.5364000201225281, 1.3791999816894531, 1.3791999816894531, 1.378999948501587, 1.378999948501587, 1.378999948501587, 1.3789000511169434, 1.3788000345230103, 1.3787000179290771, 1.3787000179290771, 1.378600001335144, 1.378600001335144, 1.378600001335144, 1.378600001335144, 1.378600001335144, 1.378600001335144, 1.378499984741211, 1.378499984741211, 1.378499984741211, 1.3783999681472778, 1.3783999681472778, 1.3783999681472778, 1.3783999681472778, 1.3782999515533447, 1.3782999515533447, 1.3782999515533447, 1.3782999515533447, 1.3782000541687012, 1.3782000541687012, 1.378100037574768, 1.378100037574768, 1.3762999773025513, 1.3753000497817993, 1.3675999641418457, 1.371000051498413, 1.3769999742507935, 1.3625999689102173, 1.3459999561309814, 1.3401999473571777, 1.31850004196167, 1.257599949836731, 1.2552000284194946, 1.201200008392334, 1.1049000024795532, 0.9726999998092651, 1.2913000583648682, 1.1195000410079956, 1.2278000116348267, 1.0556999444961548, 1.1074999570846558, 1.0169999599456787, 0.30709999799728394, 0.2603999972343445, 0.20270000398159027, 0.7501999735832214, 0.8927000164985657, 0.48260000348091125, 0.4350000023841858, 0.7843999862670898, 0.3361000120639801, 0.35199999809265137, 0.1868000030517578, 0.6236000061035156, -0.4763999879360199, 0.13819999992847443, 1.812600016593933, 1.812600016593933, 1.8122999668121338, 1.8118000030517578, 1.8116999864578247, 1.8116999864578247, 1.8115999698638916, 1.8115999698638916, 1.811400055885315, 1.8113000392913818, 1.8112000226974487, 1.8109999895095825, 1.8108999729156494, 1.8108999729156494, 1.8107999563217163, 1.8104000091552734, 1.8104000091552734, 1.8102999925613403, 1.8101999759674072, 1.8101999759674072, 1.8100999593734741, 1.8100999593734741, 1.809999942779541, 1.8099000453948975, 1.8099000453948975, 1.8099000453948975, 1.8099000453948975, 1.8098000288009644, 1.8098000288009644, 1.8098000288009644, 1.8098000288009644, 1.7734999656677246, 1.7591999769210815, 1.6686999797821045, 1.707900047302246, 1.7446000576019287, 1.7462999820709229, 1.4515000581741333, 1.7288999557495117, 1.6511000394821167, 1.6792000532150269, 1.4972000122070312, 1.722599983215332, 1.0743000507354736, 1.4062000513076782, 1.3460999727249146, 1.1471999883651733, 1.4364999532699585, 0.6172999739646912, 1.4642000198364258, 1.1512000560760498, 0.5101000070571899, 0.8798999786376953, 1.1030999422073364, 0.8334000110626221, 0.6708999872207642, 1.0494999885559082, 0.8422999978065491, 1.0830999612808228, 0.7365000247955322, 0.3262999951839447, 0.42250001430511475, 0.7193999886512756, 0.7264000177383423, 0.181099995970726, 0.9402999877929688, -0.09030000120401382, 0.4514999985694885, 0.22599999606609344, 2.5557000637054443, 2.555500030517578, 2.555500030517578, 2.5553998947143555, 2.555299997329712, 2.555299997329712, 2.5552000999450684, 2.554500102996826, 2.5543999671936035, 2.5543999671936035, 2.55430006980896, 2.5541999340057373, 2.5541999340057373, 2.5541999340057373, 2.5541000366210938, 2.553999900817871, 2.553800106048584, 2.5536999702453613, 2.5536000728607178, 2.553299903869629, 2.552999973297119, 2.5529000759124756, 2.5529000759124756, 2.552799940109253, 2.5524001121520996, 2.5520999431610107, 2.5520999431610107, 2.5520999431610107, 2.552000045776367, 2.5518999099731445, 2.55049991607666, 2.5037999153137207, 2.4554998874664307, 2.4549999237060547, 2.1296000480651855, 2.1728999614715576, 1.4704999923706055, 2.1503000259399414, 1.044800043106079, 2.1466000080108643, 1.9579999446868896, 0.70169997215271, 1.719099998474121, 0.7279999852180481, 1.267699956893921, 1.0037000179290771, -0.6349999904632568, 2.837899923324585, 2.8376998901367188, 2.8361001014709473, 2.8357999324798584, 2.835599899291992, 2.8355000019073486, 2.8350000381469727, 2.83489990234375, 2.834700107574463, 2.834399938583374, 2.8340001106262207, 2.8338000774383545, 2.8336000442504883, 2.8334999084472656, 2.8329999446868896, 2.832900047302246, 2.83240008354187, 2.8315999507904053, 2.8313000202178955, 2.831199884414673, 2.830899953842163, 2.830899953842163, 2.8308000564575195, 2.8304998874664307, 2.8304998874664307, 2.8304998874664307, 2.830199956893921, 2.8297998905181885, 2.8296000957489014, 2.829400062561035, 2.800299882888794, 2.562299966812134, 2.610300064086914, 2.1988000869750977, 2.6394999027252197, 2.96560001373291, 2.9651999473571777, 2.9647998809814453, 2.9642999172210693, 2.964099884033203, 2.9637999534606934, 2.9635000228881836, 2.962899923324585, 2.9628000259399414, 2.9628000259399414, 2.9628000259399414, 2.9625000953674316, 2.9623000621795654, 2.962100028991699, 2.9619998931884766, 2.9619998931884766, 2.961699962615967, 2.961699962615967, 2.9609999656677246, 2.9607999324798584, 2.9607999324798584, 2.960700035095215, 2.9605000019073486, 2.9602999687194824, 2.960099935531616, 2.959700107574463, 2.9588000774383545, 2.9584999084472656, 2.958400011062622, 2.9583001136779785, 2.9583001136779785, 2.940999984741211, 2.920099973678589, 2.918600082397461, 2.904400110244751, 2.916300058364868, 2.7279000282287598, 2.7953999042510986, 2.750699996948242, 2.838399887084961, 2.853600025177002, 2.834399938583374, 2.5952000617980957, 2.475100040435791, 2.4739999771118164, 2.8582000732421875, 2.579699993133545, 2.2887001037597656, 2.580399990081787, 2.8143999576568604, 2.5908000469207764, 2.18179988861084, 2.563499927520752, 2.1301000118255615, 0.8575000166893005, 1.480299949645996, 1.220900058746338, 0.46129998564720154, 1.9680999517440796], \"logprob\": [30.0, 29.0, 28.0, 27.0, 26.0, 25.0, 24.0, 23.0, 22.0, 21.0, 20.0, 19.0, 18.0, 17.0, 16.0, 15.0, 14.0, 13.0, 12.0, 11.0, 10.0, 9.0, 8.0, 7.0, 6.0, 5.0, 4.0, 3.0, 2.0, 1.0, -5.748899936676025, -6.209000110626221, -6.347700119018555, -6.376800060272217, -6.506499767303467, -6.599899768829346, -6.686299800872803, -6.710899829864502, -6.72629976272583, -6.746699810028076, -6.77239990234375, -6.861700057983398, -6.913599967956543, -6.933000087738037, -6.98960018157959, -6.997700214385986, -7.019400119781494, -7.027900218963623, -7.0782999992370605, -7.100800037384033, -7.1006999015808105, -7.131199836730957, -7.172299861907959, -7.187399864196777, -7.230400085449219, -7.2453999519348145, -7.246500015258789, -7.273099899291992, -7.307499885559082, -7.329100131988525, -6.700799942016602, -6.6691999435424805, -6.042799949645996, -6.747200012207031, -6.616799831390381, -6.126699924468994, -4.753600120544434, -6.280600070953369, -4.71589994430542, -5.716800212860107, -5.9633002281188965, -6.725299835205078, -5.437900066375732, -5.045199871063232, -6.247900009155273, -6.205699920654297, -4.570799827575684, -5.134399890899658, -4.560200214385986, -5.492499828338623, -4.769700050354004, -4.571599960327148, -5.9934000968933105, -5.3765997886657715, -5.201200008392334, -5.2357001304626465, -5.29449987411499, -5.537600040435791, -5.497399806976318, -5.45419979095459, -5.004700183868408, -5.662600040435791, -5.458700180053711, -5.612599849700928, -5.8734002113342285, -5.797500133514404, -5.855999946594238, -5.837399959564209, -5.9029998779296875, -5.9704999923706055, -5.443999767303467, -5.620699882507324, -5.8368000984191895, -5.889500141143799, -5.9405999183654785, -6.061699867248535, -6.170300006866455, -6.230299949645996, -6.259799957275391, -6.299300193786621, -6.31879997253418, -6.331999778747559, -6.375500202178955, -6.353000164031982, -6.380199909210205, -6.447400093078613, -6.4766998291015625, -6.4816999435424805, -6.491700172424316, -6.4893999099731445, -6.529699802398682, -6.546999931335449, -6.574999809265137, -6.594399929046631, -6.627799987792969, -6.623600006103516, -6.644599914550781, -6.706600189208984, -6.656899929046631, -6.731100082397461, -5.570400238037109, -5.646599769592285, -5.1921000480651855, -6.221700191497803, -6.5441999435424805, -5.858799934387207, -5.491600036621094, -5.996099948883057, -5.797800064086914, -5.401400089263916, -5.557400226593018, -5.631800174713135, -5.393899917602539, -4.913599967956543, -6.162700176239014, -5.594799995422363, -5.958099842071533, -5.718299865722656, -5.858099937438965, -5.756400108337402, -4.666100025177002, -4.753900051116943, -4.862199783325195, -5.562300205230713, -5.815800189971924, -5.469900131225586, -5.45359992980957, -5.733399868011475, -5.446499824523926, -5.581399917602539, -5.5467000007629395, -5.794600009918213, -5.770299911499023, -5.8196001052856445, -4.814300060272217, -4.837299823760986, -5.489099979400635, -6.011099815368652, -6.048500061035156, -6.069499969482422, -6.156000137329102, -6.170599937438965, -6.294600009918213, -6.310100078582764, -6.373600006103516, -6.5096001625061035, -6.538599967956543, -6.539299964904785, -6.580599784851074, -6.759200096130371, -6.769599914550781, -6.777400016784668, -6.844699859619141, -6.856200218200684, -6.862299919128418, -6.876999855041504, -6.915800094604492, -6.926300048828125, -6.937699794769287, -6.944699764251709, -6.950900077819824, -6.964099884033203, -6.9816999435424805, -6.983099937438965, -6.975399971008301, -6.21150016784668, -6.099400043487549, -5.208399772644043, -6.105000019073486, -6.559700012207031, -6.5954999923706055, -5.308300018310547, -6.597599983215332, -6.328000068664551, -6.429900169372559, -5.854100227355957, -6.592800140380859, -4.832900047302246, -5.765900135040283, -5.680799961090088, -5.380000114440918, -6.0395002365112305, -4.640399932861328, -6.1072998046875, -5.654600143432617, -4.783699989318848, -5.549200057983398, -5.793799877166748, -5.541999816894531, -5.404399871826172, -5.771900177001953, -5.625400066375732, -5.817699909210205, -5.601900100708008, -5.35230016708374, -5.530099868774414, -5.715199947357178, -5.7322998046875, -5.540500164031982, -5.850800037384033, -5.565899848937988, -5.765399932861328, -5.777299880981445, -5.004799842834473, -5.1915998458862305, -5.207499980926514, -5.331999778747559, -5.374499797821045, -5.394999980926514, -5.4506001472473145, -5.841400146484375, -5.9008002281188965, -5.899099826812744, -5.953400135040283, -5.952000141143799, -5.984000205993652, -5.992000102996826, -6.025899887084961, -6.05210018157959, -6.110599994659424, -6.153500080108643, -6.203499794006348, -6.2692999839782715, -6.380899906158447, -6.387599945068359, -6.390399932861328, -6.420300006866455, -6.512199878692627, -6.582399845123291, -6.592700004577637, -6.5995001792907715, -6.600900173187256, -6.62470006942749, -6.299699783325195, -5.943399906158447, -5.904900074005127, -6.344099998474121, -5.598599910736084, -5.899600028991699, -5.054999828338623, -5.974599838256836, -4.862400054931641, -6.121600151062012, -6.055099964141846, -5.673799991607666, -6.023900032043457, -5.770199775695801, -6.000699996948242, -5.991600036621094, -5.928800106048584, -0.43369999527931213, -3.0569000244140625, -5.407100200653076, -5.518199920654297, -5.656599998474121, -5.686800003051758, -5.897500038146973, -5.933800220489502, -6.001999855041504, -6.078400135040283, -6.184899806976318, -6.214799880981445, -6.2972002029418945, -6.321899890899658, -6.4328999519348145, -6.433499813079834, -6.545499801635742, -6.56820011138916, -6.724699974060059, -6.6768999099731445, -6.786499977111816, -6.787199974060059, -6.803800106048584, -6.834499835968018, -6.82390022277832, -6.832200050354004, -6.885300159454346, -6.938199996948242, -6.951499938964844, -6.951600074768066, -6.185500144958496, -5.708799839019775, -6.340400218963623, -5.23360013961792, -6.726900100708008, -4.127999782562256, -4.710899829864502, -4.992000102996826, -5.287700176239014, -5.412499904632568, -5.546599864959717, -5.667399883270264, -5.862500190734863, -5.888700008392334, -5.899099826812744, -5.9019999504089355, -5.979700088500977, -6.032299995422363, -6.075500011444092, -6.095699787139893, -6.1082000732421875, -6.145500183105469, -6.178999900817871, -6.309000015258789, -6.110000133514404, -6.355000019073486, -6.3678998947143555, -6.372499942779541, -6.4394001960754395, -6.469099998474121, -6.542900085449219, -6.666500091552734, -6.696000099182129, -6.7241997718811035, -6.737599849700928, -6.523399829864502, -5.576000213623047, -4.551499843597412, -5.558499813079834, -5.458199977874756, -5.903800010681152, -4.267399787902832, -5.236499786376953, -5.159599781036377, -5.7027997970581055, -5.793799877166748, -5.713699817657471, -4.666299819946289, -4.1768999099731445, -4.822700023651123, -5.844399929046631, -5.223899841308594, -4.6082000732421875, -5.365099906921387, -5.782599925994873, -5.546999931335449, -5.18149995803833, -5.635799884796143, -5.5233001708984375, -5.028800010681152, -5.359499931335449, -5.493299961090088, -5.445899963378906, -5.683899879455566]}, \"token.table\": {\"Topic\": [2, 3, 4, 6, 2, 6, 1, 2, 3, 4, 6, 1, 4, 6, 1, 2, 3, 4, 4, 3, 4, 4, 4, 4, 6, 1, 2, 3, 4, 3, 1, 2, 5, 4, 1, 4, 3, 4, 3, 3, 1, 3, 1, 2, 3, 5, 3, 1, 3, 1, 1, 2, 3, 5, 5, 2, 1, 2, 3, 2, 1, 2, 6, 2, 1, 2, 4, 1, 3, 4, 6, 3, 3, 3, 3, 3, 1, 3, 4, 6, 1, 2, 1, 2, 4, 6, 6, 1, 3, 1, 2, 4, 6, 6, 1, 2, 3, 4, 1, 4, 6, 1, 1, 6, 4, 6, 6, 2, 6, 4, 5, 2, 1, 2, 3, 2, 1, 2, 3, 6, 4, 6, 6, 6, 1, 2, 5, 2, 6, 6, 3, 1, 3, 4, 3, 4, 3, 2, 3, 3, 5, 5, 1, 3, 4, 6, 3, 3, 2, 5, 1, 4, 6, 2, 2, 1, 4, 6, 1, 2, 3, 4, 4, 5, 2, 1, 1, 3, 4, 1, 2, 5, 5, 1, 3, 4, 5, 3, 3, 1, 3, 4, 1, 2, 3, 3, 1, 2, 4, 6, 6, 5, 2, 6, 1, 1, 2, 3, 4, 6, 3, 1, 2, 3, 4, 1, 2, 5, 1, 6, 1, 3, 1, 2, 1, 4, 6, 2, 5, 1, 2, 3, 2, 1, 2, 2, 3, 4, 6, 6, 1, 1, 2, 5, 4, 4, 4, 1, 5, 4, 5, 3, 4, 1, 6, 1, 2, 6, 4, 6, 5, 1, 2, 3, 1, 5, 4, 1, 4, 3, 6, 1, 4, 1, 6, 5, 1, 3, 4, 1, 2, 3, 4, 1, 2, 3, 5, 3, 2, 1, 2, 1, 2, 3, 4, 6, 5, 1, 2, 3, 6, 1, 3, 2, 5, 2, 5, 4, 6, 6, 1, 5, 3, 2, 4, 5, 1, 3, 4, 5, 6, 4, 1, 2, 3, 1, 2, 3, 4, 6, 1, 2, 1, 2, 4, 6, 3, 4, 1, 2, 3, 1, 2, 3, 4, 6, 1, 1, 2, 5, 6, 1, 1, 1, 2, 3, 4, 1, 2, 3, 5, 2, 2, 1, 3, 4, 6, 1, 3, 4, 6, 1, 1, 2, 5, 1, 1, 1, 2, 3, 1, 2, 3, 4, 6, 1, 2, 1, 2, 3, 4, 6, 6, 2, 4, 6, 1, 6, 2, 6, 6, 4, 6, 1, 1, 2, 3, 4, 6, 3, 5, 5, 1, 2, 3, 5, 2, 1, 3, 3, 1, 3, 4, 6, 4, 6, 6, 1, 3, 4, 2, 1, 3, 4, 5, 1, 4, 6, 1, 2, 3, 4, 6, 4, 2, 2, 4, 4, 2, 3, 1, 2, 3, 4, 6, 1, 3, 4, 6, 6, 1, 2, 6, 3, 6, 1, 2, 3, 5, 4, 2, 3, 6, 6, 6, 1, 1, 6, 5, 1, 2, 1, 3, 1, 1, 3, 1, 2, 3, 4, 5, 1, 2, 5, 1, 3, 4, 6, 1, 5, 4, 4, 1, 2, 3, 3, 4, 4, 4, 1, 2, 3, 4, 1, 2, 3, 5, 2, 1, 2, 3, 4, 6, 1, 2, 3, 6, 1, 2, 3, 6, 3, 2, 3, 2, 2, 4, 1, 2, 5, 4, 1, 2, 3, 4, 6, 1, 2, 3, 4, 6, 2, 2, 2, 1, 2, 3, 4, 6, 2, 5, 1, 3, 1, 2, 3, 1, 2, 3, 1, 2, 3, 4, 1, 2, 3, 4, 6, 1, 2, 3, 4, 5, 1, 5, 2, 3, 5], \"Freq\": [0.11260905861854553, 0.8754445910453796, 0.010897650383412838, 0.9963943362236023, 0.9984704256057739, 0.9977260828018188, 0.2904815971851349, 0.40776723623275757, 0.24886412918567657, 0.05275751277804375, 0.9947943091392517, 0.3541964888572693, 0.27599725127220154, 0.36799633502960205, 0.44970273971557617, 0.46945884823799133, 0.08036385476589203, 0.996971607208252, 0.9986749887466431, 0.9986411929130554, 0.9965706467628479, 0.9991611838340759, 0.9984445571899414, 0.9956263303756714, 0.993095338344574, 0.8613510131835938, 0.021969737485051155, 0.10504280775785446, 0.011671422980725765, 0.9958654642105103, 0.0028403012547641993, 0.9969456791877747, 0.9999876022338867, 0.9942514300346375, 0.9742788672447205, 0.025371845811605453, 0.9985994100570679, 0.99652498960495, 0.9971895813941956, 0.9957471489906311, 0.3029942214488983, 0.6964626312255859, 0.8828439116477966, 0.03367796912789345, 0.08299213647842407, 0.9967743158340454, 0.9986306428909302, 0.9920118451118469, 0.007515241391956806, 0.9986751675605774, 0.19393254816532135, 0.7618364691734314, 0.044575538486242294, 0.9936862587928772, 0.9948469996452332, 0.9993060231208801, 0.03320187330245972, 0.23752108216285706, 0.7295898795127869, 0.9978169202804565, 0.9992291927337646, 0.9957399368286133, 0.003674316918477416, 0.999548077583313, 0.3486802279949188, 0.3753209710121155, 0.27580997347831726, 0.9992063045501709, 0.34376591444015503, 0.6527829170227051, 0.002482064301148057, 0.997961163520813, 0.9993230104446411, 0.9954480528831482, 0.999343991279602, 0.9972766637802124, 0.05133179947733879, 0.8996573090553284, 0.04727928712964058, 0.9974719882011414, 0.9993597865104675, 0.9990437030792236, 0.2762538492679596, 0.7231350541114807, 0.0443783737719059, 0.9504368305206299, 0.9975072145462036, 0.9983091950416565, 0.9976745843887329, 0.08982468396425247, 0.3777243196964264, 0.09903747588396072, 0.4330010712146759, 0.9943881034851074, 0.6168808937072754, 0.1171550378203392, 0.20611146092414856, 0.05988570302724838, 0.16501018404960632, 0.5494838953018188, 0.28546762466430664, 0.9985311031341553, 0.10578882694244385, 0.8929821848869324, 0.04461461678147316, 0.9526532888412476, 0.996038556098938, 0.8593697547912598, 0.14070285856723785, 0.9972295165061951, 0.9960856437683105, 0.9983433485031128, 0.7489669322967529, 0.024773767217993736, 0.22616051137447357, 0.9987055063247681, 0.032597970217466354, 0.9667335748672485, 0.1211404949426651, 0.87615567445755, 0.1390523612499237, 0.8579826951026917, 0.9961954951286316, 0.9928179979324341, 0.46698105335235596, 0.5329609513282776, 0.9964969158172607, 0.999204695224762, 0.9982672333717346, 0.9889822602272034, 0.9969155788421631, 0.6143422722816467, 0.34071722626686096, 0.044522035866975784, 0.9472926259040833, 0.05089930444955826, 0.9964258074760437, 0.036900125443935394, 0.9610075950622559, 0.9974844455718994, 0.9980699419975281, 0.9939095377922058, 0.20003697276115417, 0.6271928548812866, 0.0837077796459198, 0.08924726396799088, 0.9982924461364746, 0.9963617920875549, 0.9916832447052002, 0.007586647756397724, 0.09340999275445938, 0.903741717338562, 0.9984851479530334, 0.9991715550422668, 0.9991732239723206, 0.33218052983283997, 0.6662064790725708, 0.9944219589233398, 0.6776156425476074, 0.10507434606552124, 0.1197131872177124, 0.09726696461439133, 0.997051477432251, 0.9900571703910828, 0.9980217218399048, 0.9988925457000732, 0.9988995790481567, 0.9986018538475037, 0.9968982934951782, 0.7108355760574341, 0.2888562083244324, 0.9976497888565063, 0.9970903992652893, 0.9058035016059875, 0.04124167934060097, 0.05221423879265785, 0.0007567281136289239, 0.9996920228004456, 0.997669517993927, 0.904700517654419, 0.059475235641002655, 0.03529831022024155, 0.833392322063446, 0.01975487545132637, 0.146449476480484, 0.9973016977310181, 0.9459589123725891, 0.05347932130098343, 0.21168924868106842, 0.7877225279808044, 0.9881654381752014, 0.9959341287612915, 0.998748779296875, 0.9988828897476196, 0.9985175132751465, 0.9983348846435547, 0.9990808963775635, 0.0476423054933548, 0.1444157361984253, 0.8054527640342712, 0.9975471496582031, 0.23166470229625702, 0.6959494352340698, 0.03391380235552788, 0.038690391927957535, 0.999028742313385, 0.9979292750358582, 0.0015051723457872868, 0.9979544281959534, 0.9954409599304199, 0.9993419051170349, 0.9984838366508484, 0.6110457181930542, 0.3888293504714966, 0.2288369983434677, 0.09099950641393661, 0.6798198819160461, 0.9991239309310913, 0.9977145195007324, 0.756247341632843, 0.15422801673412323, 0.08935633301734924, 0.99895179271698, 0.058550577610731125, 0.9408472180366516, 0.7707827687263489, 0.046823251992464066, 0.0072035775519907475, 0.1746867448091507, 0.9929026365280151, 0.9971369504928589, 0.08396521210670471, 0.9151265025138855, 0.99046790599823, 0.9991185665130615, 0.9990139007568359, 0.9977614879608154, 0.1724364161491394, 0.8174763321876526, 0.9947872757911682, 0.00381144555285573, 0.9996606707572937, 0.998215913772583, 0.09864487498998642, 0.8976683616638184, 0.04669352248311043, 0.26226192712783813, 0.690285861492157, 0.9474822282791138, 0.04839291051030159, 0.9939471483230591, 0.6463983654975891, 0.15801219642162323, 0.1955547034740448, 0.9961876273155212, 0.003339176531881094, 0.9970312118530273, 0.9458202719688416, 0.053570687770843506, 0.49183139204978943, 0.5080456137657166, 0.9987130165100098, 0.9969849586486816, 0.11750920861959457, 0.8813190460205078, 0.9923086762428284, 0.1260981261730194, 0.8657324910163879, 0.007947361096739769, 0.7086252570152283, 0.16268950700759888, 0.12631583213806152, 0.0023146881721913815, 0.6260726451873779, 0.3265250325202942, 0.046799179166555405, 0.0006579849286936224, 0.9960794448852539, 0.9983704090118408, 0.1632402390241623, 0.8364794850349426, 0.3740133047103882, 0.15868297219276428, 0.3789391815662384, 0.07283232361078262, 0.01548126619309187, 0.9999110698699951, 0.3434807360172272, 0.29139694571495056, 0.3349703252315521, 0.029956694692373276, 0.06189381331205368, 0.9352843165397644, 0.9986376762390137, 0.9933950901031494, 0.034917738288640976, 0.964602530002594, 0.664421796798706, 0.3343404531478882, 0.9974779486656189, 0.9990283846855164, 0.9933763146400452, 0.9961469769477844, 0.09415334463119507, 0.9016993045806885, 0.9965603947639465, 0.14341169595718384, 0.08714693039655685, 0.1116834431886673, 0.0456886813044548, 0.6121436953544617, 0.9987209439277649, 0.7065645456314087, 0.08111513406038284, 0.21193484961986542, 0.20997995138168335, 0.26209908723831177, 0.46606528759002686, 0.03257445618510246, 0.02956758253276348, 0.9980465769767761, 0.9994405508041382, 0.2378034144639969, 0.2602051794528961, 0.04480354115366936, 0.4566514790058136, 0.9968650937080383, 0.9977295398712158, 0.34255340695381165, 0.5515627861022949, 0.10579943656921387, 0.6237890124320984, 0.2622402310371399, 0.0699620321393013, 0.00821701716631651, 0.035685330629348755, 0.9991387128829956, 0.6419391632080078, 0.35777848958969116, 0.9931785464286804, 0.9976885914802551, 0.9993628859519958, 0.9985475540161133, 0.5308447480201721, 0.1563163846731186, 0.2717316150665283, 0.04111871495842934, 0.6517224311828613, 0.30820968747138977, 0.039369847625494, 0.0006922171451151371, 0.9985475540161133, 0.998491644859314, 0.21995967626571655, 0.4776841402053833, 0.22056230902671814, 0.08175670355558395, 0.22181817889213562, 0.6866719126701355, 0.027968378737568855, 0.0636521726846695, 0.9988780617713928, 0.07847502827644348, 0.3932983875274658, 0.52809077501297, 0.9990952014923096, 0.998204231262207, 0.30975890159606934, 0.6145938634872437, 0.0756492093205452, 0.42627018690109253, 0.05772408843040466, 0.5160632133483887, 0.15635867416858673, 0.8423193097114563, 0.6476524472236633, 0.3522009253501892, 0.8954033851623535, 0.08458001166582108, 0.01971413753926754, 0.04416594281792641, 0.9553285837173462, 0.9955937266349792, 0.3169602155685425, 0.6812018156051636, 0.9951042532920837, 0.3299899995326996, 0.6679315567016602, 0.9610176086425781, 0.03773629292845726, 0.9936394691467285, 0.021849188953638077, 0.9750201106071472, 0.9981123208999634, 0.007254856172949076, 0.29261255264282227, 0.07416075468063354, 0.014509712345898151, 0.6110201478004456, 0.9966418147087097, 0.9963585734367371, 0.9980838298797607, 0.35319820046424866, 0.16439178586006165, 0.48178189992904663, 0.9956292510032654, 0.9983214735984802, 0.831213116645813, 0.16843967139720917, 0.9979972839355469, 0.6798340678215027, 0.1734345257282257, 0.050127699971199036, 0.09659644961357117, 0.3121662139892578, 0.6878871917724609, 0.9969313144683838, 0.37238016724586487, 0.290001779794693, 0.33734139800071716, 0.9995274543762207, 0.47723403573036194, 0.5138294696807861, 0.008588719181716442, 0.9990165829658508, 0.9984626173973083, 0.05851384252309799, 0.940902590751648, 0.486453115940094, 0.09681669622659683, 0.3933601379394531, 0.023357873782515526, 0.9942821264266968, 0.9984370470046997, 0.998352587223053, 0.9992502331733704, 0.9976258873939514, 0.997706949710846, 0.9878788590431213, 0.011572184972465038, 0.4936370849609375, 0.10005467385053635, 0.04951685294508934, 0.13017317652702332, 0.2261439859867096, 0.07094261795282364, 0.08636492490768433, 0.16347646713256836, 0.6801238059997559, 0.999392569065094, 0.9655808806419373, 0.03318147361278534, 0.9899768829345703, 0.9131428003311157, 0.08483967185020447, 0.594046413898468, 0.3421391546726227, 0.063154436647892, 0.0006315443897619843, 0.9972978234291077, 0.7596526741981506, 0.13247646391391754, 0.10779590904712677, 0.9968684315681458, 0.9972838759422302, 0.999052882194519, 0.9992336630821228, 0.9944208264350891, 0.9957683682441711, 0.11460036039352417, 0.8852770924568176, 0.0640261173248291, 0.9338982105255127, 0.9988043308258057, 0.6806529760360718, 0.3191749155521393, 0.6594493389129639, 0.1116773709654808, 0.20455756783485413, 0.024325763806700706, 0.9958174228668213, 0.2007666975259781, 0.03844468668103218, 0.7582146525382996, 0.25190767645835876, 0.11461799591779709, 0.43328121304512024, 0.1990070641040802, 0.99828040599823, 0.9939716458320618, 0.9955069422721863, 0.9955984354019165, 0.22131097316741943, 0.1124345138669014, 0.6660677790641785, 0.99842369556427, 0.9944565296173096, 0.9979362487792969, 0.9982094764709473, 0.6563714146614075, 0.19284066557884216, 0.07279809564352036, 0.07784939557313919, 0.677076518535614, 0.3034180998802185, 0.018235478550195694, 0.001350776175968349, 0.998101532459259, 0.36737123131752014, 0.031122280284762383, 0.37539243698120117, 0.15657393634319305, 0.06962406635284424, 0.10937542468309402, 0.665695071220398, 0.10347387939691544, 0.12137524783611298, 0.0004967630957253277, 0.882748007774353, 0.041728101670742035, 0.0745144635438919, 0.996783435344696, 0.9831128120422363, 0.016447514295578003, 0.9985408782958984, 0.9988027215003967, 0.9930555820465088, 0.9779461026191711, 0.02010166645050049, 0.0010050833225250244, 0.9992519021034241, 0.5812705159187317, 0.07775844633579254, 0.33753442764282227, 0.0034869257360696793, 0.9952081441879272, 0.6921513676643372, 0.01779661327600479, 0.25627124309539795, 0.0323076993227005, 0.0013689703773707151, 0.9991405606269836, 0.9995905756950378, 0.9989261031150818, 0.3471362888813019, 0.18718132376670837, 0.41763314604759216, 0.015557928010821342, 0.032088227570056915, 0.20227287709712982, 0.7964494824409485, 0.9864310026168823, 0.012705786153674126, 0.07957851886749268, 0.2143314778804779, 0.7055962085723877, 0.11484116315841675, 0.03349534049630165, 0.8501436114311218, 0.3486228883266449, 0.23906604945659637, 0.25140026211738586, 0.1607075333595276, 0.647691011428833, 0.0407102070748806, 0.3024936318397522, 0.006610162556171417, 0.0025181572418659925, 0.8498237133026123, 0.00039138333522714674, 0.14911705255508423, 0.0006523056072182953, 0.9945481419563293, 0.9997682571411133, 0.9963396787643433, 0.07675425708293915, 0.9187936186790466, 0.002257478190585971], \"Term\": [\"accept\", \"accept\", \"accept\", \"administration\", \"advance\", \"agencies\", \"also\", \"also\", \"also\", \"also\", \"amendment\", \"american\", \"american\", \"american\", \"anyone\", \"anyone\", \"anyone\", \"arab\", \"argic\", \"argument\", \"armenia\", \"armenian\", \"armenians\", \"army\", \"arrests\", \"article\", \"article\", \"article\", \"article\", \"atheists\", \"available\", \"available\", \"ax\", \"azerbaijani\", \"back\", \"back\", \"banks\", \"batf\", \"belief\", \"beliefs\", \"believe\", \"believe\", \"better\", \"better\", \"better\", \"bhj\", \"bible\", \"big\", \"big\", \"bike\", \"bit\", \"bit\", \"bit\", \"biz\", \"bj\", \"board\", \"book\", \"book\", \"book\", \"cable\", \"car\", \"card\", \"card\", \"cards\", \"center\", \"center\", \"center\", \"chicago\", \"children\", \"children\", \"children\", \"christ\", \"christian\", \"christianity\", \"christians\", \"church\", \"claim\", \"claim\", \"claim\", \"clinton\", \"clipper\", \"color\", \"computer\", \"computer\", \"congress\", \"congress\", \"constitution\", \"contact\", \"context\", \"control\", \"control\", \"control\", \"control\", \"conversations\", \"could\", \"could\", \"could\", \"could\", \"country\", \"country\", \"country\", \"couple\", \"court\", \"court\", \"crime\", \"crime\", \"criminals\", \"data\", \"data\", \"davidian\", \"di\", \"disk\", \"dont\", \"dont\", \"dont\", \"dos\", \"drive\", \"drive\", \"drug\", \"drug\", \"drugs\", \"drugs\", \"economic\", \"economy\", \"edu\", \"edu\", \"ei\", \"email\", \"encryption\", \"estimating\", \"eternal\", \"even\", \"even\", \"even\", \"evidence\", \"evidence\", \"evil\", \"exist\", \"exist\", \"existence\", \"ey\", \"ez\", \"fact\", \"fact\", \"fact\", \"fact\", \"faith\", \"false\", \"fax\", \"fax\", \"fbi\", \"fbi\", \"federal\", \"file\", \"files\", \"fire\", \"fire\", \"firearms\", \"first\", \"first\", \"first\", \"first\", \"food\", \"fq\", \"ftp\", \"game\", \"games\", \"gay\", \"genocide\", \"get\", \"get\", \"giz\", \"gk\", \"go\", \"go\", \"go\", \"go\", \"god\", \"gods\", \"going\", \"going\", \"going\", \"good\", \"good\", \"good\", \"gordon\", \"got\", \"got\", \"government\", \"government\", \"govt\", \"gq\", \"graphics\", \"gun\", \"guns\", \"guy\", \"hardware\", \"health\", \"health\", \"health\", \"heaven\", \"help\", \"help\", \"help\", \"help\", \"hes\", \"hi\", \"hi\", \"hit\", \"hitler\", \"hockey\", \"homeopathy\", \"host\", \"host\", \"house\", \"house\", \"house\", \"ibm\", \"ide\", \"im\", \"im\", \"im\", \"image\", \"info\", \"info\", \"information\", \"information\", \"information\", \"information\", \"initiative\", \"insurance\", \"internet\", \"internet\", \"irq\", \"israel\", \"israeli\", \"israelis\", \"jb\", \"jb\", \"je\", \"je\", \"jesus\", \"jews\", \"jobs\", \"jobs\", \"key\", \"key\", \"key\", \"killed\", \"killed\", \"kn\", \"know\", \"know\", \"know\", \"la\", \"la\", \"land\", \"last\", \"last\", \"law\", \"law\", \"league\", \"lebanon\", \"legal\", \"legal\", \"lg\", \"life\", \"life\", \"life\", \"like\", \"like\", \"like\", \"like\", \"lines\", \"lines\", \"lines\", \"lines\", \"lord\", \"mac\", \"mail\", \"mail\", \"many\", \"many\", \"many\", \"many\", \"many\", \"max\", \"may\", \"may\", \"may\", \"may\", \"meaning\", \"meaning\", \"memory\", \"mf\", \"mg\", \"mg\", \"military\", \"military\", \"militia\", \"mine\", \"mo\", \"moral\", \"mother\", \"mother\", \"mq\", \"mr\", \"mr\", \"mr\", \"mr\", \"mr\", \"msg\", \"much\", \"much\", \"much\", \"must\", \"must\", \"must\", \"must\", \"must\", \"na\", \"nasa\", \"national\", \"national\", \"national\", \"national\", \"nature\", \"nazi\", \"need\", \"need\", \"need\", \"new\", \"new\", \"new\", \"new\", \"new\", \"nhl\", \"nntp\", \"nntp\", \"nrhj\", \"nsa\", \"oh\", \"oil\", \"one\", \"one\", \"one\", \"one\", \"organization\", \"organization\", \"organization\", \"organization\", \"package\", \"pc\", \"people\", \"people\", \"people\", \"people\", \"person\", \"person\", \"person\", \"person\", \"pittsburgh\", \"pl\", \"pl\", \"pl\", \"play\", \"players\", \"please\", \"please\", \"please\", \"point\", \"point\", \"point\", \"police\", \"police\", \"posting\", \"posting\", \"power\", \"power\", \"power\", \"president\", \"president\", \"presidents\", \"press\", \"press\", \"privacy\", \"private\", \"private\", \"program\", \"program\", \"proposal\", \"protect\", \"protect\", \"pts\", \"public\", \"public\", \"public\", \"public\", \"public\", \"punishment\", \"qax\", \"qq\", \"question\", \"question\", \"question\", \"radar\", \"ram\", \"really\", \"really\", \"religion\", \"right\", \"right\", \"right\", \"right\", \"rights\", \"rights\", \"ruled\", \"said\", \"said\", \"said\", \"sale\", \"say\", \"say\", \"say\", \"scsi\", \"season\", \"security\", \"security\", \"see\", \"see\", \"see\", \"see\", \"senate\", \"serdar\", \"server\", \"software\", \"soldiers\", \"soviet\", \"space\", \"space\", \"state\", \"state\", \"state\", \"state\", \"state\", \"states\", \"states\", \"states\", \"states\", \"stephanopoulos\", \"steve\", \"steve\", \"stimulus\", \"study\", \"study\", \"subject\", \"subject\", \"subject\", \"subject\", \"sumgait\", \"system\", \"system\", \"system\", \"tax\", \"taxes\", \"team\", \"teams\", \"terrorists\", \"tg\", \"thanks\", \"thanks\", \"therefore\", \"therefore\", \"theyre\", \"think\", \"think\", \"time\", \"time\", \"time\", \"time\", \"tl\", \"tm\", \"tm\", \"tm\", \"today\", \"today\", \"today\", \"today\", \"toronto\", \"tq\", \"trial\", \"troops\", \"true\", \"true\", \"true\", \"truth\", \"turkey\", \"turkish\", \"turks\", \"two\", \"two\", \"two\", \"two\", \"university\", \"university\", \"university\", \"university\", \"unix\", \"us\", \"us\", \"us\", \"us\", \"us\", \"use\", \"use\", \"use\", \"use\", \"using\", \"using\", \"using\", \"using\", \"verses\", \"version\", \"version\", \"via\", \"video\", \"villages\", \"vs\", \"vs\", \"vs\", \"war\", \"way\", \"way\", \"way\", \"way\", \"weapon\", \"well\", \"well\", \"well\", \"well\", \"well\", \"window\", \"windows\", \"wire\", \"without\", \"without\", \"without\", \"without\", \"without\", \"wm\", \"wm\", \"wont\", \"wont\", \"word\", \"word\", \"word\", \"words\", \"words\", \"words\", \"world\", \"world\", \"world\", \"world\", \"would\", \"would\", \"would\", \"would\", \"would\", \"writes\", \"writes\", \"writes\", \"writes\", \"wt\", \"year\", \"yf\", \"yo\", \"yo\", \"yo\"]}, \"R\": 30, \"lambda.step\": 0.01, \"plot.opts\": {\"xlab\": \"PC1\", \"ylab\": \"PC2\"}, \"topic.order\": [5, 2, 3, 1, 6, 4]};\n",
       "\n",
       "function LDAvis_load_lib(url, callback){\n",
       "  var s = document.createElement('script');\n",
       "  s.src = url;\n",
       "  s.async = true;\n",
       "  s.onreadystatechange = s.onload = callback;\n",
       "  s.onerror = function(){console.warn(\"failed to load library \" + url);};\n",
       "  document.getElementsByTagName(\"head\")[0].appendChild(s);\n",
       "}\n",
       "\n",
       "if(typeof(LDAvis) !== \"undefined\"){\n",
       "   // already loaded: just create the visualization\n",
       "   !function(LDAvis){\n",
       "       new LDAvis(\"#\" + \"ldavis_el2016430240090598089570065359\", ldavis_el2016430240090598089570065359_data);\n",
       "   }(LDAvis);\n",
       "}else if(typeof define === \"function\" && define.amd){\n",
       "   // require.js is available: use it to load d3/LDAvis\n",
       "   require.config({paths: {d3: \"https://cdnjs.cloudflare.com/ajax/libs/d3/3.5.5/d3.min\"}});\n",
       "   require([\"d3\"], function(d3){\n",
       "      window.d3 = d3;\n",
       "      LDAvis_load_lib(\"https://cdn.rawgit.com/bmabey/pyLDAvis/files/ldavis.v1.0.0.js\", function(){\n",
       "        new LDAvis(\"#\" + \"ldavis_el2016430240090598089570065359\", ldavis_el2016430240090598089570065359_data);\n",
       "      });\n",
       "    });\n",
       "}else{\n",
       "    // require.js not available: dynamically load d3 & LDAvis\n",
       "    LDAvis_load_lib(\"https://cdnjs.cloudflare.com/ajax/libs/d3/3.5.5/d3.min.js\", function(){\n",
       "         LDAvis_load_lib(\"https://cdn.rawgit.com/bmabey/pyLDAvis/files/ldavis.v1.0.0.js\", function(){\n",
       "                 new LDAvis(\"#\" + \"ldavis_el2016430240090598089570065359\", ldavis_el2016430240090598089570065359_data);\n",
       "            })\n",
       "         });\n",
       "}\n",
       "</script>"
      ],
      "text/plain": [
       "PreparedData(topic_coordinates=              x         y  topics  cluster       Freq\n",
       "topic                                                \n",
       "4     -0.212602  0.086814       1        1  39.756340\n",
       "1     -0.138816  0.159283       2        1  25.166203\n",
       "2     -0.167879  0.002106       3        1  16.316360\n",
       "0      0.024394 -0.223274       4        1   7.756248\n",
       "5      0.373873  0.195318       5        1   5.854996\n",
       "3      0.121029 -0.220246       6        1   5.149842, topic_info=      Category          Freq            Term         Total  loglift  logprob\n",
       "term                                                                        \n",
       "5085   Default  69453.000000              ax  69453.000000  30.0000  30.0000\n",
       "4573   Default   5041.000000             max   5041.000000  29.0000  29.0000\n",
       "487    Default   4978.000000          people   4978.000000  28.0000  28.0000\n",
       "2714   Default   2363.000000              mr   2363.000000  27.0000  27.0000\n",
       "376    Default   5083.000000             use   5083.000000  26.0000  26.0000\n",
       "61371  Default   1519.000000  stephanopoulos   1519.000000  25.0000  25.0000\n",
       "1222   Default   2423.000000           jesus   2423.000000  24.0000  24.0000\n",
       "179    Default   9530.000000           would   9530.000000  23.0000  23.0000\n",
       "384    Default   7665.000000          writes   7665.000000  22.0000  22.0000\n",
       "541    Default   2368.000000             god   2368.000000  21.0000  21.0000\n",
       "1657   Default   1676.000000      government   1676.000000  20.0000  20.0000\n",
       "900    Default   1850.000000             law   1850.000000  19.0000  19.0000\n",
       "2333   Default   2592.000000           space   2592.000000  18.0000  18.0000\n",
       "495    Default   2682.000000            said   2682.000000  17.0000  17.0000\n",
       "898    Default   1284.000000             key   1284.000000  16.0000  16.0000\n",
       "256    Default   6256.000000            dont   6256.000000  15.0000  15.0000\n",
       "26     Default  12158.000000           lines  12158.000000  14.0000  14.0000\n",
       "1039   Default   4207.000000           think   4207.000000  13.0000  13.0000\n",
       "1375   Default   1041.000000       president   1041.000000  12.0000  12.0000\n",
       "49     Default  12667.000000         subject  12667.000000  11.0000  11.0000\n",
       "36     Default  11557.000000    organization  11557.000000  10.0000  10.0000\n",
       "2939   Default   2221.000000     information   2221.000000   9.0000   9.0000\n",
       "728    Default   1240.000000          public   1240.000000   8.0000   8.0000\n",
       "238    Default   2755.000000          system   2755.000000   7.0000   7.0000\n",
       "64     Default   7282.000000         article   7282.000000   6.0000   6.0000\n",
       "333    Default   1887.000000            life   1887.000000   5.0000   5.0000\n",
       "247    Default   1991.000000         windows   1991.000000   4.0000   4.0000\n",
       "1160   Default   2122.000000         believe   2122.000000   3.0000   3.0000\n",
       "564    Default   9192.000000             one   9192.000000   2.0000   2.0000\n",
       "2678   Default    848.000000             gun    848.000000   1.0000   1.0000\n",
       "...        ...           ...             ...           ...      ...      ...\n",
       "6929    Topic6    111.742172   conversations    112.632080   2.9583  -6.7376\n",
       "28492   Topic6    138.434540      estimating    139.537384   2.9583  -6.5234\n",
       "2735    Topic6    357.042816         protect    366.146301   2.9410  -5.5760\n",
       "1375    Topic6    994.608337       president   1041.526489   2.9201  -4.5515\n",
       "1052    Topic6    363.322235           crime    381.041046   2.9186  -5.5585\n",
       "2758    Topic6    401.657532        security    427.249329   2.9044  -5.4582\n",
       "1588    Topic6    257.231171        congress    270.401978   2.9163  -5.9038\n",
       "1657    Topic6   1321.373779      government   1676.986450   2.7279  -4.2674\n",
       "3946    Topic6    501.372040          police    594.786316   2.7954  -5.2365\n",
       "1059    Topic6    541.452454          health    671.671936   2.7507  -5.1596\n",
       "903     Topic6    314.523071           legal    357.418793   2.8384  -5.7028\n",
       "3557    Topic6    287.155273           court    321.394989   2.8536  -5.7938\n",
       "1438    Topic6    311.115082            drug    354.959747   2.8344  -5.7137\n",
       "898     Topic6    886.720337             key   1284.974854   2.5952  -4.6663\n",
       "2714    Topic6   1446.585327              mr   2363.823975   2.4751  -4.1769\n",
       "728     Topic6    758.318359          public   1240.548340   2.4740  -4.8227\n",
       "3006    Topic6    272.994781            jobs    304.121216   2.8582  -5.8444\n",
       "1452    Topic6    507.699829           house    747.256775   2.5797  -5.2239\n",
       "900     Topic6    939.742737             law   1850.227539   2.2887  -4.6082\n",
       "1384    Topic6    440.838013          states    648.411377   2.5804  -5.3651\n",
       "8155    Topic6    290.399963           drugs    338.002167   2.8144  -5.7826\n",
       "811     Topic6    367.518951          rights    534.971436   2.5908  -5.5470\n",
       "268     Topic6    529.723816        national   1160.622559   2.1818  -5.1815\n",
       "3147    Topic6    336.287811         private    503.045563   2.5635  -5.6358\n",
       "2645    Topic6    376.354828         control    868.358154   2.1301  -5.5233\n",
       "376     Topic6    617.095886             use   5083.408691   0.8575  -5.0288\n",
       "235     Topic6    443.313782           state   1958.928955   1.4803  -5.3595\n",
       "2939    Topic6    387.797882     information   2221.118652   1.2209  -5.4933\n",
       "487     Topic6    406.648651          people   4978.185059   0.4613  -5.4459\n",
       "1532    Topic6    320.495148        american    869.573853   1.9681  -5.6839\n",
       "\n",
       "[374 rows x 6 columns], token_table=       Topic      Freq            Term\n",
       "term                                  \n",
       "3216       2  0.112609          accept\n",
       "3216       3  0.875445          accept\n",
       "3216       4  0.010898          accept\n",
       "1525       6  0.996394  administration\n",
       "401        2  0.998470         advance\n",
       "9724       6  0.997726        agencies\n",
       "453        1  0.290482            also\n",
       "453        2  0.407767            also\n",
       "453        3  0.248864            also\n",
       "453        4  0.052758            also\n",
       "2612       6  0.994794       amendment\n",
       "1532       1  0.354196        american\n",
       "1532       4  0.275997        american\n",
       "1532       6  0.367996        american\n",
       "1          1  0.449703          anyone\n",
       "1          2  0.469459          anyone\n",
       "1          3  0.080364          anyone\n",
       "1330       4  0.996972            arab\n",
       "6384       4  0.998675           argic\n",
       "1536       3  0.998641        argument\n",
       "6385       4  0.996571         armenia\n",
       "6386       4  0.999161        armenian\n",
       "6387       4  0.998445       armenians\n",
       "1537       4  0.995626            army\n",
       "28140      6  0.993095         arrests\n",
       "64         1  0.861351         article\n",
       "64         2  0.021970         article\n",
       "64         3  0.105043         article\n",
       "64         4  0.011671         article\n",
       "512        3  0.995865        atheists\n",
       "...      ...       ...             ...\n",
       "504        6  0.032088         without\n",
       "7801       2  0.202273              wm\n",
       "7801       5  0.796449              wm\n",
       "1978       1  0.986431            wont\n",
       "1978       3  0.012706            wont\n",
       "2894       1  0.079579            word\n",
       "2894       2  0.214331            word\n",
       "2894       3  0.705596            word\n",
       "505        1  0.114841           words\n",
       "505        2  0.033495           words\n",
       "505        3  0.850144           words\n",
       "590        1  0.348623           world\n",
       "590        2  0.239066           world\n",
       "590        3  0.251400           world\n",
       "590        4  0.160708           world\n",
       "179        1  0.647691           would\n",
       "179        2  0.040710           would\n",
       "179        3  0.302494           would\n",
       "179        4  0.006610           would\n",
       "179        6  0.002518           would\n",
       "384        1  0.849824          writes\n",
       "384        2  0.000391          writes\n",
       "384        3  0.149117          writes\n",
       "384        4  0.000652          writes\n",
       "10908      5  0.994548              wt\n",
       "385        1  0.999768            year\n",
       "19145      5  0.996340              yf\n",
       "8199       2  0.076754              yo\n",
       "8199       3  0.918794              yo\n",
       "8199       5  0.002257              yo\n",
       "\n",
       "[578 rows x 3 columns], R=30, lambda_step=0.01, plot_opts={'xlab': 'PC1', 'ylab': 'PC2'}, topic_order=[5, 2, 3, 1, 6, 4])"
      ]
     },
     "execution_count": 69,
     "metadata": {},
     "output_type": "execute_result"
    }
   ],
   "source": [
    "vis"
   ]
  },
  {
   "cell_type": "markdown",
   "metadata": {},
   "source": [
    "### Interpreting the Visual"
   ]
  },
  {
   "cell_type": "markdown",
   "metadata": {},
   "source": [
    "Each bubble on the left graph represents a topic. The larger the bubble, the more prevalent is that topic. A good topic model will have fairly big, non-overlapping bubbles scattered throughout the chart instead of being clustered in one quadrant. A model with too many topics, will typically have many overlaps, small sized bubbles clustered in one region of the chart."
   ]
  },
  {
   "cell_type": "markdown",
   "metadata": {},
   "source": [
    "### Model Tuning"
   ]
  },
  {
   "cell_type": "markdown",
   "metadata": {},
   "source": [
    "Getting most optimal number of topics"
   ]
  },
  {
   "cell_type": "code",
   "execution_count": 26,
   "metadata": {},
   "outputs": [],
   "source": [
    "limit=50; \n",
    "start=1; \n",
    "step=6;"
   ]
  },
  {
   "cell_type": "code",
   "execution_count": 31,
   "metadata": {},
   "outputs": [],
   "source": [
    "def compute_optimal_topics(dictionary, corpus, texts, limit, start=2, step=3):\n",
    "    coherence_values = []\n",
    "    model_list = []\n",
    "    for num_topics in range(start, limit, step):\n",
    "        model = gensim.models.ldamodel.LdaModel(corpus=corpus, num_topics=num_topics, id2word=id2word)\n",
    "        model_list.append(model)\n",
    "        coherencemodel = CoherenceModel(model=model, texts=texts, dictionary=dictionary, coherence='c_v')\n",
    "        coherence_values.append(coherencemodel.get_coherence())\n",
    "\n",
    "    return model_list, coherence_values"
   ]
  },
  {
   "cell_type": "code",
   "execution_count": 33,
   "metadata": {},
   "outputs": [],
   "source": [
    "model_list, coherence_values = compute_optimal_topics(dictionary=id2word, corpus=corpus, texts=tokenized_data, start=start, limit=limit, step=step)"
   ]
  },
  {
   "cell_type": "markdown",
   "metadata": {},
   "source": [
    "Vsualize"
   ]
  },
  {
   "cell_type": "code",
   "execution_count": 34,
   "metadata": {},
   "outputs": [
    {
     "data": {
      "image/png": "[encoded data removed]",
      "text/plain": [
       "<Figure size 432x288 with 1 Axes>"
      ]
     },
     "metadata": {},
     "output_type": "display_data"
    }
   ],
   "source": [
    "x = range(start, limit, step)\n",
    "plt.plot(x, coherence_values)\n",
    "plt.xlabel(\"Num Topics\")\n",
    "plt.ylabel(\"Coherence score\")\n",
    "plt.legend((\"coherence_values\"), loc='best')\n",
    "plt.show()"
   ]
  },
  {
   "cell_type": "markdown",
   "metadata": {},
   "source": [
    "Show topics and coherence values"
   ]
  },
  {
   "cell_type": "code",
   "execution_count": 35,
   "metadata": {},
   "outputs": [
    {
     "name": "stdout",
     "output_type": "stream",
     "text": [
      "Num Topics = 0  is having Coherence Value of 0.563\n",
      "Num Topics = 6  is having Coherence Value of 0.653\n",
      "Num Topics = 12  is having Coherence Value of 0.6139\n",
      "Num Topics = 18  is having Coherence Value of 0.5724\n",
      "Num Topics = 24  is having Coherence Value of 0.5734\n",
      "Num Topics = 30  is having Coherence Value of 0.5456\n",
      "Num Topics = 36  is having Coherence Value of 0.5491\n",
      "Num Topics = 42  is having Coherence Value of 0.5209\n",
      "Num Topics = 48  is having Coherence Value of 0.5358\n"
     ]
    }
   ],
   "source": [
    "for m, cv in zip(x, coherence_values):\n",
    "   print(\"Num Topics =\", m, \" is having Coherence Value of\", round(cv, 4))"
   ]
  },
  {
   "cell_type": "markdown",
   "metadata": {},
   "source": [
    "### Other Topic Modeling Algorithms Implemented in gensim"
   ]
  },
  {
   "cell_type": "markdown",
   "metadata": {},
   "source": [
    "#### 1. LDA Mallet Model"
   ]
  },
  {
   "cell_type": "markdown",
   "metadata": {},
   "source": [
    "MAchine Learning for LanguagE Toolkit (MALLET) is an open source toolkit developed by Andrew McCullum. It is a Java based package which is used for NLP tasks such as document classification, clustering, topic modeling e.t.c. Mallet provides Topic Modeling capabilities which contains an efficient, sampling-based implementations of LDA as well as Hierarchical LDA.\n",
    "\n",
    "To use MALLET we must download it from here<a href='http://mallet.cs.umass.edu/dist/mallet-2.0.8.zip'>mallet</a> and unzip it in a local directory."
   ]
  },
  {
   "cell_type": "markdown",
   "metadata": {},
   "source": [
    "Locate the Mallet file"
   ]
  },
  {
   "cell_type": "code",
   "execution_count": 57,
   "metadata": {},
   "outputs": [],
   "source": [
    "# import os\n",
    "# os.environ.update({'MALLET_HOME':r'C:/mallet/mallet-2.0.8/'})"
   ]
  },
  {
   "cell_type": "code",
   "execution_count": 58,
   "metadata": {},
   "outputs": [
    {
     "ename": "CalledProcessError",
     "evalue": "Command 'C:/mallet/mallet-2.0.8/bin/mallet import-file --preserve-case --keep-sequence --remove-stopwords --token-regex \"\\S+\" --input C:\\Users\\soongaya\\AppData\\Local\\Temp\\2e0ca1_corpus.txt --output C:\\Users\\soongaya\\AppData\\Local\\Temp\\2e0ca1_corpus.mallet' returned non-zero exit status 1.",
     "output_type": "error",
     "traceback": [
      "\u001b[1;31m---------------------------------------------------------------------------\u001b[0m",
      "\u001b[1;31mCalledProcessError\u001b[0m                        Traceback (most recent call last)",
      "\u001b[1;32m<ipython-input-58-602b99cab34b>\u001b[0m in \u001b[0;36m<module>\u001b[1;34m()\u001b[0m\n\u001b[0;32m      1\u001b[0m \u001b[0mmallet_path\u001b[0m \u001b[1;33m=\u001b[0m \u001b[1;34m'C:/mallet/mallet-2.0.8/bin/mallet'\u001b[0m \u001b[1;31m# update this path to where you have unzipped your mallet file\u001b[0m\u001b[1;33m\u001b[0m\u001b[0m\n\u001b[1;32m----> 2\u001b[1;33m \u001b[0mmallet_model\u001b[0m \u001b[1;33m=\u001b[0m \u001b[0mgensim\u001b[0m\u001b[1;33m.\u001b[0m\u001b[0mmodels\u001b[0m\u001b[1;33m.\u001b[0m\u001b[0mwrappers\u001b[0m\u001b[1;33m.\u001b[0m\u001b[0mLdaMallet\u001b[0m\u001b[1;33m(\u001b[0m\u001b[0mmallet_path\u001b[0m\u001b[1;33m,\u001b[0m \u001b[0mcorpus\u001b[0m\u001b[1;33m=\u001b[0m\u001b[0mcorpus\u001b[0m\u001b[1;33m,\u001b[0m \u001b[0mnum_topics\u001b[0m\u001b[1;33m=\u001b[0m\u001b[1;36m20\u001b[0m\u001b[1;33m,\u001b[0m \u001b[0mid2word\u001b[0m\u001b[1;33m=\u001b[0m\u001b[0mid2word\u001b[0m\u001b[1;33m)\u001b[0m\u001b[1;33m\u001b[0m\u001b[0m\n\u001b[0m",
      "\u001b[1;32m~\\Anaconda3\\lib\\site-packages\\gensim\\models\\wrappers\\ldamallet.py\u001b[0m in \u001b[0;36m__init__\u001b[1;34m(self, mallet_path, corpus, num_topics, alpha, id2word, workers, prefix, optimize_interval, iterations, topic_threshold, random_seed)\u001b[0m\n\u001b[0;32m    129\u001b[0m         \u001b[0mself\u001b[0m\u001b[1;33m.\u001b[0m\u001b[0mrandom_seed\u001b[0m \u001b[1;33m=\u001b[0m \u001b[0mrandom_seed\u001b[0m\u001b[1;33m\u001b[0m\u001b[0m\n\u001b[0;32m    130\u001b[0m         \u001b[1;32mif\u001b[0m \u001b[0mcorpus\u001b[0m \u001b[1;32mis\u001b[0m \u001b[1;32mnot\u001b[0m \u001b[1;32mNone\u001b[0m\u001b[1;33m:\u001b[0m\u001b[1;33m\u001b[0m\u001b[0m\n\u001b[1;32m--> 131\u001b[1;33m             \u001b[0mself\u001b[0m\u001b[1;33m.\u001b[0m\u001b[0mtrain\u001b[0m\u001b[1;33m(\u001b[0m\u001b[0mcorpus\u001b[0m\u001b[1;33m)\u001b[0m\u001b[1;33m\u001b[0m\u001b[0m\n\u001b[0m\u001b[0;32m    132\u001b[0m \u001b[1;33m\u001b[0m\u001b[0m\n\u001b[0;32m    133\u001b[0m     \u001b[1;32mdef\u001b[0m \u001b[0mfinferencer\u001b[0m\u001b[1;33m(\u001b[0m\u001b[0mself\u001b[0m\u001b[1;33m)\u001b[0m\u001b[1;33m:\u001b[0m\u001b[1;33m\u001b[0m\u001b[0m\n",
      "\u001b[1;32m~\\Anaconda3\\lib\\site-packages\\gensim\\models\\wrappers\\ldamallet.py\u001b[0m in \u001b[0;36mtrain\u001b[1;34m(self, corpus)\u001b[0m\n\u001b[0;32m    270\u001b[0m \u001b[1;33m\u001b[0m\u001b[0m\n\u001b[0;32m    271\u001b[0m         \"\"\"\n\u001b[1;32m--> 272\u001b[1;33m         \u001b[0mself\u001b[0m\u001b[1;33m.\u001b[0m\u001b[0mconvert_input\u001b[0m\u001b[1;33m(\u001b[0m\u001b[0mcorpus\u001b[0m\u001b[1;33m,\u001b[0m \u001b[0minfer\u001b[0m\u001b[1;33m=\u001b[0m\u001b[1;32mFalse\u001b[0m\u001b[1;33m)\u001b[0m\u001b[1;33m\u001b[0m\u001b[0m\n\u001b[0m\u001b[0;32m    273\u001b[0m         \u001b[0mcmd\u001b[0m \u001b[1;33m=\u001b[0m \u001b[0mself\u001b[0m\u001b[1;33m.\u001b[0m\u001b[0mmallet_path\u001b[0m \u001b[1;33m+\u001b[0m \u001b[1;34m' train-topics --input %s --num-topics %s  --alpha %s --optimize-interval %s '\u001b[0m\u001b[0;31m\\\u001b[0m\u001b[1;33m\u001b[0m\u001b[0m\n\u001b[0;32m    274\u001b[0m             \u001b[1;34m'--num-threads %s --output-state %s --output-doc-topics %s --output-topic-keys %s '\u001b[0m\u001b[0;31m\\\u001b[0m\u001b[1;33m\u001b[0m\u001b[0m\n",
      "\u001b[1;32m~\\Anaconda3\\lib\\site-packages\\gensim\\models\\wrappers\\ldamallet.py\u001b[0m in \u001b[0;36mconvert_input\u001b[1;34m(self, corpus, infer, serialize_corpus)\u001b[0m\n\u001b[0;32m    259\u001b[0m             \u001b[0mcmd\u001b[0m \u001b[1;33m=\u001b[0m \u001b[0mcmd\u001b[0m \u001b[1;33m%\u001b[0m \u001b[1;33m(\u001b[0m\u001b[0mself\u001b[0m\u001b[1;33m.\u001b[0m\u001b[0mfcorpustxt\u001b[0m\u001b[1;33m(\u001b[0m\u001b[1;33m)\u001b[0m\u001b[1;33m,\u001b[0m \u001b[0mself\u001b[0m\u001b[1;33m.\u001b[0m\u001b[0mfcorpusmallet\u001b[0m\u001b[1;33m(\u001b[0m\u001b[1;33m)\u001b[0m\u001b[1;33m)\u001b[0m\u001b[1;33m\u001b[0m\u001b[0m\n\u001b[0;32m    260\u001b[0m         \u001b[0mlogger\u001b[0m\u001b[1;33m.\u001b[0m\u001b[0minfo\u001b[0m\u001b[1;33m(\u001b[0m\u001b[1;34m\"converting temporary corpus to MALLET format with %s\"\u001b[0m\u001b[1;33m,\u001b[0m \u001b[0mcmd\u001b[0m\u001b[1;33m)\u001b[0m\u001b[1;33m\u001b[0m\u001b[0m\n\u001b[1;32m--> 261\u001b[1;33m         \u001b[0mcheck_output\u001b[0m\u001b[1;33m(\u001b[0m\u001b[0margs\u001b[0m\u001b[1;33m=\u001b[0m\u001b[0mcmd\u001b[0m\u001b[1;33m,\u001b[0m \u001b[0mshell\u001b[0m\u001b[1;33m=\u001b[0m\u001b[1;32mTrue\u001b[0m\u001b[1;33m)\u001b[0m\u001b[1;33m\u001b[0m\u001b[0m\n\u001b[0m\u001b[0;32m    262\u001b[0m \u001b[1;33m\u001b[0m\u001b[0m\n\u001b[0;32m    263\u001b[0m     \u001b[1;32mdef\u001b[0m \u001b[0mtrain\u001b[0m\u001b[1;33m(\u001b[0m\u001b[0mself\u001b[0m\u001b[1;33m,\u001b[0m \u001b[0mcorpus\u001b[0m\u001b[1;33m)\u001b[0m\u001b[1;33m:\u001b[0m\u001b[1;33m\u001b[0m\u001b[0m\n",
      "\u001b[1;32m~\\Anaconda3\\lib\\site-packages\\gensim\\utils.py\u001b[0m in \u001b[0;36mcheck_output\u001b[1;34m(stdout, *popenargs, **kwargs)\u001b[0m\n\u001b[0;32m   1930\u001b[0m             \u001b[0merror\u001b[0m \u001b[1;33m=\u001b[0m \u001b[0msubprocess\u001b[0m\u001b[1;33m.\u001b[0m\u001b[0mCalledProcessError\u001b[0m\u001b[1;33m(\u001b[0m\u001b[0mretcode\u001b[0m\u001b[1;33m,\u001b[0m \u001b[0mcmd\u001b[0m\u001b[1;33m)\u001b[0m\u001b[1;33m\u001b[0m\u001b[0m\n\u001b[0;32m   1931\u001b[0m             \u001b[0merror\u001b[0m\u001b[1;33m.\u001b[0m\u001b[0moutput\u001b[0m \u001b[1;33m=\u001b[0m \u001b[0moutput\u001b[0m\u001b[1;33m\u001b[0m\u001b[0m\n\u001b[1;32m-> 1932\u001b[1;33m             \u001b[1;32mraise\u001b[0m \u001b[0merror\u001b[0m\u001b[1;33m\u001b[0m\u001b[0m\n\u001b[0m\u001b[0;32m   1933\u001b[0m         \u001b[1;32mreturn\u001b[0m \u001b[0moutput\u001b[0m\u001b[1;33m\u001b[0m\u001b[0m\n\u001b[0;32m   1934\u001b[0m     \u001b[1;32mexcept\u001b[0m \u001b[0mKeyboardInterrupt\u001b[0m\u001b[1;33m:\u001b[0m\u001b[1;33m\u001b[0m\u001b[0m\n",
      "\u001b[1;31mCalledProcessError\u001b[0m: Command 'C:/mallet/mallet-2.0.8/bin/mallet import-file --preserve-case --keep-sequence --remove-stopwords --token-regex \"\\S+\" --input C:\\Users\\soongaya\\AppData\\Local\\Temp\\2e0ca1_corpus.txt --output C:\\Users\\soongaya\\AppData\\Local\\Temp\\2e0ca1_corpus.mallet' returned non-zero exit status 1."
     ]
    }
   ],
   "source": [
    "# mallet_path = 'C:/mallet/mallet-2.0.8/bin/mallet' # update this path to where you have unzipped your mallet file\n",
    "# mallet_model = gensim.models.wrappers.LdaMallet(mallet_path, corpus=corpus, num_topics=20, id2word=id2word)"
   ]
  },
  {
   "cell_type": "code",
   "execution_count": null,
   "metadata": {},
   "outputs": [],
   "source": [
    "# Compute Coherence Score\n",
    "coherence_mallet_model = CoherenceModel(model=mallet_model, texts=tokenized_data, dictionary=id2word, coherence='c_v')\n",
    "coherence_mallet_model.get_coherence()"
   ]
  },
  {
   "cell_type": "markdown",
   "metadata": {},
   "source": [
    "#### 2. Hierarchical Dirichlet Process (HPD) Model"
   ]
  },
  {
   "cell_type": "markdown",
   "metadata": {},
   "source": [
    "hierarchical Dirichlet process (HDP) is a nonparametric Bayesian approach to clustering grouped data.[1][2] It uses a Dirichlet process for each group of data, with the Dirichlet processes for all groups sharing a base distribution which is itself drawn from a Dirichlet process. This method allows groups to share statistical strength via sharing of clusters across groups. The base distribution being drawn from a Dirichlet process is important, because draws from a Dirichlet process are atomic probability measures, and the atoms will appear in all group-level Dirichlet processes <a href='https://en.wikipedia.org/wiki/Hierarchical_Dirichlet_process'>wikipedia</a>.\n",
    "\n",
    "HDP is an extension of LDA model and is designed to handle where the number of mixture components (the number of \"topics\" in document-modeling terms) is not known.In HPD maximum number of topics can be unbounded and learned from the data rather than specified in advance."
   ]
  },
  {
   "cell_type": "markdown",
   "metadata": {},
   "source": [
    "Modeling with HDP"
   ]
  },
  {
   "cell_type": "code",
   "execution_count": 59,
   "metadata": {},
   "outputs": [],
   "source": [
    "hdp_model = gensim.models.hdpmodel.HdpModel(corpus=corpus, id2word=id2word)"
   ]
  },
  {
   "cell_type": "code",
   "execution_count": 60,
   "metadata": {},
   "outputs": [
    {
     "data": {
      "text/plain": [
       "0.4989710407164633"
      ]
     },
     "execution_count": 60,
     "metadata": {},
     "output_type": "execute_result"
    }
   ],
   "source": [
    "# Compute Coherence Score\n",
    "coherence_hdp_model = CoherenceModel(model=hdp_model, texts=tokenized_data, dictionary=id2word, coherence='c_v')\n",
    "coherence_hdp_model.get_coherence()"
   ]
  },
  {
   "cell_type": "markdown",
   "metadata": {},
   "source": [
    "#### 3. Latent Semantic Indexing (LSI)"
   ]
  },
  {
   "cell_type": "markdown",
   "metadata": {},
   "source": [
    "Latent semantic indexing (LSI) is an indexing and retrieval method that uses a mathematical technique called singular value decomposition (SVD) to identify patterns in the relationships between the terms and concepts contained in an unstructured collection of text. LSI is based on the principle that words that are used in the same contexts tend to have similar meanings. A key feature of LSI is its ability to extract the conceptual content of a body of text by establishing associations between those terms that occur in similar contexts. source:<a href='https://en.wikipedia.org/wiki/Latent_semantic_analysis#LSI_timeline'>wikipedia</a>"
   ]
  },
  {
   "cell_type": "markdown",
   "metadata": {},
   "source": [
    "Modeling with LSI"
   ]
  },
  {
   "cell_type": "code",
   "execution_count": 61,
   "metadata": {},
   "outputs": [],
   "source": [
    "lsi_model = gensim.models.lsimodel.LsiModel(corpus=corpus, id2word=id2word, num_topics=6,chunksize=100)"
   ]
  },
  {
   "cell_type": "code",
   "execution_count": 62,
   "metadata": {},
   "outputs": [
    {
     "data": {
      "text/plain": [
       "0.6893703163669846"
      ]
     },
     "execution_count": 62,
     "metadata": {},
     "output_type": "execute_result"
    }
   ],
   "source": [
    "# Compute Coherence Score\n",
    "coherence_lsi_model = CoherenceModel(model=lsi_model, texts=tokenized_data, dictionary=id2word, coherence='c_v')\n",
    "coherence_lsi_model.get_coherence()"
   ]
  },
  {
   "cell_type": "markdown",
   "metadata": {},
   "source": [
    "### Conclusion"
   ]
  },
  {
   "cell_type": "markdown",
   "metadata": {},
   "source": [
    "How to improve the model:<hr>\n",
    "1. Improve on text processing.\n",
    "2. The variety of topics the text talks about.\n",
    "3. Topic modeling algorithm to use.\n",
    "4. The number of topics to be retrieved from the algorithm.\n",
    "5. The Model hyperparameter tuning."
   ]
  }
 ],
 "metadata": {
  "kernelspec": {
   "display_name": "Python 3",
   "language": "python",
   "name": "python3"
  },
  "language_info": {
   "codemirror_mode": {
    "name": "ipython",
    "version": 3
   },
   "file_extension": ".py",
   "mimetype": "text/x-python",
   "name": "python",
   "nbconvert_exporter": "python",
   "pygments_lexer": "ipython3",
   "version": "3.6.5"
  }
 },
 "nbformat": 4,
 "nbformat_minor": 2
}
