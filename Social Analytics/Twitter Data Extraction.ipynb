{
 "cells": [
  {
   "cell_type": "markdown",
   "metadata": {},
   "source": [
    "Install the tweepy library"
   ]
  },
  {
   "cell_type": "code",
   "execution_count": 1,
   "metadata": {},
   "outputs": [],
   "source": [
    "# !pip install tweepy\n",
    "# !pip install mysqlclient"
   ]
  },
  {
   "cell_type": "markdown",
   "metadata": {},
   "source": [
    "Import required libraries"
   ]
  },
  {
   "cell_type": "code",
   "execution_count": 2,
   "metadata": {},
   "outputs": [],
   "source": [
    "import os\n",
    "import re\n",
    "import time\n",
    "\n",
    "import tweepy as tw\n",
    "import pandas as pd\n",
    "from datetime import datetime, timedelta, timezone\n",
    "import MySQLdb\n",
    "\n",
    "\n",
    "# For sentiment analysis of tweets\n",
    "from textblob import TextBlob"
   ]
  },
  {
   "cell_type": "markdown",
   "metadata": {},
   "source": [
    "Create Tweeter Consumer Keys and Access Tokens "
   ]
  },
  {
   "cell_type": "code",
   "execution_count": 3,
   "metadata": {},
   "outputs": [],
   "source": [
    "consumer_key= 'NFIO7bIgwQpdCZ7'\n",
    "consumer_secret= '2QegNrIpcGCW6nCWFTL5JEsrDCmYZp'\n",
    "access_token= '3049227557-36ln3qak9xbxHvgNos45cf3u'\n",
    "access_token_secret= 'pZ4Y0p31graKrAYAy41mYztvI'"
   ]
  },
  {
   "cell_type": "markdown",
   "metadata": {},
   "source": [
    "Initialize AuthHandler"
   ]
  },
  {
   "cell_type": "code",
   "execution_count": 4,
   "metadata": {},
   "outputs": [],
   "source": [
    "auth = tw.OAuthHandler(consumer_key, consumer_secret)\n",
    "auth.set_access_token(access_token, access_token_secret)\n",
    "api = tw.API(auth, wait_on_rate_limit=True)"
   ]
  },
  {
   "cell_type": "markdown",
   "metadata": {},
   "source": [
    "Define search words and date"
   ]
  },
  {
   "cell_type": "code",
   "execution_count": 5,
   "metadata": {},
   "outputs": [],
   "source": [
    "search_words = \"#Covid\"\n",
    "date_since = \"2018-11-16\""
   ]
  },
  {
   "cell_type": "code",
   "execution_count": 6,
   "metadata": {},
   "outputs": [],
   "source": [
    "tweets = tw.Cursor(api.search, q=search_words, lang=\"en\", since=date_since).items(5)"
   ]
  },
  {
   "cell_type": "code",
   "execution_count": 7,
   "metadata": {},
   "outputs": [
    {
     "data": {
      "text/plain": [
       "<tweepy.cursor.ItemIterator at 0x133e2766240>"
      ]
     },
     "execution_count": 7,
     "metadata": {},
     "output_type": "execute_result"
    }
   ],
   "source": [
    "tweets"
   ]
  },
  {
   "cell_type": "markdown",
   "metadata": {},
   "source": [
    "Iterate through tweets using for loop"
   ]
  },
  {
   "cell_type": "code",
   "execution_count": 8,
   "metadata": {},
   "outputs": [
    {
     "name": "stdout",
     "output_type": "stream",
     "text": [
      "2020-12-07 17:03:03\n",
      "17:03:03\n",
      "00:12:00\n"
     ]
    }
   ],
   "source": [
    "from datetime import datetime, timedelta\n",
    "from email.utils import parsedate_tz\n",
    "\n",
    "s='Mon Dec 07 17:03:03 +0000 2020'\n",
    "def to_datetime(datestring):\n",
    "    time_tuple = parsedate_tz(datestring.strip())\n",
    "    dt = datetime(*time_tuple[:6])\n",
    "    return dt - timedelta(seconds=time_tuple[-1])\n",
    "\n",
    "print(to_datetime(s))\n",
    "print(to_datetime(s).time().strftime(\"%H:%M:%S\"))\n",
    "\n",
    "x=datetime.strptime('12/31/13 00:12', \"%m/%j/%y %H:%M\").time().strftime(\"%H:%M:%S\")\n",
    "\n",
    "print(x)"
   ]
  },
  {
   "cell_type": "markdown",
   "metadata": {},
   "source": [
    "Retrieve tweets as a collection of list"
   ]
  },
  {
   "cell_type": "code",
   "execution_count": 9,
   "metadata": {},
   "outputs": [
    {
     "data": {
      "text/plain": [
       "['#UK dreams for getting rid of #covid-19! https://t.co/NaHURX2nVc',\n",
       " 'RT @VABVOX: If you were looking for the worst people in Congress, they are:\\n▪Marsha Blackburn \\n▪Ted Cruz\\n▪Ron Johnson\\n▪Mike Lee\\n▪Rand Paul…',\n",
       " 'RT @NWT_CPHO: THREAD 1/2 – The #CovidAlert App is LIVE in #NWT. By exchanging anonymous Bluetooth codes with nearby phones, the app can tel…',\n",
       " \"Latest news on #RohitSharma\\n\\n #Sydney #Covid cluster unlikely to affect #Rohit's participation \\n\\n@CricCrazyJohns… https://t.co/rXvTYbNmdm\",\n",
       " 'Look at this idiot, trying to take credit for #Covid vaccine that be initially called a hoax https://t.co/kisQR0ry7A']"
      ]
     },
     "execution_count": 9,
     "metadata": {},
     "output_type": "execute_result"
    }
   ],
   "source": [
    "[tweet.text for tweet in tweets]"
   ]
  },
  {
   "cell_type": "markdown",
   "metadata": {},
   "source": [
    "Search Tweets without Retweets"
   ]
  },
  {
   "cell_type": "code",
   "execution_count": 10,
   "metadata": {},
   "outputs": [],
   "source": [
    "new_search = search_words + \" -filter:retweets\""
   ]
  },
  {
   "cell_type": "code",
   "execution_count": 11,
   "metadata": {},
   "outputs": [
    {
     "data": {
      "text/plain": [
       "'#Covid -filter:retweets'"
      ]
     },
     "execution_count": 11,
     "metadata": {},
     "output_type": "execute_result"
    }
   ],
   "source": [
    "new_search"
   ]
  },
  {
   "cell_type": "code",
   "execution_count": 12,
   "metadata": {},
   "outputs": [],
   "source": [
    "tweets = tw.Cursor(api.search, q=new_search, lang=\"en\",since=date_since).items(5)"
   ]
  },
  {
   "cell_type": "code",
   "execution_count": 13,
   "metadata": {},
   "outputs": [
    {
     "data": {
      "text/plain": [
       "[\"Latest news on #RohitSharma\\n\\n #Sydney #Covid cluster unlikely to affect #Rohit's participation \\n\\n@CricCrazyJohns… https://t.co/rXvTYbNmdm\",\n",
       " 'Look at this idiot, trying to take credit for #Covid vaccine that be initially called a hoax https://t.co/kisQR0ry7A',\n",
       " 'Why are we shipping money to Pakistan when Americans are starving because of the #COVID shutdowns? #stimulus',\n",
       " '@WhiteHouse We should have gotten a #COVID19 vaccine sooner but \\n@realDonaldTrump downplayed the dangers of #COVID… https://t.co/7nVYadq0kq',\n",
       " 'Markets fall as more nations join #UK travel ban over #Covid variant; lorry drivers stranded, supermarkets warn of… https://t.co/CjmEs9hRoq']"
      ]
     },
     "execution_count": 13,
     "metadata": {},
     "output_type": "execute_result"
    }
   ],
   "source": [
    "[tweet.text for tweet in tweets]"
   ]
  },
  {
   "cell_type": "markdown",
   "metadata": {},
   "source": [
    "Get username and location"
   ]
  },
  {
   "cell_type": "code",
   "execution_count": 14,
   "metadata": {},
   "outputs": [],
   "source": [
    "tweets = tw.Cursor(api.search,q=new_search, lang=\"en\", since=date_since).items(5)"
   ]
  },
  {
   "cell_type": "code",
   "execution_count": 15,
   "metadata": {},
   "outputs": [],
   "source": [
    "users_locs = [[tweet.user.screen_name,tweet.user.location,tweet.text] for tweet in tweets]"
   ]
  },
  {
   "cell_type": "code",
   "execution_count": 16,
   "metadata": {},
   "outputs": [
    {
     "data": {
      "text/plain": [
       "[['Being_SAi143',\n",
       "  'мuмвɑᎥ',\n",
       "  \"Latest news on #RohitSharma\\n\\n #Sydney #Covid cluster unlikely to affect #Rohit's participation \\n\\n@CricCrazyJohns… https://t.co/rXvTYbNmdm\"],\n",
       " ['dangainor',\n",
       "  'Reston, VA.',\n",
       "  'Why are we shipping money to Pakistan when Americans are starving because of the #COVID shutdowns? #stimulus'],\n",
       " ['soloyochapin',\n",
       "  'Chicago, IL',\n",
       "  '@WhiteHouse We should have gotten a #COVID19 vaccine sooner but \\n@realDonaldTrump downplayed the dangers of #COVID… https://t.co/7nVYadq0kq'],\n",
       " ['Diplomacy140',\n",
       "  'London, England',\n",
       "  'Markets fall as more nations join #UK travel ban over #Covid variant; lorry drivers stranded, supermarkets warn of… https://t.co/CjmEs9hRoq'],\n",
       " ['The_Truth_II',\n",
       "  'Praia da Luz,  Portugal ',\n",
       "  'How long are we prepared to live like this? #covid #lockdown #tiersystem #masks #housearrest #roadblocks… https://t.co/phIYFc9jvw']]"
      ]
     },
     "execution_count": 16,
     "metadata": {},
     "output_type": "execute_result"
    }
   ],
   "source": [
    "users_locs"
   ]
  },
  {
   "cell_type": "markdown",
   "metadata": {},
   "source": [
    "Create a Pandas Dataframe From A List of Tweet Data"
   ]
  },
  {
   "cell_type": "code",
   "execution_count": 17,
   "metadata": {},
   "outputs": [],
   "source": [
    "tweet_df = pd.DataFrame(data=users_locs, columns=['user', \"location\",\"tweet\"])"
   ]
  },
  {
   "cell_type": "code",
   "execution_count": 18,
   "metadata": {
    "scrolled": true
   },
   "outputs": [
    {
     "data": {
      "text/html": [
       "<div>\n",
       "<style scoped>\n",
       "    .dataframe tbody tr th:only-of-type {\n",
       "        vertical-align: middle;\n",
       "    }\n",
       "\n",
       "    .dataframe tbody tr th {\n",
       "        vertical-align: top;\n",
       "    }\n",
       "\n",
       "    .dataframe thead th {\n",
       "        text-align: right;\n",
       "    }\n",
       "</style>\n",
       "<table border=\"1\" class=\"dataframe\">\n",
       "  <thead>\n",
       "    <tr style=\"text-align: right;\">\n",
       "      <th></th>\n",
       "      <th>user</th>\n",
       "      <th>location</th>\n",
       "      <th>tweet</th>\n",
       "    </tr>\n",
       "  </thead>\n",
       "  <tbody>\n",
       "    <tr>\n",
       "      <th>0</th>\n",
       "      <td>Being_SAi143</td>\n",
       "      <td>мuмвɑᎥ</td>\n",
       "      <td>Latest news on #RohitSharma\\n\\n #Sydney #Covid...</td>\n",
       "    </tr>\n",
       "    <tr>\n",
       "      <th>1</th>\n",
       "      <td>dangainor</td>\n",
       "      <td>Reston, VA.</td>\n",
       "      <td>Why are we shipping money to Pakistan when Ame...</td>\n",
       "    </tr>\n",
       "    <tr>\n",
       "      <th>2</th>\n",
       "      <td>soloyochapin</td>\n",
       "      <td>Chicago, IL</td>\n",
       "      <td>@WhiteHouse We should have gotten a #COVID19 v...</td>\n",
       "    </tr>\n",
       "    <tr>\n",
       "      <th>3</th>\n",
       "      <td>Diplomacy140</td>\n",
       "      <td>London, England</td>\n",
       "      <td>Markets fall as more nations join #UK travel b...</td>\n",
       "    </tr>\n",
       "    <tr>\n",
       "      <th>4</th>\n",
       "      <td>The_Truth_II</td>\n",
       "      <td>Praia da Luz,  Portugal</td>\n",
       "      <td>How long are we prepared to live like this? #c...</td>\n",
       "    </tr>\n",
       "  </tbody>\n",
       "</table>\n",
       "</div>"
      ],
      "text/plain": [
       "           user                  location  \\\n",
       "0  Being_SAi143                    мuмвɑᎥ   \n",
       "1     dangainor               Reston, VA.   \n",
       "2  soloyochapin               Chicago, IL   \n",
       "3  Diplomacy140           London, England   \n",
       "4  The_Truth_II  Praia da Luz,  Portugal    \n",
       "\n",
       "                                               tweet  \n",
       "0  Latest news on #RohitSharma\\n\\n #Sydney #Covid...  \n",
       "1  Why are we shipping money to Pakistan when Ame...  \n",
       "2  @WhiteHouse We should have gotten a #COVID19 v...  \n",
       "3  Markets fall as more nations join #UK travel b...  \n",
       "4  How long are we prepared to live like this? #c...  "
      ]
     },
     "execution_count": 18,
     "metadata": {},
     "output_type": "execute_result"
    }
   ],
   "source": [
    "tweet_df"
   ]
  },
  {
   "cell_type": "markdown",
   "metadata": {},
   "source": [
    "## Working With The Twitter Streaming API\n",
    "\n",
    "With Streaming data we need to do the following:\n",
    "1. Create database connection\n",
    "2. Create a persistent connection to the Twitter API, and read each connection incrementally.\n",
    "3. Process tweets quickly, store them in the database, and don’t let your program get backed up.\n",
    "4. Handle errors and other issues properly."
   ]
  },
  {
   "cell_type": "markdown",
   "metadata": {},
   "source": [
    "Connect to MySql Database"
   ]
  },
  {
   "cell_type": "code",
   "execution_count": 19,
   "metadata": {},
   "outputs": [],
   "source": [
    "#                           (server,MySQL username,MySQL pass, Database name).\n",
    "connection = MySQLdb.connect(\"localhost\",\"root\",\"root\",\"social_analytic\")\n",
    "cur = connection.cursor()"
   ]
  }
 ],
 "metadata": {
  "kernelspec": {
   "display_name": "Python 3",
   "language": "python",
   "name": "python3"
  },
  "language_info": {
   "codemirror_mode": {
    "name": "ipython",
    "version": 3
   },
   "file_extension": ".py",
   "mimetype": "text/x-python",
   "name": "python",
   "nbconvert_exporter": "python",
   "pygments_lexer": "ipython3",
   "version": "3.6.5"
  }
 },
 "nbformat": 4,
 "nbformat_minor": 2
}
