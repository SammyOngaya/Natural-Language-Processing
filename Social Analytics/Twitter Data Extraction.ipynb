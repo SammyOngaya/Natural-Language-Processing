{
 "cells": [
  {
   "cell_type": "markdown",
   "metadata": {},
   "source": [
    "Install the tweepy library"
   ]
  },
  {
   "cell_type": "code",
   "execution_count": 1,
   "metadata": {},
   "outputs": [],
   "source": [
    "# !pip install tweepy\n",
    "# !pip install mysqlclient"
   ]
  },
  {
   "cell_type": "markdown",
   "metadata": {},
   "source": [
    "Import required libraries"
   ]
  },
  {
   "cell_type": "code",
   "execution_count": 2,
   "metadata": {},
   "outputs": [],
   "source": [
    "import os\n",
    "import re\n",
    "import time\n",
    "\n",
    "import tweepy as tw\n",
    "import pandas as pd\n",
    "from datetime import datetime, timedelta, timezone\n",
    "import MySQLdb\n",
    "\n",
    "\n",
    "# For sentiment analysis of tweets\n",
    "from textblob import TextBlob"
   ]
  },
  {
   "cell_type": "markdown",
   "metadata": {},
   "source": [
    "Create Tweeter Consumer Keys and Access Tokens "
   ]
  },
  {
   "cell_type": "code",
   "execution_count": 3,
   "metadata": {},
   "outputs": [],
   "source": [
    "consumer_key= 'NFIO7bIgwQpdCZ7pss'\n",
    "consumer_secret= '2QegNrIpcGCW6n8SdIT7V0ql5cQgFwV'\n",
    "access_token= '3049227557-36ln3qak9xbxHvgNos4qs'\n",
    "access_token_secret= 'pZ4Y0p31graKrAYAy41mYztv'"
   ]
  },
  {
   "cell_type": "markdown",
   "metadata": {},
   "source": [
    "Initialize AuthHandler"
   ]
  },
  {
   "cell_type": "code",
   "execution_count": 4,
   "metadata": {},
   "outputs": [],
   "source": [
    "auth = tw.OAuthHandler(consumer_key, consumer_secret)\n",
    "auth.set_access_token(access_token, access_token_secret)\n",
    "api = tw.API(auth, wait_on_rate_limit=True)"
   ]
  },
  {
   "cell_type": "markdown",
   "metadata": {},
   "source": [
    "Define search words and date"
   ]
  },
  {
   "cell_type": "code",
   "execution_count": 5,
   "metadata": {},
   "outputs": [],
   "source": [
    "search_words = \"#Covid\"\n",
    "date_since = \"2018-11-16\""
   ]
  },
  {
   "cell_type": "code",
   "execution_count": 6,
   "metadata": {},
   "outputs": [],
   "source": [
    "tweets = tw.Cursor(api.search, q=search_words, lang=\"en\", since=date_since).items(5)"
   ]
  },
  {
   "cell_type": "code",
   "execution_count": 7,
   "metadata": {},
   "outputs": [
    {
     "data": {
      "text/plain": [
       "<tweepy.cursor.ItemIterator at 0x1a44b0ea1d0>"
      ]
     },
     "execution_count": 7,
     "metadata": {},
     "output_type": "execute_result"
    }
   ],
   "source": [
    "tweets"
   ]
  },
  {
   "cell_type": "markdown",
   "metadata": {},
   "source": [
    "Iterate through tweets using for loop"
   ]
  },
  {
   "cell_type": "code",
   "execution_count": 8,
   "metadata": {},
   "outputs": [
    {
     "name": "stdout",
     "output_type": "stream",
     "text": [
      "2020-12-07 17:03:03\n",
      "17:03:03\n",
      "00:12:00\n"
     ]
    }
   ],
   "source": [
    "from datetime import datetime, timedelta\n",
    "from email.utils import parsedate_tz\n",
    "\n",
    "s='Mon Dec 07 17:03:03 +0000 2020'\n",
    "def to_datetime(datestring):\n",
    "    time_tuple = parsedate_tz(datestring.strip())\n",
    "    dt = datetime(*time_tuple[:6])\n",
    "    return dt - timedelta(seconds=time_tuple[-1])\n",
    "\n",
    "print(to_datetime(s))\n",
    "print(to_datetime(s).time().strftime(\"%H:%M:%S\"))\n",
    "\n",
    "x=datetime.strptime('12/31/13 00:12', \"%m/%j/%y %H:%M\").time().strftime(\"%H:%M:%S\")\n",
    "\n",
    "print(x)"
   ]
  },
  {
   "cell_type": "markdown",
   "metadata": {},
   "source": [
    "Retrieve tweets as a collection of list"
   ]
  },
  {
   "cell_type": "code",
   "execution_count": 9,
   "metadata": {},
   "outputs": [
    {
     "data": {
      "text/plain": [
       "['#COVID  \\n\\nMaharashtra Government \\n\\nAnnounces Night Curfew From 11 pm To 6 am In Municipal Corporation Areas From De… https://t.co/EGyN62cPf6',\n",
       " \"RT @hall_roger: @vickydenhome The vaccine is actually worse than #Covid &amp; it's already been proven.\\nANYONE with ANY known allergies (food,…\",\n",
       " 'RT @Tathastuaryan: All departures from #UK to #India and the other way around suspended from 23 December till 31 December, in the midst of…',\n",
       " 'RT @timeshighered: Privacy fears as China keeps tracking student locations: daily check-ins launched during the #Covid outbreak appear to b…',\n",
       " 'I agree, #opendata will help us move past the #COVID-19 pandemic, and help us prepare for the next health emergency… https://t.co/koWR64gQYg']"
      ]
     },
     "execution_count": 9,
     "metadata": {},
     "output_type": "execute_result"
    }
   ],
   "source": [
    "[tweet.text for tweet in tweets]"
   ]
  },
  {
   "cell_type": "markdown",
   "metadata": {},
   "source": [
    "Search Tweets without Retweets"
   ]
  },
  {
   "cell_type": "code",
   "execution_count": 10,
   "metadata": {},
   "outputs": [],
   "source": [
    "new_search = search_words + \" -filter:retweets\""
   ]
  },
  {
   "cell_type": "code",
   "execution_count": 11,
   "metadata": {},
   "outputs": [
    {
     "data": {
      "text/plain": [
       "'#Covid -filter:retweets'"
      ]
     },
     "execution_count": 11,
     "metadata": {},
     "output_type": "execute_result"
    }
   ],
   "source": [
    "new_search"
   ]
  },
  {
   "cell_type": "code",
   "execution_count": 12,
   "metadata": {},
   "outputs": [],
   "source": [
    "tweets = tw.Cursor(api.search, q=new_search, lang=\"en\",since=date_since).items(5)"
   ]
  },
  {
   "cell_type": "code",
   "execution_count": 13,
   "metadata": {},
   "outputs": [
    {
     "data": {
      "text/plain": [
       "[\"Winter solstice is a great time of transition especially after dealing with energy that's not serving you after mon… https://t.co/6BzJYcnENb\",\n",
       " '#COVID  \\n\\nMaharashtra Government \\n\\nAnnounces Night Curfew From 11 pm To 6 am In Municipal Corporation Areas From De… https://t.co/EGyN62cPf6',\n",
       " 'I agree, #opendata will help us move past the #COVID-19 pandemic, and help us prepare for the next health emergency… https://t.co/koWR64gQYg',\n",
       " 'Justin\\'s drinking and drug use started increasing during college where he established himself as \"the party guy\". A… https://t.co/N5u3OIrhjE',\n",
       " \"@MysterySolvent He is getting a nursing home patient's vaccine. Or a nurse's, doctor's, tech's who is working with… https://t.co/sU4tddA8iF\"]"
      ]
     },
     "execution_count": 13,
     "metadata": {},
     "output_type": "execute_result"
    }
   ],
   "source": [
    "[tweet.text for tweet in tweets]"
   ]
  },
  {
   "cell_type": "markdown",
   "metadata": {},
   "source": [
    "Get username and location"
   ]
  },
  {
   "cell_type": "code",
   "execution_count": 14,
   "metadata": {},
   "outputs": [],
   "source": [
    "tweets = tw.Cursor(api.search,q=new_search, lang=\"en\", since=date_since).items(5)"
   ]
  },
  {
   "cell_type": "code",
   "execution_count": 15,
   "metadata": {},
   "outputs": [],
   "source": [
    "users_locs = [[tweet.user.screen_name,tweet.user.location,tweet.text] for tweet in tweets]"
   ]
  },
  {
   "cell_type": "code",
   "execution_count": 16,
   "metadata": {},
   "outputs": [
    {
     "data": {
      "text/plain": [
       "[['tambraraye',\n",
       "  'Washington, DC',\n",
       "  \"Winter solstice is a great time of transition especially after dealing with energy that's not serving you after mon… https://t.co/6BzJYcnENb\"],\n",
       " ['AshVerma111',\n",
       "  'Mumbai',\n",
       "  '#COVID  \\n\\nMaharashtra Government \\n\\nAnnounces Night Curfew From 11 pm To 6 am In Municipal Corporation Areas From De… https://t.co/EGyN62cPf6'],\n",
       " ['JenYokoyama',\n",
       "  '',\n",
       "  'I agree, #opendata will help us move past the #COVID-19 pandemic, and help us prepare for the next health emergency… https://t.co/koWR64gQYg'],\n",
       " ['SteppinOutRadio',\n",
       "  '',\n",
       "  'Justin\\'s drinking and drug use started increasing during college where he established himself as \"the party guy\". A… https://t.co/N5u3OIrhjE'],\n",
       " ['fl_bama',\n",
       "  'Alabama, USA',\n",
       "  \"@MysterySolvent He is getting a nursing home patient's vaccine. Or a nurse's, doctor's, tech's who is working with… https://t.co/sU4tddA8iF\"]]"
      ]
     },
     "execution_count": 16,
     "metadata": {},
     "output_type": "execute_result"
    }
   ],
   "source": [
    "users_locs"
   ]
  },
  {
   "cell_type": "markdown",
   "metadata": {},
   "source": [
    "Create a Pandas Dataframe From A List of Tweet Data"
   ]
  },
  {
   "cell_type": "code",
   "execution_count": 17,
   "metadata": {},
   "outputs": [],
   "source": [
    "tweet_df = pd.DataFrame(data=users_locs, columns=['user', \"location\",\"tweet\"])"
   ]
  },
  {
   "cell_type": "code",
   "execution_count": 18,
   "metadata": {
    "scrolled": true
   },
   "outputs": [
    {
     "data": {
      "text/html": [
       "<div>\n",
       "<style scoped>\n",
       "    .dataframe tbody tr th:only-of-type {\n",
       "        vertical-align: middle;\n",
       "    }\n",
       "\n",
       "    .dataframe tbody tr th {\n",
       "        vertical-align: top;\n",
       "    }\n",
       "\n",
       "    .dataframe thead th {\n",
       "        text-align: right;\n",
       "    }\n",
       "</style>\n",
       "<table border=\"1\" class=\"dataframe\">\n",
       "  <thead>\n",
       "    <tr style=\"text-align: right;\">\n",
       "      <th></th>\n",
       "      <th>user</th>\n",
       "      <th>location</th>\n",
       "      <th>tweet</th>\n",
       "    </tr>\n",
       "  </thead>\n",
       "  <tbody>\n",
       "    <tr>\n",
       "      <th>0</th>\n",
       "      <td>tambraraye</td>\n",
       "      <td>Washington, DC</td>\n",
       "      <td>Winter solstice is a great time of transition ...</td>\n",
       "    </tr>\n",
       "    <tr>\n",
       "      <th>1</th>\n",
       "      <td>AshVerma111</td>\n",
       "      <td>Mumbai</td>\n",
       "      <td>#COVID  \\n\\nMaharashtra Government \\n\\nAnnounc...</td>\n",
       "    </tr>\n",
       "    <tr>\n",
       "      <th>2</th>\n",
       "      <td>JenYokoyama</td>\n",
       "      <td></td>\n",
       "      <td>I agree, #opendata will help us move past the ...</td>\n",
       "    </tr>\n",
       "    <tr>\n",
       "      <th>3</th>\n",
       "      <td>SteppinOutRadio</td>\n",
       "      <td></td>\n",
       "      <td>Justin's drinking and drug use started increas...</td>\n",
       "    </tr>\n",
       "    <tr>\n",
       "      <th>4</th>\n",
       "      <td>fl_bama</td>\n",
       "      <td>Alabama, USA</td>\n",
       "      <td>@MysterySolvent He is getting a nursing home p...</td>\n",
       "    </tr>\n",
       "  </tbody>\n",
       "</table>\n",
       "</div>"
      ],
      "text/plain": [
       "              user        location  \\\n",
       "0       tambraraye  Washington, DC   \n",
       "1      AshVerma111          Mumbai   \n",
       "2      JenYokoyama                   \n",
       "3  SteppinOutRadio                   \n",
       "4          fl_bama    Alabama, USA   \n",
       "\n",
       "                                               tweet  \n",
       "0  Winter solstice is a great time of transition ...  \n",
       "1  #COVID  \\n\\nMaharashtra Government \\n\\nAnnounc...  \n",
       "2  I agree, #opendata will help us move past the ...  \n",
       "3  Justin's drinking and drug use started increas...  \n",
       "4  @MysterySolvent He is getting a nursing home p...  "
      ]
     },
     "execution_count": 18,
     "metadata": {},
     "output_type": "execute_result"
    }
   ],
   "source": [
    "tweet_df"
   ]
  },
  {
   "cell_type": "code",
   "execution_count": 19,
   "metadata": {},
   "outputs": [],
   "source": [
    "tweet_df.to_csv(\"tweets.csv\")"
   ]
  }
 ],
 "metadata": {
  "kernelspec": {
   "display_name": "Python 3",
   "language": "python",
   "name": "python3"
  },
  "language_info": {
   "codemirror_mode": {
    "name": "ipython",
    "version": 3
   },
   "file_extension": ".py",
   "mimetype": "text/x-python",
   "name": "python",
   "nbconvert_exporter": "python",
   "pygments_lexer": "ipython3",
   "version": "3.6.5"
  }
 },
 "nbformat": 4,
 "nbformat_minor": 2
}
