{
 "cells": [
  {
   "cell_type": "markdown",
   "metadata": {},
   "source": [
    "Install the tweepy library"
   ]
  },
  {
   "cell_type": "code",
   "execution_count": 1,
   "metadata": {},
   "outputs": [],
   "source": [
    "# !pip install tweepy"
   ]
  },
  {
   "cell_type": "markdown",
   "metadata": {},
   "source": [
    "Import required libraries"
   ]
  },
  {
   "cell_type": "code",
   "execution_count": 2,
   "metadata": {},
   "outputs": [],
   "source": [
    "import os\n",
    "import tweepy as tw\n",
    "import pandas as pd"
   ]
  },
  {
   "cell_type": "markdown",
   "metadata": {},
   "source": [
    "Create Tweeter Consumer Keys and Access Tokens "
   ]
  },
  {
   "cell_type": "code",
   "execution_count": 3,
   "metadata": {},
   "outputs": [],
   "source": [
    "consumer_key= 'N/FIO7bIgwQpdCZ7p7rgewKXss1'\n",
    "consumer_secret= '2/QegNrIpcGCW6nCWFTL5JEsrDCmYZpQHJ8SdIT7V0ql5cQgFwV1'\n",
    "access_token= '3/049227557-36ln3qak9xbxHvgNos45cf3uScGxuUdaDAR4vqs1'\n",
    "access_token_secret= 'p/Z4Y0p31graKrAYAy41mYztvIrYFzof7awiTDWQr2ui9u1'"
   ]
  },
  {
   "cell_type": "markdown",
   "metadata": {},
   "source": [
    "Initialize AuthHandler"
   ]
  },
  {
   "cell_type": "code",
   "execution_count": 4,
   "metadata": {},
   "outputs": [],
   "source": [
    "auth = tw.OAuthHandler(consumer_key, consumer_secret)\n",
    "auth.set_access_token(access_token, access_token_secret)\n",
    "api = tw.API(auth, wait_on_rate_limit=True)"
   ]
  },
  {
   "cell_type": "markdown",
   "metadata": {},
   "source": [
    "Define search words and date"
   ]
  },
  {
   "cell_type": "code",
   "execution_count": 5,
   "metadata": {},
   "outputs": [],
   "source": [
    "search_words = \"#Covid\"\n",
    "date_since = \"2018-11-16\""
   ]
  },
  {
   "cell_type": "code",
   "execution_count": 6,
   "metadata": {},
   "outputs": [],
   "source": [
    "tweets = tw.Cursor(api.search, q=search_words, lang=\"en\", since=date_since).items(5)"
   ]
  },
  {
   "cell_type": "code",
   "execution_count": 7,
   "metadata": {},
   "outputs": [
    {
     "data": {
      "text/plain": [
       "<tweepy.cursor.ItemIterator at 0x24dd3b371d0>"
      ]
     },
     "execution_count": 7,
     "metadata": {},
     "output_type": "execute_result"
    }
   ],
   "source": [
    "tweets"
   ]
  },
  {
   "cell_type": "markdown",
   "metadata": {},
   "source": [
    "Iterate through tweets using for loop"
   ]
  },
  {
   "cell_type": "code",
   "execution_count": 8,
   "metadata": {},
   "outputs": [
    {
     "name": "stdout",
     "output_type": "stream",
     "text": [
      "RT @MalikAliKhatta4: In technical and vocational education and training systems, vulnerabilities including low levels of digitalization and…\n",
      "RT @AffairsCare: I feel that if you are blessed, or lucky enough, to be doing well, you should help others.\n",
      "- Laurell K. Hamilton\n",
      "#projectb…\n",
      "Asked my mom “I mean, can you even imagine spending nine months basically chained to your child?” She said “uh, yes… https://t.co/9PtR1Qd6Tg\n",
      "45% of Americans are high risk of dying if they get #COVID \"Underlying conditions...pivotal in determining who surv… https://t.co/nB1lg5MnHv\n",
      "RT @and_kell: Saying \"I believe in #science\" or some form of that statement has become the most overused phrase in 2020 with #covid. \n",
      "What…\n"
     ]
    }
   ],
   "source": [
    "for tweet in tweets:\n",
    "    print(tweet.text)"
   ]
  },
  {
   "cell_type": "markdown",
   "metadata": {},
   "source": [
    "Retrieve tweets as a collection of list"
   ]
  },
  {
   "cell_type": "code",
   "execution_count": 9,
   "metadata": {},
   "outputs": [
    {
     "data": {
      "text/plain": [
       "[]"
      ]
     },
     "execution_count": 9,
     "metadata": {},
     "output_type": "execute_result"
    }
   ],
   "source": [
    "[tweet.text for tweet in tweets]"
   ]
  },
  {
   "cell_type": "markdown",
   "metadata": {},
   "source": [
    "Search Tweets without Retweets"
   ]
  },
  {
   "cell_type": "code",
   "execution_count": 10,
   "metadata": {},
   "outputs": [],
   "source": [
    "new_search = search_words + \" -filter:retweets\""
   ]
  },
  {
   "cell_type": "code",
   "execution_count": 11,
   "metadata": {},
   "outputs": [
    {
     "data": {
      "text/plain": [
       "'#Covid -filter:retweets'"
      ]
     },
     "execution_count": 11,
     "metadata": {},
     "output_type": "execute_result"
    }
   ],
   "source": [
    "new_search"
   ]
  },
  {
   "cell_type": "code",
   "execution_count": 12,
   "metadata": {},
   "outputs": [],
   "source": [
    "tweets = tw.Cursor(api.search, q=new_search, lang=\"en\",since=date_since).items(5)"
   ]
  },
  {
   "cell_type": "code",
   "execution_count": 13,
   "metadata": {},
   "outputs": [
    {
     "data": {
      "text/plain": [
       "['Asked my mom “I mean, can you even imagine spending nine months basically chained to your child?” She said “uh, yes… https://t.co/9PtR1Qd6Tg',\n",
       " '45% of Americans are high risk of dying if they get #COVID \"Underlying conditions...pivotal in determining who surv… https://t.co/nB1lg5MnHv',\n",
       " 'The disruptions caused by #COVID-19 to everyday \\nlife meant that as many as 40 million children \\nworldwide have mis… https://t.co/D2lpRB5udV',\n",
       " 'Wow. I had a dream last night I was at Ole Miss to watch a @OleMissFB Game and they were playing western Michigan (… https://t.co/m3XNJwW8EW',\n",
       " '20 minutes from start to finish! Excellent organisation of mass #Covid testing this morning at St Marx. Result via… https://t.co/VngbMVg6Se']"
      ]
     },
     "execution_count": 13,
     "metadata": {},
     "output_type": "execute_result"
    }
   ],
   "source": [
    "[tweet.text for tweet in tweets]"
   ]
  },
  {
   "cell_type": "markdown",
   "metadata": {},
   "source": [
    "Get username and location"
   ]
  },
  {
   "cell_type": "code",
   "execution_count": 14,
   "metadata": {},
   "outputs": [],
   "source": [
    "tweets = tw.Cursor(api.search,q=new_search, lang=\"en\", since=date_since).items(5)"
   ]
  },
  {
   "cell_type": "code",
   "execution_count": 15,
   "metadata": {},
   "outputs": [],
   "source": [
    "users_locs = [[tweet.user.screen_name,tweet.user.location,tweet.text] for tweet in tweets]"
   ]
  },
  {
   "cell_type": "code",
   "execution_count": 16,
   "metadata": {},
   "outputs": [
    {
     "data": {
      "text/plain": [
       "[['John62256577',\n",
       "  '',\n",
       "  'Asked my mom “I mean, can you even imagine spending nine months basically chained to your child?” She said “uh, yes… https://t.co/9PtR1Qd6Tg'],\n",
       " ['EchoingHigher',\n",
       "  'United States',\n",
       "  '45% of Americans are high risk of dying if they get #COVID \"Underlying conditions...pivotal in determining who surv… https://t.co/nB1lg5MnHv'],\n",
       " ['IramShahidButt',\n",
       "  '',\n",
       "  'The disruptions caused by #COVID-19 to everyday \\nlife meant that as many as 40 million children \\nworldwide have mis… https://t.co/D2lpRB5udV'],\n",
       " ['mbrudnak',\n",
       "  'Milwaukee, WI',\n",
       "  'Wow. I had a dream last night I was at Ole Miss to watch a @OleMissFB Game and they were playing western Michigan (… https://t.co/m3XNJwW8EW'],\n",
       " ['AradBenkoe',\n",
       "  '',\n",
       "  '20 minutes from start to finish! Excellent organisation of mass #Covid testing this morning at St Marx. Result via… https://t.co/VngbMVg6Se']]"
      ]
     },
     "execution_count": 16,
     "metadata": {},
     "output_type": "execute_result"
    }
   ],
   "source": [
    "users_locs"
   ]
  },
  {
   "cell_type": "markdown",
   "metadata": {},
   "source": [
    "Create a Pandas Dataframe From A List of Tweet Data"
   ]
  },
  {
   "cell_type": "code",
   "execution_count": 17,
   "metadata": {},
   "outputs": [],
   "source": [
    "tweet_df = pd.DataFrame(data=users_locs, columns=['user', \"location\",\"tweet\"])"
   ]
  },
  {
   "cell_type": "code",
   "execution_count": 18,
   "metadata": {
    "scrolled": true
   },
   "outputs": [
    {
     "data": {
      "text/html": [
       "<div>\n",
       "<style scoped>\n",
       "    .dataframe tbody tr th:only-of-type {\n",
       "        vertical-align: middle;\n",
       "    }\n",
       "\n",
       "    .dataframe tbody tr th {\n",
       "        vertical-align: top;\n",
       "    }\n",
       "\n",
       "    .dataframe thead th {\n",
       "        text-align: right;\n",
       "    }\n",
       "</style>\n",
       "<table border=\"1\" class=\"dataframe\">\n",
       "  <thead>\n",
       "    <tr style=\"text-align: right;\">\n",
       "      <th></th>\n",
       "      <th>user</th>\n",
       "      <th>location</th>\n",
       "      <th>tweet</th>\n",
       "    </tr>\n",
       "  </thead>\n",
       "  <tbody>\n",
       "    <tr>\n",
       "      <th>0</th>\n",
       "      <td>John62256577</td>\n",
       "      <td></td>\n",
       "      <td>Asked my mom “I mean, can you even imagine spe...</td>\n",
       "    </tr>\n",
       "    <tr>\n",
       "      <th>1</th>\n",
       "      <td>EchoingHigher</td>\n",
       "      <td>United States</td>\n",
       "      <td>45% of Americans are high risk of dying if the...</td>\n",
       "    </tr>\n",
       "    <tr>\n",
       "      <th>2</th>\n",
       "      <td>IramShahidButt</td>\n",
       "      <td></td>\n",
       "      <td>The disruptions caused by #COVID-19 to everyda...</td>\n",
       "    </tr>\n",
       "    <tr>\n",
       "      <th>3</th>\n",
       "      <td>mbrudnak</td>\n",
       "      <td>Milwaukee, WI</td>\n",
       "      <td>Wow. I had a dream last night I was at Ole Mis...</td>\n",
       "    </tr>\n",
       "    <tr>\n",
       "      <th>4</th>\n",
       "      <td>AradBenkoe</td>\n",
       "      <td></td>\n",
       "      <td>20 minutes from start to finish! Excellent org...</td>\n",
       "    </tr>\n",
       "  </tbody>\n",
       "</table>\n",
       "</div>"
      ],
      "text/plain": [
       "             user       location  \\\n",
       "0    John62256577                  \n",
       "1   EchoingHigher  United States   \n",
       "2  IramShahidButt                  \n",
       "3        mbrudnak  Milwaukee, WI   \n",
       "4      AradBenkoe                  \n",
       "\n",
       "                                               tweet  \n",
       "0  Asked my mom “I mean, can you even imagine spe...  \n",
       "1  45% of Americans are high risk of dying if the...  \n",
       "2  The disruptions caused by #COVID-19 to everyda...  \n",
       "3  Wow. I had a dream last night I was at Ole Mis...  \n",
       "4  20 minutes from start to finish! Excellent org...  "
      ]
     },
     "execution_count": 18,
     "metadata": {},
     "output_type": "execute_result"
    }
   ],
   "source": [
    "tweet_df"
   ]
  },
  {
   "cell_type": "markdown",
   "metadata": {},
   "source": [
    "https://www.earthdatascience.org/courses/use-data-open-source-python/intro-to-apis/social-media-text-mining-python/"
   ]
  }
 ],
 "metadata": {
  "kernelspec": {
   "display_name": "Python 3",
   "language": "python",
   "name": "python3"
  },
  "language_info": {
   "codemirror_mode": {
    "name": "ipython",
    "version": 3
   },
   "file_extension": ".py",
   "mimetype": "text/x-python",
   "name": "python",
   "nbconvert_exporter": "python",
   "pygments_lexer": "ipython3",
   "version": "3.6.5"
  }
 },
 "nbformat": 4,
 "nbformat_minor": 2
}
