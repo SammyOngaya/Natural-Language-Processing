{
 "cells": [
  {
   "cell_type": "markdown",
   "metadata": {},
   "source": [
    "# <div align=\"center\">Text Preprocessing with NLTK</div>"
   ]
  },
  {
   "cell_type": "markdown",
   "metadata": {},
   "source": [
    "Import nltk package"
   ]
  },
  {
   "cell_type": "code",
   "execution_count": 1,
   "metadata": {},
   "outputs": [],
   "source": [
    "import nltk"
   ]
  },
  {
   "cell_type": "markdown",
   "metadata": {},
   "source": [
    "Download the NLTK copora and models"
   ]
  },
  {
   "cell_type": "code",
   "execution_count": 2,
   "metadata": {},
   "outputs": [],
   "source": [
    "# uncomment and run cell to download the libraries if you don't have\n",
    "# nltk.download()"
   ]
  },
  {
   "cell_type": "markdown",
   "metadata": {},
   "source": [
    "Let's import the libraries we will use for text processing"
   ]
  },
  {
   "cell_type": "code",
   "execution_count": 3,
   "metadata": {},
   "outputs": [],
   "source": [
    "from nltk.tokenize import word_tokenize, sent_tokenize # spliting string into substrings\n",
    "from nltk.corpus import wordnet # for synonyms\n",
    "from nltk.corpus import stopwords # for removing stop words\n",
    "from nltk.stem import PorterStemmer # for stemming a word\n",
    "from nltk import WordNetLemmatizer\n",
    "import string # to remove punctuation"
   ]
  },
  {
   "cell_type": "markdown",
   "metadata": {},
   "source": [
    "We will start with the given phrase ...."
   ]
  },
  {
   "cell_type": "code",
   "execution_count": 4,
   "metadata": {},
   "outputs": [
    {
     "data": {
      "text/plain": [
       "'Natural language processing (NLP) is a subfield of linguistics, computer science, information engineering, \\nand artificial intelligence concerned with the interactions between computers and human (natural) languages, in particular how to program computers to \\nprocess and analyze large amounts of natural language data. The history of natural language processing (NLP) generally started \\nin the 1950s, although work can be found from earlier periods. In 1950\\'s, Alan Turing published an article titled \\n\"Computing Machinery and Intelligence \"which proposed what is now called the Turing test as a criterion of @intelligence goes'"
      ]
     },
     "execution_count": 4,
     "metadata": {},
     "output_type": "execute_result"
    }
   ],
   "source": [
    "text=\"\"\"Natural language processing (NLP) is a subfield of linguistics, computer science, information engineering, \n",
    "and artificial intelligence concerned with the interactions between computers and human (natural) languages, in particular how to program computers to \n",
    "process and analyze large amounts of natural language data. The history of natural language processing (NLP) generally started \n",
    "in the 1950s, although work can be found from earlier periods. In 1950's, Alan Turing published an article titled \n",
    "\"Computing Machinery and Intelligence \"which proposed what is now called the Turing test as a criterion of @intelligence goes\"\"\"\n",
    "text"
   ]
  },
  {
   "cell_type": "markdown",
   "metadata": {},
   "source": [
    "##### <div align=\"center\">Counting the number of characters in a text</div>"
   ]
  },
  {
   "cell_type": "code",
   "execution_count": 5,
   "metadata": {},
   "outputs": [
    {
     "data": {
      "text/plain": [
       "628"
      ]
     },
     "execution_count": 5,
     "metadata": {},
     "output_type": "execute_result"
    }
   ],
   "source": [
    "len(text)"
   ]
  },
  {
   "cell_type": "code",
   "execution_count": 6,
   "metadata": {},
   "outputs": [
    {
     "data": {
      "text/plain": [
       "'Natural la'"
      ]
     },
     "execution_count": 6,
     "metadata": {},
     "output_type": "execute_result"
    }
   ],
   "source": [
    "#Returns all characters from index 0 to 10\n",
    "text[0:10]"
   ]
  },
  {
   "cell_type": "code",
   "execution_count": 7,
   "metadata": {},
   "outputs": [
    {
     "data": {
      "text/plain": [
       "'a'"
      ]
     },
     "execution_count": 7,
     "metadata": {},
     "output_type": "execute_result"
    }
   ],
   "source": [
    "# Selects a character at index 10-1 which is index 9\n",
    "text[9]"
   ]
  },
  {
   "cell_type": "markdown",
   "metadata": {},
   "source": [
    "##### <div align=\"center\">Removing Punctuation</div>"
   ]
  },
  {
   "cell_type": "markdown",
   "metadata": {},
   "source": [
    "Print available punctuation recognized by Python"
   ]
  },
  {
   "cell_type": "code",
   "execution_count": 8,
   "metadata": {},
   "outputs": [
    {
     "data": {
      "text/plain": [
       "'!\"#$%&\\'()*+,-./:;<=>?@[\\\\]^_`{|}~'"
      ]
     },
     "execution_count": 8,
     "metadata": {},
     "output_type": "execute_result"
    }
   ],
   "source": [
    "string.punctuation"
   ]
  },
  {
   "cell_type": "markdown",
   "metadata": {},
   "source": [
    "Remove punctuation"
   ]
  },
  {
   "cell_type": "code",
   "execution_count": 9,
   "metadata": {
    "scrolled": true
   },
   "outputs": [
    {
     "data": {
      "text/plain": [
       "'Natural language processing NLP is a subfield of linguistics computer science information engineering \\nand artificial intelligence concerned with the interactions between computers and human natural languages in particular how to program computers to \\nprocess and analyze large amounts of natural language data The history of natural language processing NLP generally started \\nin the 1950s although work can be found from earlier periods In 1950s Alan Turing published an article titled \\nComputing Machinery and Intelligence which proposed what is now called the Turing test as a criterion of intelligence goes'"
      ]
     },
     "execution_count": 9,
     "metadata": {},
     "output_type": "execute_result"
    }
   ],
   "source": [
    "\"\".join([t for t in text if t not in string.punctuation])"
   ]
  },
  {
   "cell_type": "markdown",
   "metadata": {},
   "source": [
    "Converting text to lower case"
   ]
  },
  {
   "cell_type": "code",
   "execution_count": 10,
   "metadata": {},
   "outputs": [
    {
     "name": "stdout",
     "output_type": "stream",
     "text": [
      "natural language processing (nlp) is a subfield of linguistics, computer science, information engineering, \n",
      "and artificial intelligence concerned with the interactions between computers and human (natural) languages, in particular how to program computers to \n",
      "process and analyze large amounts of natural language data. the history of natural language processing (nlp) generally started \n",
      "in the 1950s, although work can be found from earlier periods. in 1950's, alan turing published an article titled \n",
      "\"computing machinery and intelligence \"which proposed what is now called the turing test as a criterion of @intelligence goes\n"
     ]
    }
   ],
   "source": [
    "text=\"\".join([t.lower() for t in text ])\n",
    "print(text)"
   ]
  },
  {
   "cell_type": "markdown",
   "metadata": {},
   "source": [
    "##### <div align=\"center\">Tokenization</div>\n",
    "Tokenization is the prcess of spliting a text into constituent substring. We can split a text by sentence or words."
   ]
  },
  {
   "cell_type": "markdown",
   "metadata": {},
   "source": [
    "Tokenize text to words.\n",
    "The function contains the following arguments word_tokenize(text, language='english', preserve_line=False)"
   ]
  },
  {
   "cell_type": "code",
   "execution_count": 11,
   "metadata": {},
   "outputs": [
    {
     "data": {
      "text/plain": [
       "['natural',\n",
       " 'language',\n",
       " 'processing',\n",
       " '(',\n",
       " 'nlp',\n",
       " ')',\n",
       " 'is',\n",
       " 'a',\n",
       " 'subfield',\n",
       " 'of',\n",
       " 'linguistics',\n",
       " ',',\n",
       " 'computer',\n",
       " 'science',\n",
       " ',',\n",
       " 'information',\n",
       " 'engineering',\n",
       " ',',\n",
       " 'and',\n",
       " 'artificial',\n",
       " 'intelligence',\n",
       " 'concerned',\n",
       " 'with',\n",
       " 'the',\n",
       " 'interactions',\n",
       " 'between',\n",
       " 'computers',\n",
       " 'and',\n",
       " 'human',\n",
       " '(',\n",
       " 'natural',\n",
       " ')',\n",
       " 'languages',\n",
       " ',',\n",
       " 'in',\n",
       " 'particular',\n",
       " 'how',\n",
       " 'to',\n",
       " 'program',\n",
       " 'computers',\n",
       " 'to',\n",
       " 'process',\n",
       " 'and',\n",
       " 'analyze',\n",
       " 'large',\n",
       " 'amounts',\n",
       " 'of',\n",
       " 'natural',\n",
       " 'language',\n",
       " 'data',\n",
       " '.',\n",
       " 'the',\n",
       " 'history',\n",
       " 'of',\n",
       " 'natural',\n",
       " 'language',\n",
       " 'processing',\n",
       " '(',\n",
       " 'nlp',\n",
       " ')',\n",
       " 'generally',\n",
       " 'started',\n",
       " 'in',\n",
       " 'the',\n",
       " '1950s',\n",
       " ',',\n",
       " 'although',\n",
       " 'work',\n",
       " 'can',\n",
       " 'be',\n",
       " 'found',\n",
       " 'from',\n",
       " 'earlier',\n",
       " 'periods',\n",
       " '.',\n",
       " 'in',\n",
       " '1950',\n",
       " \"'s\",\n",
       " ',',\n",
       " 'alan',\n",
       " 'turing',\n",
       " 'published',\n",
       " 'an',\n",
       " 'article',\n",
       " 'titled',\n",
       " \"''\",\n",
       " 'computing',\n",
       " 'machinery',\n",
       " 'and',\n",
       " 'intelligence',\n",
       " '``',\n",
       " 'which',\n",
       " 'proposed',\n",
       " 'what',\n",
       " 'is',\n",
       " 'now',\n",
       " 'called',\n",
       " 'the',\n",
       " 'turing',\n",
       " 'test',\n",
       " 'as',\n",
       " 'a',\n",
       " 'criterion',\n",
       " 'of',\n",
       " '@',\n",
       " 'intelligence',\n",
       " 'goes']"
      ]
     },
     "execution_count": 11,
     "metadata": {},
     "output_type": "execute_result"
    }
   ],
   "source": [
    "tokenized_text=word_tokenize(text,language='english', preserve_line=False)\n",
    "tokenized_text # select only the first 20 words from the list using [0:20]"
   ]
  },
  {
   "cell_type": "markdown",
   "metadata": {},
   "source": [
    "Tokenize text to sentences.\n",
    "The function contains the following arguments sent_tokenize(text, language='english', preserve_line=False)"
   ]
  },
  {
   "cell_type": "code",
   "execution_count": 12,
   "metadata": {},
   "outputs": [
    {
     "data": {
      "text/plain": [
       "['natural language processing (nlp) is a subfield of linguistics, computer science, information engineering, \\nand artificial intelligence concerned with the interactions between computers and human (natural) languages, in particular how to program computers to \\nprocess and analyze large amounts of natural language data.',\n",
       " 'the history of natural language processing (nlp) generally started \\nin the 1950s, although work can be found from earlier periods.',\n",
       " 'in 1950\\'s, alan turing published an article titled \\n\"computing machinery and intelligence \"which proposed what is now called the turing test as a criterion of @intelligence goes']"
      ]
     },
     "execution_count": 12,
     "metadata": {},
     "output_type": "execute_result"
    }
   ],
   "source": [
    "sent_tokenize(text,language='english')"
   ]
  },
  {
   "cell_type": "markdown",
   "metadata": {},
   "source": [
    "Tokenie words in each sentence"
   ]
  },
  {
   "cell_type": "code",
   "execution_count": 13,
   "metadata": {},
   "outputs": [
    {
     "data": {
      "text/plain": [
       "[['natural', 'language', 'processing', '(', 'nlp'],\n",
       " ['the', 'history', 'of', 'natural', 'language'],\n",
       " ['in', '1950', \"'s\", ',', 'alan']]"
      ]
     },
     "execution_count": 13,
     "metadata": {},
     "output_type": "execute_result"
    }
   ],
   "source": [
    "[word_tokenize(t)[0:5] for t in sent_tokenize(text,language='english')] #  display only the first 5 words in each sentence using [0:5]"
   ]
  },
  {
   "cell_type": "code",
   "execution_count": null,
   "metadata": {},
   "outputs": [],
   "source": []
  },
  {
   "cell_type": "markdown",
   "metadata": {},
   "source": [
    "##### <div align=\"center\">Removing stop words</div>\n",
    "Stop words are a set of commonly used words in any language. For example, in English, “the”, “is” and “and”, would easily qualify as stop words."
   ]
  },
  {
   "cell_type": "markdown",
   "metadata": {},
   "source": [
    "Show stop words from the text"
   ]
  },
  {
   "cell_type": "code",
   "execution_count": 14,
   "metadata": {},
   "outputs": [
    {
     "data": {
      "text/plain": [
       "['i', 'me', 'my', 'myself', 'we', 'our', 'ours', 'ourselves', 'you', \"you're\"]"
      ]
     },
     "execution_count": 14,
     "metadata": {},
     "output_type": "execute_result"
    }
   ],
   "source": [
    "stopwords.words(\"english\")[0:10]"
   ]
  },
  {
   "cell_type": "markdown",
   "metadata": {},
   "source": [
    "Remove stop words from the entire text"
   ]
  },
  {
   "cell_type": "code",
   "execution_count": 15,
   "metadata": {},
   "outputs": [
    {
     "name": "stdout",
     "output_type": "stream",
     "text": [
      "['natural', 'language', 'processing', '(', 'nlp', ')', 'subfield', 'linguistics', ',', 'computer', 'science', ',', 'information', 'engineering', ',', 'artificial', 'intelligence', 'concerned', 'interactions', 'computers', 'human', '(', 'natural', ')', 'languages', ',', 'particular', 'program', 'computers', 'process', 'analyze', 'large', 'amounts', 'natural', 'language', 'data', '.', 'history', 'natural', 'language', 'processing', '(', 'nlp', ')', 'generally', 'started', '1950s', ',', 'although', 'work', 'found', 'earlier', 'periods', '.', '1950', \"'s\", ',', 'alan', 'turing', 'published', 'article', 'titled', \"''\", 'computing', 'machinery', 'intelligence', '``', 'proposed', 'called', 'turing', 'test', 'criterion', '@', 'intelligence', 'goes']\n"
     ]
    }
   ],
   "source": [
    "text=[w for w in tokenized_text if not w in stopwords.words('english')]\n",
    "print(text)"
   ]
  },
  {
   "cell_type": "markdown",
   "metadata": {},
   "source": [
    "##### <div align=\"center\">Text Normalization</div>\n",
    "##### 1. Stemming\n",
    "Stemming is the process of reducing a word into its root/base e.g sleeping to sleep, eating to eat."
   ]
  },
  {
   "cell_type": "markdown",
   "metadata": {},
   "source": [
    "Stemming a single word"
   ]
  },
  {
   "cell_type": "code",
   "execution_count": 16,
   "metadata": {},
   "outputs": [
    {
     "data": {
      "text/plain": [
       "'natur'"
      ]
     },
     "execution_count": 16,
     "metadata": {},
     "output_type": "execute_result"
    }
   ],
   "source": [
    "PorterStemmer().stem('Natural')"
   ]
  },
  {
   "cell_type": "code",
   "execution_count": 17,
   "metadata": {},
   "outputs": [
    {
     "name": "stdout",
     "output_type": "stream",
     "text": [
      "goe\n",
      "go\n",
      "go\n"
     ]
    }
   ],
   "source": [
    "print(PorterStemmer().stem('goes'))\n",
    "print(PorterStemmer().stem('going'))\n",
    "print(PorterStemmer().stem('go'))"
   ]
  },
  {
   "cell_type": "code",
   "execution_count": 18,
   "metadata": {},
   "outputs": [
    {
     "name": "stdout",
     "output_type": "stream",
     "text": [
      "['natur', 'languag', 'process', '(', 'nlp', ')', 'subfield', 'linguist', ',', 'comput', 'scienc', ',', 'inform', 'engin', ',', 'artifici', 'intellig', 'concern', 'interact', 'comput', 'human', '(', 'natur', ')', 'languag', ',', 'particular', 'program', 'comput', 'process', 'analyz', 'larg', 'amount', 'natur', 'languag', 'data', '.', 'histori', 'natur', 'languag', 'process', '(', 'nlp', ')', 'gener', 'start', '1950', ',', 'although', 'work', 'found', 'earlier', 'period', '.', '1950', \"'s\", ',', 'alan', 'ture', 'publish', 'articl', 'titl', \"''\", 'comput', 'machineri', 'intellig', '``', 'propos', 'call', 'ture', 'test', 'criterion', '@', 'intellig', 'goe']\n"
     ]
    }
   ],
   "source": [
    "stemmed_text = [PorterStemmer().stem(word) for word in text]\n",
    "print(stemmed_text)"
   ]
  },
  {
   "cell_type": "markdown",
   "metadata": {},
   "source": [
    "##### 2. Lemmatization\n",
    "Lemmatization is the process of reducing a word into its base/root but taking into consideration the morphological analysis of the word. Unlike stemming which cuts off the ending or starting characters of the word."
   ]
  },
  {
   "cell_type": "markdown",
   "metadata": {},
   "source": [
    "Lemmatize a single word"
   ]
  },
  {
   "cell_type": "code",
   "execution_count": 19,
   "metadata": {},
   "outputs": [
    {
     "data": {
      "text/plain": [
       "'Natural'"
      ]
     },
     "execution_count": 19,
     "metadata": {},
     "output_type": "execute_result"
    }
   ],
   "source": [
    "WordNetLemmatizer().lemmatize('Natural')"
   ]
  },
  {
   "cell_type": "code",
   "execution_count": 20,
   "metadata": {},
   "outputs": [
    {
     "name": "stdout",
     "output_type": "stream",
     "text": [
      "go\n",
      "go\n",
      "going\n"
     ]
    }
   ],
   "source": [
    "print(WordNetLemmatizer().lemmatize('goes'))\n",
    "print(WordNetLemmatizer().lemmatize('go'))\n",
    "print(WordNetLemmatizer().lemmatize('going'))"
   ]
  },
  {
   "cell_type": "markdown",
   "metadata": {},
   "source": [
    "Lemmatize the entire text"
   ]
  },
  {
   "cell_type": "code",
   "execution_count": 21,
   "metadata": {},
   "outputs": [
    {
     "name": "stdout",
     "output_type": "stream",
     "text": [
      "['natural', 'language', 'processing', '(', 'nlp', ')', 'subfield', 'linguistics', ',', 'computer', 'science', ',', 'information', 'engineering', ',', 'artificial', 'intelligence', 'concerned', 'interaction', 'computer', 'human', '(', 'natural', ')', 'language', ',', 'particular', 'program', 'computer', 'process', 'analyze', 'large', 'amount', 'natural', 'language', 'data', '.', 'history', 'natural', 'language', 'processing', '(', 'nlp', ')', 'generally', 'started', '1950s', ',', 'although', 'work', 'found', 'earlier', 'period', '.', '1950', \"'s\", ',', 'alan', 'turing', 'published', 'article', 'titled', \"''\", 'computing', 'machinery', 'intelligence', '``', 'proposed', 'called', 'turing', 'test', 'criterion', '@', 'intelligence', 'go']\n"
     ]
    }
   ],
   "source": [
    "lemmatized_text=[WordNetLemmatizer().lemmatize(t) for t in text]\n",
    "print(lemmatized_text)"
   ]
  },
  {
   "cell_type": "markdown",
   "metadata": {},
   "source": [
    "##### <div align=\"center\">Synonyms and Antonyms</div>"
   ]
  },
  {
   "cell_type": "markdown",
   "metadata": {},
   "source": [
    "Synonyms<br>\n",
    "Synonym is a word or phrase that means exactly or nearly the same as another word or phrase in the same language, for example shut is a synonym of close."
   ]
  },
  {
   "cell_type": "code",
   "execution_count": 22,
   "metadata": {},
   "outputs": [
    {
     "data": {
      "text/plain": [
       "[Synset('state.n.04'),\n",
       " Synset('country.n.02'),\n",
       " Synset('nation.n.02'),\n",
       " Synset('country.n.04'),\n",
       " Synset('area.n.01')]"
      ]
     },
     "execution_count": 22,
     "metadata": {},
     "output_type": "execute_result"
    }
   ],
   "source": [
    "syn=wordnet.synsets('country')\n",
    "syn # Returns a list of synonyms for the above word"
   ]
  },
  {
   "cell_type": "markdown",
   "metadata": {},
   "source": [
    "Return the first synonym"
   ]
  },
  {
   "cell_type": "code",
   "execution_count": 23,
   "metadata": {},
   "outputs": [
    {
     "data": {
      "text/plain": [
       "'state.n.04'"
      ]
     },
     "execution_count": 23,
     "metadata": {},
     "output_type": "execute_result"
    }
   ],
   "source": [
    "syn[0].name()"
   ]
  },
  {
   "cell_type": "markdown",
   "metadata": {},
   "source": [
    "definistion of the word"
   ]
  },
  {
   "cell_type": "code",
   "execution_count": 24,
   "metadata": {},
   "outputs": [
    {
     "data": {
      "text/plain": [
       "'a politically organized body of people under a single government'"
      ]
     },
     "execution_count": 24,
     "metadata": {},
     "output_type": "execute_result"
    }
   ],
   "source": [
    "syn[0].definition()"
   ]
  },
  {
   "cell_type": "markdown",
   "metadata": {},
   "source": [
    "Example of how the sysnonym word has been used in sentence"
   ]
  },
  {
   "cell_type": "code",
   "execution_count": 25,
   "metadata": {},
   "outputs": [
    {
     "data": {
      "text/plain": [
       "['the state has elected a new president',\n",
       " 'African nations',\n",
       " \"students who had come to the nation's capitol\",\n",
       " \"the country's largest manufacturer\",\n",
       " 'an industrialized land']"
      ]
     },
     "execution_count": 25,
     "metadata": {},
     "output_type": "execute_result"
    }
   ],
   "source": [
    "syn[0].examples()"
   ]
  },
  {
   "cell_type": "markdown",
   "metadata": {},
   "source": [
    "Get the synonym word using lemmas function"
   ]
  },
  {
   "cell_type": "code",
   "execution_count": 26,
   "metadata": {},
   "outputs": [
    {
     "data": {
      "text/plain": [
       "'state'"
      ]
     },
     "execution_count": 26,
     "metadata": {},
     "output_type": "execute_result"
    }
   ],
   "source": [
    "syn[0].lemmas()[0].name()"
   ]
  },
  {
   "cell_type": "markdown",
   "metadata": {},
   "source": [
    "Antonyms<br/>\n",
    "Antonyms is a word opposite in meaning to another (e.g. bad and good ).\"\""
   ]
  },
  {
   "cell_type": "code",
   "execution_count": 27,
   "metadata": {},
   "outputs": [
    {
     "name": "stdout",
     "output_type": "stream",
     "text": [
      "Synonyms for the word country\n",
      " ['happy', 'felicitous', 'happy', 'glad', 'happy', 'happy', 'well-chosen'] \n",
      "Antonyms for the the synonyms\n",
      " ['unhappy']\n"
     ]
    }
   ],
   "source": [
    "synonyms = [] \n",
    "antonyms = [] \n",
    "  \n",
    "for syn in wordnet.synsets(\"happy\"): \n",
    "    for l in syn.lemmas(): \n",
    "        synonyms.append(l.name()) \n",
    "        if l.antonyms(): \n",
    "            antonyms.append(l.antonyms()[0].name()) \n",
    "            \n",
    "print('Synonyms for the word country\\n',synonyms,'\\nAntonyms for the the synonyms\\n',antonyms)\n"
   ]
  },
  {
   "cell_type": "markdown",
   "metadata": {},
   "source": [
    "##### Vectorization\n",
    "This is the process of encoding text data into integers (vectors) where a compter model can understand and process.\n",
    "Techniques for Text Vectorization Include;\n",
    "1. Count Vectorizations - Document Term\n",
    "2. Term Frequency - Inverse Document Frequency (TF-IDF)\n",
    "3. Bag of Word (BoW)\n",
    "4. Continous Bag of Word (CBoW)\n",
    "5. Skip-Gram\n",
    "6. N-grams\n",
    "7. Word Embedding - Word2Vec\n",
    "8. Sentence Embedding - Sent2Vec\n",
    "9. Document Embedding - Doc2Vec\n",
    "10. Character Embedding - Char2Vec\n",
    "\n",
    "--- \n",
    "Each of the technique will be covered in details in different session"
   ]
  }
 ],
 "metadata": {
  "kernelspec": {
   "display_name": "Python 3",
   "language": "python",
   "name": "python3"
  },
  "language_info": {
   "codemirror_mode": {
    "name": "ipython",
    "version": 3
   },
   "file_extension": ".py",
   "mimetype": "text/x-python",
   "name": "python",
   "nbconvert_exporter": "python",
   "pygments_lexer": "ipython3",
   "version": "3.6.5"
  }
 },
 "nbformat": 4,
 "nbformat_minor": 2
}
